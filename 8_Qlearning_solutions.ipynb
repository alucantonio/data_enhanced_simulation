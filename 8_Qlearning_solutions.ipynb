{
 "cells": [
  {
   "cell_type": "markdown",
   "metadata": {},
   "source": [
    "# Deep Q-learning"
   ]
  },
  {
   "cell_type": "markdown",
   "metadata": {},
   "source": [
    "Recall: the state-value is the expected cumulative reward $v_{\\pi}(s_t) = \\mathbb{E}_\\pi[\\sum_{k=0} w_k R_{t+k+1}]$, where $w_k$ are weights and $R_i$ are future rewards starting from $s_t$ ($R_{t+1}$ is the reward observed by taking\n",
    "the action $a_t$ from $s_t$) and following the policy $\\pi$ (the expectation is taken over all possible _trajectories_ starting from $s_t$). In general, the weights should discount future rewards\n",
    "compared to recent ones, i.e. $w_k = \\gamma^k$, with  $0 \\leq \\gamma \\leq 1$ the _discount factor_.\n",
    "\n",
    "Similarly, the action-value function $Q_\\pi(s,a)$ takes a state and an action as inputs and returns the value of taking that action given that state and\n",
    "following $\\pi$. A Q function can be represented by a _Q-table_, where each entry corresponds to a state-action pair value. This table can be _very_ large if the state space is very\n",
    "large. \n",
    "\n",
    "Notice that when we have an optimal Q function, we have an optimal policy since we know the best action to take at each state: $\\pi(s) = \\argmax_a Q(s,a)$."
   ]
  },
  {
   "cell_type": "markdown",
   "metadata": {
    "vscode": {
     "languageId": "plaintext"
    }
   },
   "source": [
    "The problem is that to calculate EACH value of a state or a state-action pair, we need\n",
    "to sum all the rewards an agent can get if it starts at that state. The **Bellmann\n",
    "Equation** simplifies the calculation of the value function:\n",
    "\n",
    "$$v_\\pi(s_t) = \\mathbb{E}_\\pi[R_{t+1} + \\gamma v_\\pi(s_{t+1})].$$"
   ]
  },
  {
   "cell_type": "markdown",
   "metadata": {},
   "source": [
    "Analogously, for the _optimal action-value function_ $q_\\star(s,a) = \\textrm{max}_\\pi\\,\n",
    "Q_\\pi(s,a)$ it holds\n",
    "\n",
    "$$q_\\star(s_t,a_t) = \\mathbb{E}[R_{t+1} + \\gamma\\,\\textrm{max}_{a}\\,q_\\star(s_{t+1},a)].$$"
   ]
  },
  {
   "cell_type": "markdown",
   "metadata": {
    "vscode": {
     "languageId": "plaintext"
    }
   },
   "source": [
    "**Q-learning**: algorithm that learns to predict the value of a\n",
    "state-action pair (Q function); the prediction is compared to the observed accumulated rewards at\n",
    "some later time to update the parameters of the algorithm. \n",
    "Based on the Bellmann equation for $q_\\star$, Q-learning algorithms use the update rule ($\\alpha$ is\n",
    "the _learning rate_ and $Q$ is the optimal action-value function)\n",
    "\n",
    "$$Q(s_t,a_t) \\leftarrow Q(s_t,a_t) + \\alpha[R_{t+1}+ \\gamma \\max Q(s_{t+1},a)-Q(s_t,a_t)] $$\n",
    "\n",
    "i.e., the $Q$ value at time $t$ is updated to be the current predicted $Q$ value plus the\n",
    "(discounted) amount of value we expect in the future (state $s_{t+1}$), given that we\n",
    "play optimally from our current state. "
   ]
  },
  {
   "cell_type": "markdown",
   "metadata": {},
   "source": [
    "<figure>\n",
    "    <img src=\"Qlearning_algo.png\" alt=\"Caption\" width=\"800\" />\n",
    "    <figcaption>Q-learning algorithm (taken from huggingface.co).</figcaption>\n",
    "</figure>"
   ]
  },
  {
   "cell_type": "markdown",
   "metadata": {},
   "source": [
    "## Solving the Gridworld environment with (Deep) Q-learning"
   ]
  },
  {
   "cell_type": "markdown",
   "metadata": {},
   "source": [
    "_Gridworld_ is a game where the player moves on a square board (or grid). The player has\n",
    "to reach the goal (+), avoiding the wall (W) and the pit (-). Every nonwinning move\n",
    "receives -1 as a reward. The winning move (reaching the goal) receives a +10, while\n",
    "there is a -10 reward for losing the game (landing on the pit)."
   ]
  },
  {
   "cell_type": "code",
   "execution_count": 1,
   "metadata": {},
   "outputs": [],
   "source": [
    "from Gridworld import Gridworld\n",
    "import numpy as np\n",
    "import jax.numpy as jnp\n",
    "import random\n",
    "from matplotlib import pylab as plt\n",
    "from flax import nnx\n",
    "import optax\n",
    "# static = start from predetermined configuration (for player and objects)\n",
    "# player = just the player is initialized at random location\n",
    "# random = both player and objects are randomly placed\n",
    "game = Gridworld(size=4, mode='static')"
   ]
  },
  {
   "cell_type": "code",
   "execution_count": 2,
   "metadata": {},
   "outputs": [
    {
     "data": {
      "text/plain": [
       "array([['+', '-', ' ', 'P'],\n",
       "       [' ', 'W', ' ', ' '],\n",
       "       [' ', ' ', ' ', ' '],\n",
       "       [' ', ' ', ' ', ' ']], dtype='<U2')"
      ]
     },
     "execution_count": 2,
     "metadata": {},
     "output_type": "execute_result"
    }
   ],
   "source": [
    "# display current state\n",
    "game.display()"
   ]
  },
  {
   "cell_type": "code",
   "execution_count": 3,
   "metadata": {},
   "outputs": [
    {
     "data": {
      "text/plain": [
       "array([['+', '-', ' ', ' '],\n",
       "       [' ', 'W', ' ', ' '],\n",
       "       [' ', ' ', 'P', ' '],\n",
       "       [' ', ' ', ' ', ' ']], dtype='<U2')"
      ]
     },
     "execution_count": 3,
     "metadata": {},
     "output_type": "execute_result"
    }
   ],
   "source": [
    "# example moves\n",
    "game.makeMove('d')\n",
    "game.makeMove('d')\n",
    "game.makeMove('l')\n",
    "game.display()"
   ]
  },
  {
   "cell_type": "code",
   "execution_count": 4,
   "metadata": {},
   "outputs": [
    {
     "data": {
      "text/plain": [
       "-1"
      ]
     },
     "execution_count": 4,
     "metadata": {},
     "output_type": "execute_result"
    }
   ],
   "source": [
    "game.reward()"
   ]
  },
  {
   "cell_type": "code",
   "execution_count": 5,
   "metadata": {},
   "outputs": [
    {
     "data": {
      "text/plain": [
       "array([[[0, 0, 0, 0],\n",
       "        [0, 0, 0, 0],\n",
       "        [0, 0, 1, 0],\n",
       "        [0, 0, 0, 0]],\n",
       "\n",
       "       [[1, 0, 0, 0],\n",
       "        [0, 0, 0, 0],\n",
       "        [0, 0, 0, 0],\n",
       "        [0, 0, 0, 0]],\n",
       "\n",
       "       [[0, 1, 0, 0],\n",
       "        [0, 0, 0, 0],\n",
       "        [0, 0, 0, 0],\n",
       "        [0, 0, 0, 0]],\n",
       "\n",
       "       [[0, 0, 0, 0],\n",
       "        [0, 1, 0, 0],\n",
       "        [0, 0, 0, 0],\n",
       "        [0, 0, 0, 0]]], dtype=uint8)"
      ]
     },
     "execution_count": 5,
     "metadata": {},
     "output_type": "execute_result"
    }
   ],
   "source": [
    "# representation of the state as a 4x4x4 tensor, i.e. one-hot encoding of (player, goal,\n",
    "# pit, wall) locations\n",
    "game.board.render_np()"
   ]
  },
  {
   "cell_type": "code",
   "execution_count": 6,
   "metadata": {},
   "outputs": [],
   "source": [
    "action_set = {\n",
    "    0: 'u',\n",
    "    1: 'd',\n",
    "    2: 'l',\n",
    "    3: 'r',\n",
    "}"
   ]
  },
  {
   "cell_type": "markdown",
   "metadata": {},
   "source": [
    "1. Build a neural network to represent Q function. More precisely, the network represents a\n",
    "vector-valued Q function that accepts a state and returns a _vector_ of state-action\n",
    "values, one for each possible action. Suggested architecture: 2 hidden layers (150 and\n",
    "100 units, respectively), with ReLU activations. The input to the network should be the\n",
    "state represented as a 1x64 array. "
   ]
  },
  {
   "cell_type": "code",
   "execution_count": 7,
   "metadata": {},
   "outputs": [],
   "source": [
    "class Model(nnx.Module):\n",
    "  def __init__(self, l1, l2, l3, l4, rngs: nnx.Rngs):\n",
    "    self.linear1 = nnx.Linear(l1, l2, rngs=rngs)\n",
    "    self.linear2 = nnx.Linear(l2, l3, rngs=rngs)\n",
    "    self.linear3 = nnx.Linear(l3, l4, rngs=rngs)\n",
    "\n",
    "  def __call__(self, x):\n",
    "    y = nnx.relu(self.linear1(x))\n",
    "    y = nnx.relu(self.linear2(y))\n",
    "    y = self.linear3(y)\n",
    "    return y\n",
    "\n",
    "l1 = 64 # input: state as a 1x64 vector\n",
    "l2 = 150\n",
    "l3 = 100\n",
    "l4 = 4 # outputs\n",
    "\n",
    "model = Model(l1, l2, l3, l4, nnx.Rngs(0))"
   ]
  },
  {
   "cell_type": "markdown",
   "metadata": {},
   "source": [
    "2. Define the function that computes the *loss function* for training the Q-network,\n",
    "   i.e. the mean squared error between the Q-value predicted by the network for the\n",
    "   current action and the _target_ given by the update rule above (assuming $\\alpha=1$\n",
    "   and $\\gamma=0.9$). Take actions according to a $\\epsilon$-greedy policy."
   ]
  },
  {
   "cell_type": "code",
   "execution_count": 8,
   "metadata": {},
   "outputs": [],
   "source": [
    "learning_rate = 1e-3\n",
    "optimizer = nnx.ModelAndOptimizer(model, optax.adam(learning_rate))\n",
    "\n",
    "gamma = 0.9\n",
    "epsilon = 1.0\n",
    "\n",
    "def loss_fn(model, state):\n",
    "    qval = model(state)\n",
    "    if (random.random() < epsilon):\n",
    "        action_ = np.random.randint(0,4)\n",
    "    else:\n",
    "        action_ = int(np.argmax(qval))\n",
    "    \n",
    "    action = action_set[action_]\n",
    "    game.makeMove(action)\n",
    "    state2 = game.board.render_np().reshape(1,64) + np.random.rand(1,64)/10.0\n",
    "    reward = game.reward()\n",
    "    newQ = model(state2.reshape(1,64))\n",
    "    maxQ = np.max(newQ)\n",
    "    if reward == -1:\n",
    "        Y = reward + (gamma * maxQ)\n",
    "    else:\n",
    "        Y = reward\n",
    "    Y = jnp.asarray([Y])\n",
    "    X = jnp.array([qval.squeeze()[action_]])\n",
    "\n",
    "    return optax.losses.squared_error(X, Y).mean(), (reward, state2)"
   ]
  },
  {
   "cell_type": "markdown",
   "metadata": {},
   "source": [
    "2. Define the function that performs a *training epoch*, i.e. updates the Q-network's\n",
    "   weights based on the gradient of the loss. "
   ]
  },
  {
   "cell_type": "code",
   "execution_count": 9,
   "metadata": {},
   "outputs": [],
   "source": [
    "def _train_epoch(model, optimizer, state, game):\n",
    "    loss_and_aux, grads = nnx.value_and_grad(loss_fn, has_aux=True)(model, state)\n",
    "    optimizer.update(grads)\n",
    "    loss, aux = loss_and_aux\n",
    "    reward, state2 = aux\n",
    "\n",
    "    return loss, reward, state2"
   ]
  },
  {
   "cell_type": "markdown",
   "metadata": {},
   "source": [
    "3. Train the Q-network by playing games."
   ]
  },
  {
   "cell_type": "code",
   "execution_count": 10,
   "metadata": {},
   "outputs": [],
   "source": [
    "games = 1000\n",
    "losses = []\n",
    "for i in range(games):\n",
    "    game = Gridworld(size=4, mode='static')\n",
    "    # add some noise to the initial state (because most of the state elements are 0,\n",
    "    # potential problem with ReLU activations)\n",
    "    state1 = game.board.render_np().reshape(1,64) + np.random.rand(1,64)/10.0\n",
    "    status = 1\n",
    "    while(status == 1):\n",
    "        loss, reward, state1 = _train_epoch(model, optimizer, state1, game)\n",
    "        losses.append(loss.item())\n",
    "        if reward != -1:\n",
    "            status = 0\n",
    "    # reduce epsilon as learning progresses\n",
    "    if epsilon > 0.1:\n",
    "        epsilon -= (1/games)"
   ]
  },
  {
   "cell_type": "code",
   "execution_count": 17,
   "metadata": {},
   "outputs": [
    {
     "data": {
      "image/png": "[encoded data removed]",
      "text/plain": [
       "<Figure size 640x480 with 1 Axes>"
      ]
     },
     "metadata": {},
     "output_type": "display_data"
    }
   ],
   "source": [
    "plt.plot(losses)\n",
    "plt.xlabel(\"Epochs\")\n",
    "plt.ylabel(\"Loss\")\n",
    "plt.show()"
   ]
  },
  {
   "cell_type": "code",
   "execution_count": 18,
   "metadata": {},
   "outputs": [],
   "source": [
    "# Helper function to play games with trained models\n",
    "\n",
    "def test_model(model, mode='static', display=True):\n",
    "    i = 0\n",
    "    test_game = Gridworld(mode=mode)\n",
    "    state = test_game.board.render_np().reshape(1,64) + np.random.rand(1,64)/10.0\n",
    "    if display:\n",
    "        print(\"Initial State:\")\n",
    "        print(test_game.display())\n",
    "    status = 1\n",
    "    while(status == 1):\n",
    "        qval = model(state)\n",
    "        action_ = int(np.argmax(qval))\n",
    "        action = action_set[action_]\n",
    "        if display:\n",
    "            print('Move #: %s; Taking action: %s' % (i, action))\n",
    "        test_game.makeMove(action)\n",
    "        state = test_game.board.render_np().reshape(1,64) + np.random.rand(1,64)/10.0\n",
    "        if display:\n",
    "            print(test_game.display())\n",
    "        reward = test_game.reward()\n",
    "        if reward != -1:\n",
    "            if reward > 0:\n",
    "                status = 2\n",
    "                if display:\n",
    "                    print(\"Game won! Reward: %s\" % (reward,))\n",
    "            else:\n",
    "                status = 0\n",
    "                if display:\n",
    "                    print(\"Game LOST. Reward: %s\" % (reward,))\n",
    "        i += 1\n",
    "        if (i > 15):\n",
    "            if display:\n",
    "                print(\"Game lost; too many moves.\")\n",
    "            break\n",
    "    \n",
    "    win = True if status == 2 else False\n",
    "    return win"
   ]
  },
  {
   "cell_type": "markdown",
   "metadata": {},
   "source": [
    "4. Test the model starting from the training initial condition and from a random one\n",
    "   (repeat multiple times and notice _catastrophic forgetting_)"
   ]
  },
  {
   "cell_type": "code",
   "execution_count": 19,
   "metadata": {},
   "outputs": [
    {
     "name": "stdout",
     "output_type": "stream",
     "text": [
      "Initial State:\n",
      "[['+' '-' ' ' 'P']\n",
      " [' ' 'W' ' ' ' ']\n",
      " [' ' ' ' ' ' ' ']\n",
      " [' ' ' ' ' ' ' ']]\n",
      "Move #: 0; Taking action: d\n",
      "[['+' '-' ' ' ' ']\n",
      " [' ' 'W' ' ' 'P']\n",
      " [' ' ' ' ' ' ' ']\n",
      " [' ' ' ' ' ' ' ']]\n",
      "Move #: 1; Taking action: d\n",
      "[['+' '-' ' ' ' ']\n",
      " [' ' 'W' ' ' ' ']\n",
      " [' ' ' ' ' ' 'P']\n",
      " [' ' ' ' ' ' ' ']]\n",
      "Move #: 2; Taking action: d\n",
      "[['+' '-' ' ' ' ']\n",
      " [' ' 'W' ' ' ' ']\n",
      " [' ' ' ' ' ' ' ']\n",
      " [' ' ' ' ' ' 'P']]\n",
      "Move #: 3; Taking action: d\n",
      "[['+' '-' ' ' ' ']\n",
      " [' ' 'W' ' ' ' ']\n",
      " [' ' ' ' ' ' ' ']\n",
      " [' ' ' ' ' ' 'P']]\n",
      "Move #: 4; Taking action: d\n",
      "[['+' '-' ' ' ' ']\n",
      " [' ' 'W' ' ' ' ']\n",
      " [' ' ' ' ' ' ' ']\n",
      " [' ' ' ' ' ' 'P']]\n",
      "Move #: 5; Taking action: d\n",
      "[['+' '-' ' ' ' ']\n",
      " [' ' 'W' ' ' ' ']\n",
      " [' ' ' ' ' ' ' ']\n",
      " [' ' ' ' ' ' 'P']]\n",
      "Move #: 6; Taking action: d\n",
      "[['+' '-' ' ' ' ']\n",
      " [' ' 'W' ' ' ' ']\n",
      " [' ' ' ' ' ' ' ']\n",
      " [' ' ' ' ' ' 'P']]\n",
      "Move #: 7; Taking action: d\n",
      "[['+' '-' ' ' ' ']\n",
      " [' ' 'W' ' ' ' ']\n",
      " [' ' ' ' ' ' ' ']\n",
      " [' ' ' ' ' ' 'P']]\n",
      "Move #: 8; Taking action: d\n",
      "[['+' '-' ' ' ' ']\n",
      " [' ' 'W' ' ' ' ']\n",
      " [' ' ' ' ' ' ' ']\n",
      " [' ' ' ' ' ' 'P']]\n",
      "Move #: 9; Taking action: d\n",
      "[['+' '-' ' ' ' ']\n",
      " [' ' 'W' ' ' ' ']\n",
      " [' ' ' ' ' ' ' ']\n",
      " [' ' ' ' ' ' 'P']]\n",
      "Move #: 10; Taking action: d\n",
      "[['+' '-' ' ' ' ']\n",
      " [' ' 'W' ' ' ' ']\n",
      " [' ' ' ' ' ' ' ']\n",
      " [' ' ' ' ' ' 'P']]\n",
      "Move #: 11; Taking action: d\n",
      "[['+' '-' ' ' ' ']\n",
      " [' ' 'W' ' ' ' ']\n",
      " [' ' ' ' ' ' ' ']\n",
      " [' ' ' ' ' ' 'P']]\n",
      "Move #: 12; Taking action: d\n",
      "[['+' '-' ' ' ' ']\n",
      " [' ' 'W' ' ' ' ']\n",
      " [' ' ' ' ' ' ' ']\n",
      " [' ' ' ' ' ' 'P']]\n",
      "Move #: 13; Taking action: d\n",
      "[['+' '-' ' ' ' ']\n",
      " [' ' 'W' ' ' ' ']\n",
      " [' ' ' ' ' ' ' ']\n",
      " [' ' ' ' ' ' 'P']]\n",
      "Move #: 14; Taking action: d\n",
      "[['+' '-' ' ' ' ']\n",
      " [' ' 'W' ' ' ' ']\n",
      " [' ' ' ' ' ' ' ']\n",
      " [' ' ' ' ' ' 'P']]\n",
      "Move #: 15; Taking action: d\n",
      "[['+' '-' ' ' ' ']\n",
      " [' ' 'W' ' ' ' ']\n",
      " [' ' ' ' ' ' ' ']\n",
      " [' ' ' ' ' ' 'P']]\n",
      "Game lost; too many moves.\n"
     ]
    },
    {
     "data": {
      "text/plain": [
       "False"
      ]
     },
     "execution_count": 19,
     "metadata": {},
     "output_type": "execute_result"
    }
   ],
   "source": [
    "test_model(model, 'static')"
   ]
  },
  {
   "cell_type": "code",
   "execution_count": 20,
   "metadata": {},
   "outputs": [
    {
     "name": "stdout",
     "output_type": "stream",
     "text": [
      "Initial State:\n",
      "[[' ' 'W' ' ' ' ']\n",
      " [' ' ' ' ' ' ' ']\n",
      " ['+' ' ' '-' ' ']\n",
      " ['P' ' ' ' ' ' ']]\n",
      "Move #: 0; Taking action: u\n",
      "[[' ' 'W' ' ' ' ']\n",
      " [' ' ' ' ' ' ' ']\n",
      " ['+' ' ' '-' ' ']\n",
      " [' ' ' ' ' ' ' ']]\n",
      "Game won! Reward: 10\n"
     ]
    },
    {
     "data": {
      "text/plain": [
       "True"
      ]
     },
     "execution_count": 20,
     "metadata": {},
     "output_type": "execute_result"
    }
   ],
   "source": [
    "test_model(model, 'random')"
   ]
  },
  {
   "cell_type": "markdown",
   "metadata": {},
   "source": [
    "### Introducing experience replay"
   ]
  },
  {
   "cell_type": "markdown",
   "metadata": {},
   "source": [
    "We can use **experience replay** to counter _catastrophic forgetting_ (i.e. similar\n",
    "games with very different outcomes, leading to inability to properly learn anything).\n",
    "Here is the algorithm:\n",
    "1. In state $s_t$ take action $a_t$ and observe the new state $s_{t+1}$ and reward $R_{t+1}$.\n",
    "2. Store the tuple $(s_t, a_t, s_{t+1}, R_{t+1})$ in the replay buffer.\n",
    "3. Continue to store each experience in the buffer until you have filled it to a\n",
    "   specific length.\n",
    "4. Once the experience replay memory is filled, randomly select a batch (with a given\n",
    "   batch size).\n",
    "5. Calculate updates of the $Q$ value for each element of the batch and store them in a\n",
    "   target array ($Y$).\n",
    "6. Use the Q-value predicted by the network for each state-action in the batch and the\n",
    "   updates $Y$ for training (updating the parameters of the network). For subsequent\n",
    "   moves where the replay memory is full, overwrite old values."
   ]
  },
  {
   "cell_type": "markdown",
   "metadata": {},
   "source": [
    "Use the following class for the replay buffer to implement Q-learning with experience replay."
   ]
  },
  {
   "cell_type": "code",
   "execution_count": 91,
   "metadata": {},
   "outputs": [],
   "source": [
    "import random\n",
    "from collections import deque\n",
    "import numpy as np\n",
    "\n",
    "class ReplayBuffer:\n",
    "    def __init__(self, max_size):\n",
    "        # a deque is a list with a maximum size, so that if you try to append something\n",
    "        # when it is already full, it will overwrite the first item in the list\n",
    "        self.buffer = deque(maxlen=max_size)\n",
    "\n",
    "    def add(self, experience):\n",
    "        self.buffer.append(experience)\n",
    "\n",
    "    def sample(self, batch_size):\n",
    "        batch = random.sample(self.buffer, batch_size)\n",
    "        return map(np.array, zip(*batch))\n",
    "\n",
    "    def size(self):\n",
    "        return len(self.buffer)"
   ]
  },
  {
   "cell_type": "code",
   "execution_count": 92,
   "metadata": {},
   "outputs": [],
   "source": [
    "# Use the same model and optimizer definitions as before\n",
    "l1 = 64\n",
    "l2 = 150\n",
    "l3 = 100\n",
    "l4 = 4\n",
    "\n",
    "model = Model(l1, l2, l3, l4, nnx.Rngs(0))\n",
    "\n",
    "learning_rate = 1e-3\n",
    "optimizer = nnx.ModelAndOptimizer(model, optax.adam(learning_rate))"
   ]
  },
  {
   "cell_type": "markdown",
   "metadata": {},
   "source": [
    "1. Implement the loss function and the Q-learning update function (look at the `train`\n",
    "   function below first to understand what the arguments and return values of the update\n",
    "   function are). Make them suitable to be jitted using `nnx.jit` (i.e. only use\n",
    "   jax-compatible operations)."
   ]
  },
  {
   "cell_type": "code",
   "execution_count": 93,
   "metadata": {},
   "outputs": [],
   "source": [
    "@nnx.jit\n",
    "def loss_fn(model, states, q_updates, actions):\n",
    "    # compute Q-values for all actions, for all states in the batch\n",
    "    q_values = model(states)\n",
    "    # use jnp.take_along_axis to select the Q-values corresponding to the taken actions\n",
    "    q_value = jnp.take_along_axis(q_values, actions, axis=1)\n",
    "    loss = optax.losses.squared_error(q_value, q_updates).mean()\n",
    "    return loss\n",
    "\n",
    "@nnx.jit\n",
    "def q_learning_update(model, states, actions, rewards, next_states, dones, optimizer):\n",
    "    # compute Q-values for next states\n",
    "    next_q_values = model(next_states)\n",
    "    # compute max Q-value for next states (reshape to be a column vector)\n",
    "    max_next_q_values = jnp.max(next_q_values, axis=1).reshape(-1,1)\n",
    "\n",
    "    q_updates = rewards + gamma * max_next_q_values * (1 - dones)\n",
    "\n",
    "    loss, gradients = nnx.value_and_grad(loss_fn)(model, states, q_updates, actions)\n",
    "    optimizer.update(gradients)\n",
    "    \n",
    "    return loss"
   ]
  },
  {
   "cell_type": "markdown",
   "metadata": {},
   "source": [
    "2. Train the Q-network with experience replay by playing games."
   ]
  },
  {
   "cell_type": "code",
   "execution_count": 94,
   "metadata": {},
   "outputs": [],
   "source": [
    "replay_buffer_size = 1000\n",
    "batch_size = 200\n",
    "games = 5000 \n",
    "epsilon = 0.3\n",
    "gamma = 0.9\n",
    "losses = []\n",
    "total_rewards = []\n",
    "max_moves = 50\n",
    "\n",
    "def train():\n",
    "    replay_buffer = ReplayBuffer(replay_buffer_size)\n",
    "\n",
    "    for i in range(games):\n",
    "        game = Gridworld(size=4, mode='random')\n",
    "        state = game.board.render_np().flatten() + np.random.rand(64)/100.0\n",
    "        mov = 0\n",
    "        done = False\n",
    "        total_reward = 0\n",
    "\n",
    "        while not done:\n",
    "            mov += 1\n",
    "            if (random.random() < epsilon):\n",
    "                action_ = np.random.randint(0,4)\n",
    "            else:\n",
    "                qval = model(state)\n",
    "                action_ = int(np.argmax(qval))\n",
    "            \n",
    "            action = action_set[action_]\n",
    "            game.makeMove(action)\n",
    "            next_state = game.board.render_np().flatten() + np.random.rand(64)/100.0\n",
    "            reward = game.reward()\n",
    "\n",
    "            if reward != -1 or mov > max_moves:\n",
    "                done = True\n",
    "\n",
    "            replay_buffer.add((state, np.array([action_]), np.array([reward]), next_state, np.array([done])))\n",
    "\n",
    "            if replay_buffer.size() >= batch_size:\n",
    "                batch = replay_buffer.sample(batch_size)\n",
    "                states, actions, rewards, next_states, dones = batch\n",
    "                # states: (batch_size, 64)\n",
    "                # actions: (batch_size, 1)\n",
    "                # rewards: (batch_size, 1)\n",
    "                # next_states: (batch_size, 64)\n",
    "                # dones: (batch_size, 1)\n",
    "                loss = q_learning_update(model, states, actions, rewards, next_states, dones, optimizer)\n",
    "                losses.append(loss)\n",
    "\n",
    "            state = next_state\n",
    "            total_reward += reward\n",
    "\n",
    "\n",
    "        total_rewards.append(total_reward)\n",
    "\n",
    "        if i%100 == 0:\n",
    "            print(f\"Game: {i}, Total Reward: {total_reward}\")"
   ]
  },
  {
   "cell_type": "code",
   "execution_count": 95,
   "metadata": {},
   "outputs": [
    {
     "name": "stdout",
     "output_type": "stream",
     "text": [
      "Game: 0, Total Reward: -51\n",
      "Game: 100, Total Reward: 10\n",
      "Game: 200, Total Reward: 10\n",
      "Game: 300, Total Reward: -51\n",
      "Game: 400, Total Reward: 10\n",
      "Game: 500, Total Reward: -5\n",
      "Game: 600, Total Reward: 10\n",
      "Game: 700, Total Reward: 7\n",
      "Game: 800, Total Reward: -18\n",
      "Game: 900, Total Reward: -7\n",
      "Game: 1000, Total Reward: 3\n",
      "Game: 1100, Total Reward: 7\n",
      "Game: 1200, Total Reward: 5\n",
      "Game: 1300, Total Reward: 10\n",
      "Game: 1400, Total Reward: 9\n",
      "Game: 1500, Total Reward: 4\n",
      "Game: 1600, Total Reward: 1\n",
      "Game: 1700, Total Reward: 6\n",
      "Game: 1800, Total Reward: 9\n",
      "Game: 1900, Total Reward: 9\n",
      "Game: 2000, Total Reward: 8\n",
      "Game: 2100, Total Reward: 7\n",
      "Game: 2200, Total Reward: 8\n",
      "Game: 2300, Total Reward: 6\n",
      "Game: 2400, Total Reward: 7\n",
      "Game: 2500, Total Reward: 5\n",
      "Game: 2600, Total Reward: 4\n",
      "Game: 2700, Total Reward: 8\n",
      "Game: 2800, Total Reward: 9\n",
      "Game: 2900, Total Reward: 4\n",
      "Game: 3000, Total Reward: 7\n",
      "Game: 3100, Total Reward: 9\n",
      "Game: 3200, Total Reward: -22\n",
      "Game: 3300, Total Reward: 6\n",
      "Game: 3400, Total Reward: 7\n",
      "Game: 3500, Total Reward: 10\n",
      "Game: 3600, Total Reward: 6\n",
      "Game: 3700, Total Reward: 1\n",
      "Game: 3800, Total Reward: 7\n",
      "Game: 3900, Total Reward: 10\n",
      "Game: 4000, Total Reward: 10\n",
      "Game: 4100, Total Reward: 5\n",
      "Game: 4200, Total Reward: 6\n",
      "Game: 4300, Total Reward: 9\n",
      "Game: 4400, Total Reward: 5\n",
      "Game: 4500, Total Reward: 10\n",
      "Game: 4600, Total Reward: 5\n",
      "Game: 4700, Total Reward: -8\n",
      "Game: 4800, Total Reward: 8\n",
      "Game: 4900, Total Reward: 8\n"
     ]
    }
   ],
   "source": [
    "train()"
   ]
  },
  {
   "cell_type": "code",
   "execution_count": 96,
   "metadata": {},
   "outputs": [],
   "source": [
    "losses = np.array(losses)\n",
    "total_rewards = np.array(total_rewards)"
   ]
  },
  {
   "cell_type": "code",
   "execution_count": 97,
   "metadata": {},
   "outputs": [],
   "source": [
    "def running_mean(x,N=50):\n",
    "    c = x.shape[0] - N\n",
    "    y = np.zeros(c)\n",
    "    conv = np.ones(N)\n",
    "    for i in range(c):\n",
    "        y[i] = (x[i:i+N] @ conv)/N\n",
    "    return y\n"
   ]
  },
  {
   "cell_type": "code",
   "execution_count": 98,
   "metadata": {},
   "outputs": [
    {
     "data": {
      "image/png": "[encoded data removed]",
      "text/plain": [
       "<Figure size 640x480 with 1 Axes>"
      ]
     },
     "metadata": {},
     "output_type": "display_data"
    }
   ],
   "source": [
    "plt.plot(losses)\n",
    "plt.xlabel(\"Episodes\")\n",
    "plt.ylabel(\"Loss\")\n",
    "plt.show()"
   ]
  },
  {
   "cell_type": "code",
   "execution_count": 99,
   "metadata": {},
   "outputs": [
    {
     "data": {
      "image/png": "[encoded data removed]",
      "text/plain": [
       "<Figure size 640x480 with 1 Axes>"
      ]
     },
     "metadata": {},
     "output_type": "display_data"
    }
   ],
   "source": [
    "plt.plot(running_mean(total_rewards))\n",
    "plt.xlabel(\"Episodes\")\n",
    "plt.ylabel(\"Total reward\")\n",
    "plt.show()"
   ]
  },
  {
   "cell_type": "markdown",
   "metadata": {},
   "source": [
    "3. Test the model with a random initial condition using the `test_model` helper function."
   ]
  },
  {
   "cell_type": "code",
   "execution_count": 100,
   "metadata": {},
   "outputs": [
    {
     "name": "stdout",
     "output_type": "stream",
     "text": [
      "Initial State:\n",
      "[[' ' ' ' ' ' ' ']\n",
      " ['P' ' ' ' ' ' ']\n",
      " ['-' 'W' ' ' '+']\n",
      " [' ' ' ' ' ' ' ']]\n",
      "Move #: 0; Taking action: r\n",
      "[[' ' ' ' ' ' ' ']\n",
      " [' ' 'P' ' ' ' ']\n",
      " ['-' 'W' ' ' '+']\n",
      " [' ' ' ' ' ' ' ']]\n",
      "Move #: 1; Taking action: r\n",
      "[[' ' ' ' ' ' ' ']\n",
      " [' ' ' ' 'P' ' ']\n",
      " ['-' 'W' ' ' '+']\n",
      " [' ' ' ' ' ' ' ']]\n",
      "Move #: 2; Taking action: d\n",
      "[[' ' ' ' ' ' ' ']\n",
      " [' ' ' ' ' ' ' ']\n",
      " ['-' 'W' 'P' '+']\n",
      " [' ' ' ' ' ' ' ']]\n",
      "Move #: 3; Taking action: r\n",
      "[[' ' ' ' ' ' ' ']\n",
      " [' ' ' ' ' ' ' ']\n",
      " ['-' 'W' ' ' '+']\n",
      " [' ' ' ' ' ' ' ']]\n",
      "Game won! Reward: 10\n"
     ]
    },
    {
     "data": {
      "text/plain": [
       "True"
      ]
     },
     "execution_count": 100,
     "metadata": {},
     "output_type": "execute_result"
    }
   ],
   "source": [
    "test_model(model, mode='random')"
   ]
  },
  {
   "cell_type": "markdown",
   "metadata": {},
   "source": [
    "4. Evaluate the percentage of won games out of 1000 using the trained model."
   ]
  },
  {
   "cell_type": "code",
   "execution_count": 101,
   "metadata": {},
   "outputs": [
    {
     "name": "stdout",
     "output_type": "stream",
     "text": [
      "Games played: 1000, # of wins: 872\n",
      "Win percentage: 87.2%\n"
     ]
    }
   ],
   "source": [
    "max_games = 1000\n",
    "wins = 0\n",
    "for i in range(max_games):\n",
    "    win = test_model(model, mode='random', display=False)\n",
    "    if win:\n",
    "        wins += 1\n",
    "win_perc = float(wins) / float(max_games)\n",
    "print(\"Games played: {0}, # of wins: {1}\".format(max_games,wins))\n",
    "print(\"Win percentage: {}%\".format(100.0*win_perc))"
   ]
  },
  {
   "cell_type": "markdown",
   "metadata": {},
   "source": [
    "Extensions:\n",
    "\n",
    "- Grid size: increase the grid size to make the task more challenging.\n",
    "- Action space: extend the action space (e.g., diagonal moves).\n",
    "- Multiple obstacles: add more obstacles to the environment."
   ]
  }
 ],
 "metadata": {
  "kernelspec": {
   "display_name": "alpine",
   "language": "python",
   "name": "python3"
  },
  "language_info": {
   "codemirror_mode": {
    "name": "ipython",
    "version": 3
   },
   "file_extension": ".py",
   "mimetype": "text/x-python",
   "name": "python",
   "nbconvert_exporter": "python",
   "pygments_lexer": "ipython3",
   "version": "3.12.0"
  }
 },
 "nbformat": 4,
 "nbformat_minor": 2
}
