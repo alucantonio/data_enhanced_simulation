{
 "cells": [
  {
   "cell_type": "markdown",
   "metadata": {
    "id": "R8WeEpdX4Vx2"
   },
   "source": [
    "# Introduction to Graph Neural Nets with JAX/jraph"
   ]
  },
  {
   "cell_type": "code",
   "execution_count": null,
   "metadata": {
    "id": "RJm7y6GH3WyB"
   },
   "outputs": [],
   "source": [
    "# Imports\n",
    "%matplotlib inline\n",
    "import matplotlib.pyplot as plt\n",
    "import jax\n",
    "import jax.numpy as jnp\n",
    "import jraph\n",
    "from jraph import GraphConvolution\n",
    "from flax import nnx\n",
    "import optax\n",
    "import networkx as nx\n",
    "import logging\n",
    "from tqdm.notebook import tqdm # progress bar\n",
    "\n",
    "logging.basicConfig(level=logging.INFO)"
   ]
  },
  {
   "cell_type": "markdown",
   "metadata": {
    "id": "l3Pwh9e7d8gN"
   },
   "source": [
    "To visualize the graph structure of the graph we created above, we will use the [`networkx`](networkx.org) library because it already has functions for drawing graphs.\n",
    "\n",
    "We first convert the `jraph.GraphsTuple` to a `networkx.DiGraph`."
   ]
  },
  {
   "cell_type": "code",
   "execution_count": null,
   "metadata": {
    "id": "e7q5ySSmVL3x"
   },
   "outputs": [],
   "source": [
    "def convert_jraph_to_networkx_graph(jraph_graph: jraph.GraphsTuple) -> nx.Graph:\n",
    "  nodes, edges, receivers, senders, _, _, _ = jraph_graph\n",
    "  nx_graph = nx.DiGraph()\n",
    "  if nodes is None:\n",
    "    for n in range(jraph_graph.n_node[0]):\n",
    "      nx_graph.add_node(n)\n",
    "  else:\n",
    "    for n in range(jraph_graph.n_node[0]):\n",
    "      nx_graph.add_node(n, node_feature=nodes[n])\n",
    "  if edges is None:\n",
    "    for e in range(jraph_graph.n_edge[0]):\n",
    "      nx_graph.add_edge(int(senders[e]), int(receivers[e]))\n",
    "  else:\n",
    "    for e in range(jraph_graph.n_edge[0]):\n",
    "      nx_graph.add_edge(\n",
    "          int(senders[e]), int(receivers[e]), edge_feature=edges[e])\n",
    "  return nx_graph\n",
    "\n",
    "\n",
    "def draw_jraph_graph_structure(jraph_graph: jraph.GraphsTuple) -> None:\n",
    "  nx_graph = convert_jraph_to_networkx_graph(jraph_graph)\n",
    "  pos = nx.spring_layout(nx_graph)\n",
    "  nx.draw(\n",
    "      nx_graph, pos=pos, with_labels=True, node_size=500, font_color='yellow')"
   ]
  },
  {
   "cell_type": "markdown",
   "metadata": {
    "id": "4Rt3AB2tvv1o"
   },
   "source": [
    "So far our graph convolution operation doesn't have any learnable parameters.\n",
    "Let's add an MLP block to the update function to make it trainable."
   ]
  },
  {
   "cell_type": "code",
   "execution_count": null,
   "metadata": {
    "id": "cK9W9J4GsDbC"
   },
   "outputs": [],
   "source": [
    "class MLP(nnx.Module):\n",
    "  def __init__(self, out_features, rngs: nnx.Rngs):\n",
    "    self.layers = []\n",
    "    self.layers.append(nnx.Linear(1, 8, rngs=rngs))\n",
    "    self.layers.append(nnx.relu)\n",
    "    self.layers.append(nnx.Linear(8, out_features, rngs=rngs))\n",
    "\n",
    "  def __call__(self, x):\n",
    "    y = x\n",
    "    for layer in self.layers:\n",
    "      y = layer(y)\n",
    "    return y\n",
    "\n",
    "# Use MLP block to define the update node function\n",
    "update_node_fn = lambda x: MLP(out_features=4, rngs=nnx.Rngs(0))(x)"
   ]
  },
  {
   "cell_type": "markdown",
   "metadata": {
    "id": "Z5t7kw7SE_h4"
   },
   "source": [
    "## Exercise: Node Classification with GCN on Karate Club Dataset"
   ]
  },
  {
   "cell_type": "markdown",
   "metadata": {
    "id": "IQ_w2kkWoAq4"
   },
   "source": [
    "### Zachary's Karate Club Dataset\n",
    "\n",
    "[Zachary's karate club](https://en.wikipedia.org/wiki/Zachary%27s_karate_club) is a small dataset commonly used as an example for a social graph. \n",
    "\n",
    "A node represents a student or instructor in the club. An edge means that those two people have interacted outside of the class. There are two instructors in the club.\n",
    "\n",
    "Each student is assigned to one of two instructors.\n",
    "\n",
    "The task is to predict the assignment of students to instructors, given the social graph\n",
    "and only knowing a few connections. In other words, out of the 34 nodes, only some nodes are labeled, and we are trying to optimize the assignment of the other nodes, by **maximizing the log-likelihood of the two known node assignments**.\n",
    "\n",
    "We will compute the accuracy of our node assignments by comparing to the ground-truth assignments. **Note that the ground-truth for the other student nodes is not used in the loss function itself.**"
   ]
  },
  {
   "cell_type": "markdown",
   "metadata": {
    "id": "5SE5DQoXWQJR"
   },
   "source": [
    "Let's load the dataset:"
   ]
  },
  {
   "cell_type": "code",
   "execution_count": null,
   "metadata": {
    "id": "0YGQXeGN_E3J"
   },
   "outputs": [],
   "source": [
    "def get_zacharys_karate_club() -> jraph.GraphsTuple:\n",
    "  social_graph = [\n",
    "      (1, 0), (2, 0), (2, 1), (3, 0), (3, 1), (3, 2),\n",
    "      (4, 0), (5, 0), (6, 0), (6, 4), (6, 5), (7, 0), (7, 1),\n",
    "      (7, 2), (7, 3), (8, 0), (8, 2), (9, 2), (10, 0), (10, 4),\n",
    "      (10, 5), (11, 0), (12, 0), (12, 3), (13, 0), (13, 1), (13, 2),\n",
    "      (13, 3), (16, 5), (16, 6), (17, 0), (17, 1), (19, 0), (19, 1),\n",
    "      (21, 0), (21, 1), (25, 23), (25, 24), (27, 2), (27, 23),\n",
    "      (27, 24), (28, 2), (29, 23), (29, 26), (30, 1), (30, 8),\n",
    "      (31, 0), (31, 24), (31, 25), (31, 28), (32, 2), (32, 8),\n",
    "      (32, 14), (32, 15), (32, 18), (32, 20), (32, 22), (32, 23),\n",
    "      (32, 29), (32, 30), (32, 31), (33, 8), (33, 9), (33, 13),\n",
    "      (33, 14), (33, 15), (33, 18), (33, 19), (33, 20), (33, 22),\n",
    "      (33, 23), (33, 26), (33, 27), (33, 28), (33, 29), (33, 30),\n",
    "      (33, 31), (33, 32)]\n",
    "  # Add reverse edges.\n",
    "  social_graph += [(edge[1], edge[0]) for edge in social_graph]\n",
    "  n_club_members = 34\n",
    "\n",
    "  return jraph.GraphsTuple(\n",
    "      n_node=jnp.asarray([n_club_members]),\n",
    "      n_edge=jnp.asarray([len(social_graph)]),\n",
    "      # One-hot encoding for nodes, i.e. argmax(nodes) = node index.\n",
    "      nodes=jnp.eye(n_club_members),\n",
    "      # No edge features.\n",
    "      edges=None,\n",
    "      globals=None,\n",
    "      senders=jnp.asarray([edge[0] for edge in social_graph]),\n",
    "      receivers=jnp.asarray([edge[1] for edge in social_graph]))\n",
    "\n",
    "def get_ground_truth_assignments_for_zacharys_karate_club() -> jnp.ndarray:\n",
    "  return jnp.array([0, 0, 0, 0, 0, 0, 0, 0, 0, 1, 0, 0, 0, 0, 1, 1, 0, 0, 1,\n",
    "                    0, 1, 0, 1, 1, 1, 1, 1, 1, 1, 1, 1, 1, 1, 1])\n"
   ]
  },
  {
   "cell_type": "code",
   "execution_count": null,
   "metadata": {
    "id": "RyJk-Mq7EKoU"
   },
   "outputs": [],
   "source": [
    "graph = get_zacharys_karate_club()"
   ]
  },
  {
   "cell_type": "code",
   "execution_count": null,
   "metadata": {
    "id": "K4v5LnKgEN8l"
   },
   "outputs": [],
   "source": [
    "print(f'Number of nodes: {graph.n_node[0]}')\n",
    "print(f'Number of edges: {graph.n_edge[0]}')"
   ]
  },
  {
   "cell_type": "markdown",
   "metadata": {
    "id": "Pi2DQYzjngR8"
   },
   "source": [
    "Visualize the karate club graph with circular node layout:"
   ]
  },
  {
   "cell_type": "code",
   "execution_count": null,
   "metadata": {
    "id": "-MVtGGJwg_B8"
   },
   "outputs": [],
   "source": [
    "nx_graph = convert_jraph_to_networkx_graph(graph)\n",
    "pos = nx.circular_layout(nx_graph)\n",
    "plt.figure(figsize=(6, 6))\n",
    "nx.draw(nx_graph, pos=pos, with_labels = True, node_size=500, font_color='yellow')"
   ]
  },
  {
   "cell_type": "code",
   "execution_count": null,
   "metadata": {},
   "outputs": [],
   "source": [
    "import numpy as np\n",
    "mask = np.ones(len(graph.nodes))\n",
    "mask[1:31]=0.\n",
    "\n",
    "labels = get_ground_truth_assignments_for_zacharys_karate_club()\n",
    "\n",
    "# Loss function\n",
    "@nnx.jit\n",
    "def loss_fn(model, graph, labels):\n",
    "    output_graph_nodes = model(graph)\n",
    "    loss = optax.losses.softmax_cross_entropy_with_integer_labels(output_graph_nodes, labels)\n",
    "    return jnp.mean(loss*mask)"
   ]
  },
  {
   "cell_type": "markdown",
   "metadata": {},
   "source": [
    "1. Define the GCN architecture\n",
    "2. Implement the training functions\n",
    "3. Train the GCN  \n",
    "4. Evaluate the accuracy of the model"
   ]
  },
  {
   "cell_type": "markdown",
   "metadata": {
    "id": "afMhKYScQvMp"
   },
   "source": [
    "Define the GCN architecture:"
   ]
  },
  {
   "cell_type": "code",
   "execution_count": null,
   "metadata": {
    "id": "jAMlrQnIc7iO"
   },
   "outputs": [],
   "source": [
    "class GCN(nnx.Module):\n",
    "  def __init__(self, in_features, rngs: nnx.Rngs):\n",
    "    self.layer1 = nnx.Linear(in_features, 8, rngs=rngs)\n",
    "    self.layer2 = nnx.Linear(8, 2, rngs=rngs)\n",
    "\n",
    "  def __call__(self, graph):\n",
    "    self._gn1 = GraphConvolution(update_node_fn=lambda x: nnx.relu(self.layer1(x)),\n",
    "                                add_self_edges=True)\n",
    "    self._gn2 = GraphConvolution(update_node_fn=self.layer2)\n",
    "    y = self._gn1(graph)\n",
    "    y = self._gn2(y)\n",
    "    return y.nodes"
   ]
  },
  {
   "cell_type": "code",
   "execution_count": null,
   "metadata": {},
   "outputs": [],
   "source": [
    "# Train for a single epoch\n",
    "@nnx.jit\n",
    "def train_step(model, optimizer, graph, labels):\n",
    "    loss, grads = nnx.value_and_grad(loss_fn)(model, graph, labels)\n",
    "    optimizer.update(grads)\n",
    "    return loss\n",
    "\n",
    "def train(model, optimizer, graph, labels, epochs, log_period_epoch=1, show_progress=True):\n",
    "\n",
    "    train_loss_history = []\n",
    "\n",
    "    for epoch in tqdm(range(1, epochs + 1), disable=not show_progress):\n",
    "        train_loss = train_step(model, optimizer, graph, labels)\n",
    "\n",
    "        output_graph_nodes = model(graph)\n",
    "        accuracy =  jnp.mean(jnp.argmax(output_graph_nodes, axis=1) == labels)\n",
    "        train_loss_history.append(train_loss)\n",
    "\n",
    "        if epoch == 1 or epoch % log_period_epoch == 0:\n",
    "            logging.info(\n",
    "                \"epoch:% 3d, train_loss: %.4f, accuracy: %.2f\"\n",
    "                % (epoch, train_loss, accuracy)\n",
    "            )\n",
    "    return train_loss_history"
   ]
  },
  {
   "cell_type": "code",
   "execution_count": null,
   "metadata": {},
   "outputs": [],
   "source": [
    "model = GCN(len(graph.nodes),rngs=nnx.Rngs(1))\n",
    "\n",
    "# Define the optimizer\n",
    "lr = 1e-2 # learning rate\n",
    "optimizer = nnx.ModelAndOptimizer(model, optax.adam(lr)) # Adam optimizer\n",
    "\n",
    "epochs = 100\n",
    "\n",
    "train_loss_history = train(model, optimizer, graph, labels, epochs, log_period_epoch=10, show_progress=True)"
   ]
  },
  {
   "cell_type": "code",
   "execution_count": null,
   "metadata": {},
   "outputs": [],
   "source": [
    "output_nodes = model(graph)\n",
    "predictions = jnp.argmax(output_nodes, axis=1)\n",
    "print(predictions)\n",
    "print(labels)"
   ]
  },
  {
   "cell_type": "markdown",
   "metadata": {
    "id": "W0gNu67xP-_K"
   },
   "source": [
    "Visualize ground truth and predicted node assignments:"
   ]
  },
  {
   "cell_type": "code",
   "execution_count": null,
   "metadata": {
    "id": "ndklBMr6PHLY"
   },
   "outputs": [],
   "source": [
    "zacharys_karate_club = get_zacharys_karate_club()\n",
    "nx_graph = convert_jraph_to_networkx_graph(zacharys_karate_club)\n",
    "pos = nx.circular_layout(nx_graph)\n",
    "\n",
    "fig = plt.figure(figsize=(15, 7))\n",
    "ax1 = fig.add_subplot(121)\n",
    "nx.draw(\n",
    "    nx_graph,\n",
    "    pos=pos,\n",
    "    with_labels=True,\n",
    "    node_size=500,\n",
    "    node_color=predictions.tolist(),\n",
    "    font_color='white')\n",
    "ax1.title.set_text('Predicted Node Assignments with GCN')\n",
    "\n",
    "ax2 = fig.add_subplot(122)\n",
    "nx.draw(\n",
    "    nx_graph,\n",
    "    pos=pos,\n",
    "    with_labels=True,\n",
    "    node_size=500,\n",
    "    node_color=labels.tolist(),\n",
    "    font_color='white')\n",
    "ax2.title.set_text('Ground-Truth Node Assignments')\n",
    "\n",
    "plt.show()"
   ]
  },
  {
   "cell_type": "markdown",
   "metadata": {},
   "source": [
    "**Bonus exercise**: solve a node classification task on the\n",
    "[`Cora`](https://medium.com/@koki_noda/ultimate-guide-to-graph-neural-networks-1-cora-dataset-37338c04fe6f)\n",
    "dataset. Hint: use `PyTorch Geometric` to download the dataset and build a graph data\n",
    "structure, then convert it into a `GraphTuple`. Use a GCN with two graph convolutional\n",
    "layers and hidden dimension equal to 16. "
   ]
  }
 ],
 "metadata": {
  "accelerator": "GPU",
  "colab": {
   "collapsed_sections": [],
   "name": "Introduction to Graph Neural Nets with JAX/jraph",
   "private_outputs": true,
   "toc_visible": true
  },
  "kernelspec": {
   "display_name": "alpine",
   "language": "python",
   "name": "python3"
  },
  "language_info": {
   "codemirror_mode": {
    "name": "ipython",
    "version": 3
   },
   "file_extension": ".py",
   "mimetype": "text/x-python",
   "name": "python",
   "nbconvert_exporter": "python",
   "pygments_lexer": "ipython3",
   "version": "3.12.0"
  }
 },
 "nbformat": 4,
 "nbformat_minor": 4
}
