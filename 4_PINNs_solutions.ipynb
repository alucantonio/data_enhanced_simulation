{
 "cells": [
  {
   "attachments": {},
   "cell_type": "markdown",
   "metadata": {},
   "source": [
    "# Physics-Informed Neural Networks (PINNs) in JAX"
   ]
  },
  {
   "cell_type": "code",
   "execution_count": 2,
   "metadata": {},
   "outputs": [],
   "source": [
    "import jax\n",
    "import jax.numpy as jnp\n",
    "from jax import random\n",
    "import numpy as np\n",
    "from flax import nnx\n",
    "import optax\n",
    "import matplotlib.pyplot as plt\n",
    "from tqdm.notebook import tqdm # progress bar\n",
    "import logging"
   ]
  },
  {
   "cell_type": "markdown",
   "metadata": {},
   "source": [
    "#### Auxiliary functions"
   ]
  },
  {
   "cell_type": "code",
   "execution_count": 3,
   "metadata": {},
   "outputs": [],
   "source": [
    "@nnx.jit\n",
    "def train_step(model, optimizer, x):\n",
    "    loss, grads = nnx.value_and_grad(loss_fn)(model, x)\n",
    "    optimizer.update(grads)\n",
    "    return loss\n",
    "\n",
    "def _train_epoch(\n",
    "    model, optimizer, xs_train, batch_size, rng\n",
    "):\n",
    "    train_ds_size = len(xs_train)\n",
    "    steps_per_epoch = train_ds_size // batch_size\n",
    "\n",
    "    perms = random.permutation(rng, len(xs_train))\n",
    "    perms = perms[: steps_per_epoch * batch_size]\n",
    "    perms = perms.reshape((steps_per_epoch, batch_size))\n",
    "\n",
    "    epoch_loss = []\n",
    "\n",
    "    for perm in perms:\n",
    "        batch_xs = xs_train[perm]\n",
    "        loss = train_step(model, optimizer, batch_xs)\n",
    "        epoch_loss.append(loss)  # store training loss for the current batch\n",
    "\n",
    "    train_loss = np.mean(epoch_loss)\n",
    "    return model, train_loss\n",
    "\n",
    "\n",
    "def train(model, optimizer, xs_train, \n",
    "          batch_size,epochs, log_period_epoch=1, show_progress=True):\n",
    "\n",
    "    train_loss_history = []\n",
    "\n",
    "    for epoch in tqdm(range(1, epochs + 1), disable=not show_progress):\n",
    "        model, train_loss = _train_epoch(\n",
    "            model, optimizer, xs_train, \n",
    "            batch_size, random.key(1),\n",
    "        )\n",
    "\n",
    "        train_loss_history.append(train_loss)\n",
    "\n",
    "        if epoch == 1 or epoch % log_period_epoch == 0:\n",
    "            logging.info(\n",
    "                \"epoch:% 3d, train_loss: %.4f\"\n",
    "                % (epoch, train_loss)\n",
    "            )\n",
    "    return train_loss_history"
   ]
  },
  {
   "cell_type": "code",
   "execution_count": 4,
   "metadata": {},
   "outputs": [],
   "source": [
    "from sklearn.utils.estimator_checks import check_is_fitted\n",
    "from sklearn.base import BaseEstimator\n",
    "from sklearn.metrics import r2_score"
   ]
  },
  {
   "cell_type": "code",
   "execution_count": 5,
   "metadata": {},
   "outputs": [],
   "source": [
    "class MLPRegressor(BaseEstimator):\n",
    "\n",
    "    def __init__(self, model, lr, epochs, batch_size, log_period_epoch=10, show_progress=True):\n",
    "        self.model = model\n",
    "        self.lr = lr\n",
    "        self.epochs = epochs\n",
    "        self.batch_size = batch_size\n",
    "        self.log_period_epoch = log_period_epoch\n",
    "        self.show_progress = show_progress\n",
    "\n",
    "    def fit(self, X, y=None):\n",
    "        self._optimizer = nnx.ModelAndOptimizer(self.model, optax.adam(self.lr))\n",
    "\n",
    "        self.train_loss_history = train(self.model, self._optimizer, X, self.batch_size, self.epochs, self.log_period_epoch, self.show_progress)\n",
    "\n",
    "        self.is_fitted_ = True\n",
    "        return self\n",
    "\n",
    "    def predict(self, X):\n",
    "        check_is_fitted(self)\n",
    "        return jax.vmap(self.model)(X)\n",
    "    \n",
    "    def score(self, X, y):\n",
    "        y_pred = self.predict(X)\n",
    "        return r2_score(y, y_pred)    "
   ]
  },
  {
   "cell_type": "markdown",
   "metadata": {},
   "source": [
    "## Exercise: Burgers' equation"
   ]
  },
  {
   "cell_type": "markdown",
   "metadata": {},
   "source": [
    "We consider the following viscous Burgers equation:\n",
    "\\begin{align}\n",
    "  &u_t + uu_x -\\nu u_{xx} = 0 \\quad \\text{for } x\\in [-1,1], t\\in[0, 1] \\\\\n",
    "  &u(x,0) = -\\sin(\\pi x) \\quad \\text{for } x\\in [-1,1]\\\\\n",
    "  &u(-1,t) = u(1,t) = 0 \\quad \\text{for } t\\in [0,1]\n",
    "\\end{align}\n",
    "where $\\nu=0.025$ is the viscosity parameter.\n",
    "\n",
    "We take the following steps to build a PINN model:\n",
    "1. Define the domain\n",
    "2. Define the initial/boundary conditions (IC/BC) and the training points\n",
    "3. Define PDE residuals and loss term for the PDE\n",
    "4. Define PINNs architecture\n",
    "5. Training"
   ]
  },
  {
   "cell_type": "code",
   "execution_count": 6,
   "metadata": {},
   "outputs": [],
   "source": [
    "# Discretization of the domain (mesh)\n",
    "nx = 256\n",
    "nt = 100\n",
    "x = np.linspace(-1, 1, nx)\n",
    "t = np.linspace(0, 1, nt)\n",
    "X, T = np.meshgrid(x,t)\n",
    "\n",
    "X_star = np.hstack((X.flatten()[:, None], T.flatten()[:, None]))\n",
    "\n",
    "# Viscosity\n",
    "nu = 0.025"
   ]
  },
  {
   "cell_type": "markdown",
   "metadata": {},
   "source": [
    "- Define the IC/BC and training points"
   ]
  },
  {
   "cell_type": "code",
   "execution_count": 7,
   "metadata": {},
   "outputs": [],
   "source": [
    "# Define the IC\n",
    "idx_init = np.where(X_star[:, 1]==0)[0]\n",
    "X_init = X_star[idx_init]\n",
    "u_init = -np.sin(np.pi*X_init[:, 0:1])\n",
    "\n",
    "# Define the BC\n",
    "idx_bc = np.where((X_star[:, 0]==1.0)|(X_star[:, 0]==-1.0))[0]\n",
    "X_bc = X_star[idx_bc]\n",
    "u_bc = np.zeros((X_bc.shape[0], 1))\n",
    "\n",
    "# Define training collocation points\n",
    "num_collocation_points = 2000\n",
    "idx_Xf = np.random.choice(X_star.shape[0], num_collocation_points, replace=False)\n",
    "X_colloc_train = X_star[idx_Xf]"
   ]
  },
  {
   "cell_type": "code",
   "execution_count": 8,
   "metadata": {},
   "outputs": [
    {
     "data": {
      "image/png": "[encoded data removed]",
      "text/plain": [
       "<Figure size 700x300 with 2 Axes>"
      ]
     },
     "metadata": {},
     "output_type": "display_data"
    }
   ],
   "source": [
    "# Plot of the training (supervised) and the collocation (non-supervised) points\n",
    "X_supervised = np.concatenate((X_init, X_bc), axis=0)\n",
    "u_supervised = np.concatenate((u_init, u_bc), axis=0)\n",
    "\n",
    "fig = plt.figure(figsize=[7,3])\n",
    "axes = fig.subplots(1,2, sharex=False, sharey=False)\n",
    "img1 = axes[0].scatter(X_supervised[:, 0:1], X_supervised[:, 1:2], c=u_supervised, cmap='jet', vmax=1, vmin=-1, s=5)\n",
    "axes[0].set_title('Supervised points', fontsize=10)\n",
    "axes[0].set_xlabel('x', fontsize=10)\n",
    "axes[0].set_ylabel('t', fontsize=10)\n",
    "img2 = axes[1].plot(X_colloc_train[:, 0], X_colloc_train[:, 1], 'x', markersize=5, color='black')\n",
    "axes[1].set_title('Collocation/Non-supervised points', fontsize=10)\n",
    "axes[1].set_xlabel('x', fontsize=10)\n",
    "axes[1].set_ylabel('t', fontsize=10)\n",
    "plt.show()"
   ]
  },
  {
   "cell_type": "markdown",
   "metadata": {},
   "source": [
    "- Define the model"
   ]
  },
  {
   "cell_type": "code",
   "execution_count": null,
   "metadata": {},
   "outputs": [],
   "source": [
    "class Model(nnx.Module):\n",
    "  def __init__(self, rngs: nnx.Rngs):\n",
    "    self.linear1 = nnx.Linear(2, 20, rngs=rngs)\n",
    "    self.linear2 = nnx.Linear(20, 20, rngs=rngs)\n",
    "    self.linear3 = nnx.Linear(20, 20, rngs=rngs)\n",
    "    self.linear4 = nnx.Linear(20, 1, rngs=rngs)\n",
    "\n",
    "  def __call__(self, x):\n",
    "    y = self.linear1(x)\n",
    "    y = nnx.tanh(y)\n",
    "    y = self.linear2(y)\n",
    "    y = nnx.tanh(y)\n",
    "    y = self.linear3(y)\n",
    "    y = nnx.tanh(y)\n",
    "    y = self.linear4(y)\n",
    "    return y.squeeze()"
   ]
  },
  {
   "cell_type": "markdown",
   "metadata": {},
   "source": [
    "- Implement the calculation of the PDE residual"
   ]
  },
  {
   "cell_type": "code",
   "execution_count": null,
   "metadata": {},
   "outputs": [],
   "source": [
    "def pde_residual(model, x):\n",
    "    grad_x = lambda x: jax.grad(model)(x)[0]\n",
    "    grad_t = lambda x: jax.grad(model)(x)[1]\n",
    "    u_x = grad_x(x)\n",
    "    u_t = grad_t(x)\n",
    "    u_xx = jax.grad(grad_x)(x)[0]\n",
    "    u = model(x)\n",
    "    f = u_t + u*u_x - nu*u_xx\n",
    "\n",
    "    return f"
   ]
  },
  {
   "cell_type": "markdown",
   "metadata": {},
   "source": [
    "- Define the loss function"
   ]
  },
  {
   "cell_type": "code",
   "execution_count": null,
   "metadata": {},
   "outputs": [],
   "source": [
    "@nnx.jit\n",
    "def loss_fn(model, x):\n",
    "    pde_residual_at_collocation_points = jax.vmap(pde_residual, in_axes=(None, 0))(model, x)\n",
    "    pde_loss_contribution = jnp.mean(jnp.square(pde_residual_at_collocation_points))\n",
    "\n",
    "    bc_residual = model(X_bc)\n",
    "    bc_residual_contribution = jnp.mean(jnp.square(bc_residual))\n",
    "\n",
    "    init_residual = model(X_init) + jnp.sin(jnp.pi*X_init[:,0])\n",
    "    init_residual_contribution = jnp.mean(jnp.square(init_residual))\n",
    "\n",
    "    total_loss = pde_loss_contribution + bc_residual_contribution + init_residual_contribution\n",
    "\n",
    "    return total_loss"
   ]
  },
  {
   "cell_type": "markdown",
   "metadata": {},
   "source": [
    "- Create an instance of the PINN and wrap into the `MLPRegressor` class. Train the\n",
    "  model. NOTE: if you experience issues, you may need to restart the kernel and/or re-evaluate the cells above where the training functions are defined,\n",
    "  befor running the training."
   ]
  },
  {
   "cell_type": "code",
   "execution_count": null,
   "metadata": {},
   "outputs": [],
   "source": [
    "pinn = Model(nnx.Rngs(0))\n",
    "m = MLPRegressor(pinn, 0.001, 5000, 64)\n",
    "m.fit(X_colloc_train)"
   ]
  },
  {
   "cell_type": "markdown",
   "metadata": {},
   "source": [
    "- Plot the training curve (history of the training loss)"
   ]
  },
  {
   "cell_type": "code",
   "execution_count": null,
   "metadata": {},
   "outputs": [],
   "source": [
    "plt.plot(m.train_loss_history)\n",
    "plt.yscale(\"log\")"
   ]
  },
  {
   "cell_type": "markdown",
   "metadata": {},
   "source": [
    "- Compare the prediction of the trained PINN over all the mesh `X_star` with the\n",
    "  reference solution."
   ]
  },
  {
   "cell_type": "code",
   "execution_count": null,
   "metadata": {},
   "outputs": [],
   "source": [
    "# Load reference solution\n",
    "u_star_array = np.load('./data/burgers_sol.npy', allow_pickle=True)\n",
    "u_star = u_star_array[-1]"
   ]
  },
  {
   "cell_type": "code",
   "execution_count": null,
   "metadata": {},
   "outputs": [],
   "source": [
    "pred = m.predict(X_star)"
   ]
  },
  {
   "cell_type": "code",
   "execution_count": null,
   "metadata": {},
   "outputs": [],
   "source": [
    "# Plot and compare the solutions\n",
    "fig = plt.figure(figsize=[15,3])\n",
    "axes = fig.subplots(1,3, sharex=False, sharey=False)\n",
    "img1 = axes[0].scatter(X_star[:, 0:1], X_star[:, 1:2], c=u_star, cmap='jet', vmax=1, vmin=-1, s=5)\n",
    "axes[0].set_title('Reference solution', fontsize=15)\n",
    "axes[0].set_xlabel('x', fontsize=15)\n",
    "axes[0].set_ylabel('t', fontsize=15)\n",
    "plt.colorbar(img1, ax=axes[0])\n",
    "img2 = axes[1].scatter(X_star[:, 0:1], X_star[:, 1:2], c=pred, cmap='jet', vmax=1, vmin=-1, s=5)\n",
    "axes[1].set_title('PINN prediction', fontsize=15)\n",
    "axes[1].set_xlabel('x', fontsize=15)\n",
    "axes[1].set_ylabel('t', fontsize=15)\n",
    "plt.colorbar(img2, ax=axes[1])\n",
    "img3 = axes[2].scatter(X_star[:, 0:1], X_star[:, 1:2], c=u_star-pred[:,None], cmap='seismic', vmax=0.01, vmin=-0.01, s=5)\n",
    "axes[2].set_title('Error', fontsize=15)\n",
    "axes[2].set_xlabel('x', fontsize=15)\n",
    "axes[2].set_ylabel('t', fontsize=15)\n",
    "plt.colorbar(img3, ax=axes[2])\n",
    "plt.show()"
   ]
  },
  {
   "cell_type": "markdown",
   "metadata": {},
   "source": [
    "- Evaluate the R^2 score between the predictions and the reference solution"
   ]
  },
  {
   "cell_type": "code",
   "execution_count": null,
   "metadata": {},
   "outputs": [],
   "source": [
    "m.score(X_star, u_star.ravel())"
   ]
  }
 ],
 "metadata": {
  "kernelspec": {
   "display_name": "datasim",
   "language": "python",
   "name": "python3"
  },
  "language_info": {
   "codemirror_mode": {
    "name": "ipython",
    "version": 3
   },
   "file_extension": ".py",
   "mimetype": "text/x-python",
   "name": "python",
   "nbconvert_exporter": "python",
   "pygments_lexer": "ipython3",
   "version": "3.12.0"
  }
 },
 "nbformat": 4,
 "nbformat_minor": 4
}
