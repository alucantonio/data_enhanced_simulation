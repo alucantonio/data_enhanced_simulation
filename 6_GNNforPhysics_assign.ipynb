{
  "cells": [
    {
      "cell_type": "markdown",
      "metadata": {},
      "source": [
        "# Application: modeling rods with GNNs."
      ]
    },
    {
      "cell_type": "markdown",
      "metadata": {},
      "source": [
        "Consider a simply supported rod under uniform vertical load. Create an train a\n",
        "Convolutional Graph Neural Network model to predict the deformed configuration for a\n",
        "given load.\n",
        "\n",
        "1. Generate the a training set of max 1000 samples for different loads\n",
        "   using the analytical solution obtained from the linear theory:\n",
        "   - The load should be comprised in the interval $[0, 0.8 \\times 10^5]$.\n",
        "   - The rod should be discretized using 20 points.\n",
        "   - The length, Young's modulus and moment of inertia of the rod are $1.0$ m, $200$ GPa\n",
        "     and $10^{-6}$ $\\text{m}^4$, respectively.\n",
        "2. Define a Convolutional Graph Network model and train it. Use part of the training set\n",
        "   to tune the hyperparameters. Hints:\n",
        "   - Remember to standardize the training set before training and use the appropriate\n",
        "     scaling factors when using the network for predictions.\n",
        "   - For simplicity, do not split the training set in batches. Use the `jraph.batch`\n",
        "     method to assemble a `GraphsTuple` for the whole training set starting from a _list_\n",
        "     of `GraphsTuple` objects (one for each sample). The GNN can be then evaluated on the\n",
        "     whole dataset by passing the assembled `GraphsTuple` to it.\n",
        "3. Compare the prediction of the deformed configuration for $P = 1.0 \\times 10^5$ with the analytical\n",
        "   solution. \n",
        "4. Train a MLP to solve the same task and compare the prediction for the same value of the load with that of the CGN.\n",
        "5. (Bonus) Consider a non-linear rod model (see lecture 2) to generate the training/test data.\n",
        "   Repeat steps 2-4."
      ]
    },
    {
      "cell_type": "code",
      "execution_count": 412,
      "metadata": {},
      "outputs": [],
      "source": [
        "# Analytical solution for a simply-supported beam under uniform load\n",
        "def beam_deflection(x, L, w, E, I):\n",
        "    return (w * L**4 / (24 * E * I)) * ((x / L)**4 - 2 * (x / L)**3 + (x / L)**2)"
      ]
    }
  ],
  "metadata": {
    "colab": {
      "provenance": []
    },
    "kernelspec": {
      "display_name": "Python 3",
      "name": "python3"
    },
    "language_info": {
      "codemirror_mode": {
        "name": "ipython",
        "version": 3
      },
      "file_extension": ".py",
      "mimetype": "text/x-python",
      "name": "python",
      "nbconvert_exporter": "python",
      "pygments_lexer": "ipython3",
      "version": "3.12.5"
    }
  },
  "nbformat": 4,
  "nbformat_minor": 0
}
