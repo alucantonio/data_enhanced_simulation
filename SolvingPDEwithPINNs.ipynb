{
 "cells": [
  {
   "attachments": {},
   "cell_type": "markdown",
   "metadata": {},
   "source": [
    "# Physics-Informed Neural Networks (PINNs) in JAX\n",
    "\n",
    "Simple example of training a PINN in JAX using the Equinox deep learning framework to solve the 1D Poisson equation with homogeneous Dirichlet boundary conditions on the unit interval.\n",
    "\n",
    "$$\n",
    "\\begin{align}\n",
    "    \\frac{\\partial^2 u}{\\partial x^2} &= - f(x), \\quad x \\in (0, 1) \\\\\n",
    "    u(0) &= u(1) = 0\n",
    "\\end{align}\n",
    "$$"
   ]
  },
  {
   "attachments": {},
   "cell_type": "markdown",
   "metadata": {},
   "source": [
    "### What are PINNs and how to train them?\n",
    "\n",
    "A PINN is a **coordinate network** that attempts to approximate the solution to a partial differential equation $\\hat{u}_\\theta(t, x) \\approx u(t, x)$. The network is trained to minimize the residuum of the partial differential equation, the boundary conditions, and the initial conditions (if applicable, here we just have a stationary problem). Hence, it can be data-free; additional supervised reference information is optional. Derivative information is obtained via higher-order input-output automatic differentiation of the neural network.\n",
    "\n",
    "The typical architecture for PINNs are Multi-Layer Perceptrons whose inputs are the position in space $x$ (can be higher dimensional) and time $t$ (if applicable). The output of the network is the solution $\\hat{u}_\\theta(t, x)$ at the given position and time.\n",
    "\n",
    "In our case, the parameters are found by minimizing the following composite loss\n",
    "\n",
    "$$\n",
    "\\theta^* = \\arg\\min_\\theta \\mathcal{L}(\\theta) = \\arg\\min_\\theta \\left( \\mathcal{L}_\\text{PDE}(\\theta) + \\mathcal{L}_\\text{BC}(\\theta) \\right)\n",
    "$$\n",
    "\n",
    "with the PDE residuum given as the **mean squared error of the residual at randomly sampled collocation points inside the domain**\n",
    "\n",
    "$$\n",
    "\\mathcal{L}_\\text{PDE}(\\theta) = \\frac{1}{2L} \\sum_{i=1}^{L} \\left( \\frac{\\partial^2 \\hat{u}_\\theta}{\\partial x^2}\\bigg|_{x=x^{[i]}} + f(x^{[i]}) \\right)^2\n",
    "\\qquad \\text{with} \\qquad\n",
    "x^{[i]} \\sim \\mathcal{U}(0, 1)\n",
    "$$\n",
    "\n",
    "and the boundary conditions given as the **mean squared error of the solution at randomly sampled boundary points** (here we can just use the left and right boundary points)\n",
    "\n",
    "$$\n",
    "\\mathcal{L}_\\text{BC}(\\theta) = \\frac{1}{2} \\left( \\hat{u}_\\theta(0) - 0 \\right)^2 + \\frac{1}{2} \\left( \\hat{u}_\\theta(1) - 0 \\right)^2\n",
    "$$"
   ]
  },
  {
   "attachments": {},
   "cell_type": "markdown",
   "metadata": {},
   "source": [
    "### The part with automatic differentiation\n",
    "\n",
    "The idea of PINNs goes back to works in 90s, but experiences a renaissance due to easily available higher-order autodiff engines in deep learning frameworks.\n",
    "\n",
    "In order to train PINNs to solve PDEs with the highest derivative order being $k$, we need $k+1$ autodiff passes because after the assembly of the loss function, gradient information needs to be backpropagated into the parameter space of the network. We need this information to update the parameters via gradient-based optimizers (like ADAM). In other words, we use the AD engine to then produce $\\frac{\\partial \\mathcal{L}}{\\partial \\theta}$."
   ]
  },
  {
   "attachments": {},
   "cell_type": "markdown",
   "metadata": {},
   "source": [
    "### A reference solution by Finite Differences\n",
    "\n",
    "To check whether the network a learned meaningful solution to the PDE, we use a three-point stencil reference solution.\n",
    "\n",
    "1. Discretize the unit intervale domain into $N+2$ points, but only consider $N$ interior points.\n",
    "2. Solve the linear system of equations $A u = b$ with $A \\in \\mathbb{R}^{N \\times N}$ and $b \\in \\mathbb{R}^N$ with\n",
    "    1. $A$ being due to the three point-stencil (tri-diagonal matrix with $1$ on the off-diagonals and $-2$ on the diagonal, scaled by $\\frac{1}{(\\Delta x)^2}$)\n",
    "    2. $b$ being the right-hand side of the PDE evaluated at the interior points, i.e., $b_i = - f(x_i)$\n",
    "3. Sandwich the boundary conditions to the solution vector $u$ and plot the solution."
   ]
  },
  {
   "attachments": {},
   "cell_type": "markdown",
   "metadata": {},
   "source": [
    "### The concrete scenario\n",
    "\n",
    "We consider a discontinuous right-hand side\n",
    "\n",
    "$$\n",
    "f(x) = \\begin{cases}\n",
    "    1 & \\text{if } x > 0.3 \\land x < 0.5 \\\\\n",
    "    0 & \\text{otherwise}\n",
    "\\end{cases}"
   ]
  },
  {
   "attachments": {},
   "cell_type": "markdown",
   "metadata": {},
   "source": [
    "# Changes in comparison to the YouTube video:\n",
    "\n",
    "1. Use correct `init_key` for initializing the neural network\n",
    "2. Change `N_OPTIMIZATION_EPOCHS` to `10_000`"
   ]
  },
  {
   "cell_type": "code",
   "execution_count": 1,
   "metadata": {},
   "outputs": [],
   "source": [
    "import jax\n",
    "import jax.numpy as jnp\n",
    "import jax.random as jr\n",
    "import equinox as eqx\n",
    "import optax\n",
    "import matplotlib.pyplot as plt"
   ]
  },
  {
   "cell_type": "code",
   "execution_count": 2,
   "metadata": {},
   "outputs": [],
   "source": [
    "N_DOF_FD = 100\n",
    "N_COLLOCATION_POINTS = 50\n",
    "LEARNING_RATE = 1e-3\n",
    "N_OPTIMIZATION_EPOCHS = 10_000\n",
    "BC_LOSS_WEIGHT = 100.0"
   ]
  },
  {
   "cell_type": "code",
   "execution_count": 3,
   "metadata": {},
   "outputs": [],
   "source": [
    "# Reproducibility\n",
    "key = jr.PRNGKey(42)"
   ]
  },
  {
   "cell_type": "code",
   "execution_count": 4,
   "metadata": {},
   "outputs": [],
   "source": [
    "# Our PINN is a coordinate network in the form of a MLP, mapping from scalar to scalar values\n",
    "key, init_key = jr.split(key)\n",
    "pinn = eqx.nn.MLP(\n",
    "    in_size=\"scalar\",\n",
    "    out_size=\"scalar\",\n",
    "    width_size=10,\n",
    "    depth=4,\n",
    "    activation=jax.nn.sigmoid,\n",
    "    key=init_key,\n",
    ")"
   ]
  },
  {
   "cell_type": "code",
   "execution_count": 5,
   "metadata": {},
   "outputs": [
    {
     "data": {
      "text/plain": [
       "Array(-0.68502796, dtype=float32)"
      ]
     },
     "execution_count": 5,
     "metadata": {},
     "output_type": "execute_result"
    }
   ],
   "source": [
    "pinn(0.2)"
   ]
  },
  {
   "cell_type": "code",
   "execution_count": 6,
   "metadata": {},
   "outputs": [],
   "source": [
    "mesh_full = jnp.linspace(0.0, 1.0, N_DOF_FD + 2)"
   ]
  },
  {
   "cell_type": "code",
   "execution_count": 7,
   "metadata": {},
   "outputs": [],
   "source": [
    "mesh_interior = mesh_full[1:-1]"
   ]
  },
  {
   "cell_type": "code",
   "execution_count": 8,
   "metadata": {},
   "outputs": [],
   "source": [
    "rhs_function = lambda x: jnp.where((x > 0.3) & (x < 0.5), 1.0, 0.0)"
   ]
  },
  {
   "cell_type": "code",
   "execution_count": 9,
   "metadata": {},
   "outputs": [],
   "source": [
    "rhs_evaluated = rhs_function(mesh_interior)"
   ]
  },
  {
   "cell_type": "code",
   "execution_count": 10,
   "metadata": {},
   "outputs": [],
   "source": [
    "dx = mesh_interior[1] - mesh_interior[0]\n",
    "A = jnp.diag(jnp.ones(N_DOF_FD - 1), -1) + jnp.diag(jnp.ones(N_DOF_FD - 1), 1) - jnp.diag(2 * jnp.ones(N_DOF_FD), 0)\n",
    "A /= dx**2"
   ]
  },
  {
   "cell_type": "code",
   "execution_count": 11,
   "metadata": {},
   "outputs": [],
   "source": [
    "finite_difference_solution = jnp.linalg.solve(A, -rhs_evaluated)"
   ]
  },
  {
   "cell_type": "code",
   "execution_count": 12,
   "metadata": {},
   "outputs": [],
   "source": [
    "wrap_bc = lambda u: jnp.pad(u, (1, 1), mode=\"constant\")"
   ]
  },
  {
   "cell_type": "code",
   "execution_count": 13,
   "metadata": {},
   "outputs": [
    {
     "data": {
      "image/png": "[encoded data removed]",
      "text/plain": [
       "<Figure size 640x480 with 1 Axes>"
      ]
     },
     "metadata": {},
     "output_type": "display_data"
    }
   ],
   "source": [
    "plt.plot(mesh_full, wrap_bc(rhs_evaluated), label=\"Forcing Function\")\n",
    "plt.plot(mesh_full, wrap_bc(finite_difference_solution), label=\"Finite Difference solution\")\n",
    "plt.plot(mesh_full, jax.vmap(pinn)(mesh_full), label=\"Initial PINN solution\")\n",
    "plt.legend()\n",
    "plt.grid()"
   ]
  },
  {
   "cell_type": "code",
   "execution_count": 14,
   "metadata": {},
   "outputs": [],
   "source": [
    "def pde_residuum(network, x):\n",
    "    return jax.grad(jax.grad(network))(x) + rhs_function(x)"
   ]
  },
  {
   "cell_type": "code",
   "execution_count": 15,
   "metadata": {},
   "outputs": [
    {
     "data": {
      "text/plain": [
       "Array(-2.5913748e-06, dtype=float32)"
      ]
     },
     "execution_count": 15,
     "metadata": {},
     "output_type": "execute_result"
    }
   ],
   "source": [
    "pde_residuum(pinn, 0.8)"
   ]
  },
  {
   "cell_type": "code",
   "execution_count": 16,
   "metadata": {},
   "outputs": [],
   "source": [
    "key, sampling_key = jr.split(key)\n",
    "collocation_points = jr.uniform(sampling_key, (N_COLLOCATION_POINTS, ), minval=0.0 + 0.001, maxval=1.0 - 0.001)\n",
    "\n",
    "def loss_fn(network):\n",
    "    pde_residuum_at_collocation_points = jax.vmap(pde_residuum, in_axes=(None, 0))(network, collocation_points)\n",
    "    pde_loss_contribution = 0.5 * jnp.mean(jnp.square(pde_residuum_at_collocation_points))\n",
    "\n",
    "    left_bc_residuum = network(0.0) - 0.0\n",
    "    right_bc_residuum = network(1.0) - 0.0\n",
    "    bc_residuum_contribution = 0.5 * jnp.mean(jnp.square(left_bc_residuum)) + 0.5 * jnp.mean(jnp.square(right_bc_residuum))\n",
    "\n",
    "    total_loss = pde_loss_contribution + BC_LOSS_WEIGHT * bc_residuum_contribution\n",
    "\n",
    "    return total_loss"
   ]
  },
  {
   "cell_type": "code",
   "execution_count": 17,
   "metadata": {},
   "outputs": [
    {
     "data": {
      "text/plain": [
       "Array(47.01226, dtype=float32)"
      ]
     },
     "execution_count": 17,
     "metadata": {},
     "output_type": "execute_result"
    }
   ],
   "source": [
    "loss_fn(pinn)"
   ]
  },
  {
   "cell_type": "code",
   "execution_count": 18,
   "metadata": {},
   "outputs": [
    {
     "name": "stdout",
     "output_type": "stream",
     "text": [
      "Epoch: 0, loss: 47.01226043701172\n",
      "Epoch: 100, loss: 0.8580572605133057\n",
      "Epoch: 200, loss: 0.08999805152416229\n",
      "Epoch: 300, loss: 0.08999674767255783\n",
      "Epoch: 400, loss: 0.08999649435281754\n",
      "Epoch: 500, loss: 0.08999619632959366\n",
      "Epoch: 600, loss: 0.0899958610534668\n",
      "Epoch: 700, loss: 0.08999551087617874\n",
      "Epoch: 800, loss: 0.0899951159954071\n",
      "Epoch: 900, loss: 0.08999469876289368\n",
      "Epoch: 1000, loss: 0.08999423682689667\n",
      "Epoch: 1100, loss: 0.08999376744031906\n",
      "Epoch: 1200, loss: 0.08999325335025787\n",
      "Epoch: 1300, loss: 0.0899927169084549\n",
      "Epoch: 1400, loss: 0.08999215066432953\n",
      "Epoch: 1500, loss: 0.08999156206846237\n",
      "Epoch: 1600, loss: 0.08999092876911163\n",
      "Epoch: 1700, loss: 0.0899902731180191\n",
      "Epoch: 1800, loss: 0.08998958021402359\n",
      "Epoch: 1900, loss: 0.08998885005712509\n",
      "Epoch: 2000, loss: 0.08998807519674301\n",
      "Epoch: 2100, loss: 0.08998725563287735\n",
      "Epoch: 2200, loss: 0.0899863913655281\n",
      "Epoch: 2300, loss: 0.08998546749353409\n",
      "Epoch: 2400, loss: 0.0899844765663147\n",
      "Epoch: 2500, loss: 0.08998341113328934\n",
      "Epoch: 2600, loss: 0.08998226374387741\n",
      "Epoch: 2700, loss: 0.08998102694749832\n",
      "Epoch: 2800, loss: 0.08997968584299088\n",
      "Epoch: 2900, loss: 0.08997821062803268\n",
      "Epoch: 3000, loss: 0.08997659385204315\n",
      "Epoch: 3100, loss: 0.08997481316328049\n",
      "Epoch: 3200, loss: 0.0899728462100029\n",
      "Epoch: 3300, loss: 0.0899706482887268\n",
      "Epoch: 3400, loss: 0.08996818214654922\n",
      "Epoch: 3500, loss: 0.08996539562940598\n",
      "Epoch: 3600, loss: 0.08996224403381348\n",
      "Epoch: 3700, loss: 0.08995865285396576\n",
      "Epoch: 3800, loss: 0.08995452523231506\n",
      "Epoch: 3900, loss: 0.08994977921247482\n",
      "Epoch: 4000, loss: 0.0899442583322525\n",
      "Epoch: 4100, loss: 0.08993780612945557\n",
      "Epoch: 4200, loss: 0.08993026614189148\n",
      "Epoch: 4300, loss: 0.08992136269807816\n",
      "Epoch: 4400, loss: 0.0899108275771141\n",
      "Epoch: 4500, loss: 0.08989826589822769\n",
      "Epoch: 4600, loss: 0.08988329768180847\n",
      "Epoch: 4700, loss: 0.0898653119802475\n",
      "Epoch: 4800, loss: 0.08984367549419403\n",
      "Epoch: 4900, loss: 0.08981746435165405\n",
      "Epoch: 5000, loss: 0.08978553116321564\n",
      "Epoch: 5100, loss: 0.08974633365869522\n",
      "Epoch: 5200, loss: 0.08969774097204208\n",
      "Epoch: 5300, loss: 0.08963677287101746\n",
      "Epoch: 5400, loss: 0.08955925703048706\n",
      "Epoch: 5500, loss: 0.08945932239294052\n",
      "Epoch: 5600, loss: 0.0893288254737854\n",
      "Epoch: 5700, loss: 0.08915648609399796\n",
      "Epoch: 5800, loss: 0.08892654627561569\n",
      "Epoch: 5900, loss: 0.0886165201663971\n",
      "Epoch: 6000, loss: 0.08819275349378586\n",
      "Epoch: 6100, loss: 0.08760202676057816\n",
      "Epoch: 6200, loss: 0.08675193786621094\n",
      "Epoch: 6300, loss: 0.08545354753732681\n",
      "Epoch: 6400, loss: 0.08320115506649017\n",
      "Epoch: 6500, loss: 0.07853131741285324\n",
      "Epoch: 6600, loss: 0.06901650130748749\n",
      "Epoch: 6700, loss: 0.0530269481241703\n",
      "Epoch: 6800, loss: 0.03805118799209595\n",
      "Epoch: 6900, loss: 0.031987566500902176\n",
      "Epoch: 7000, loss: 0.02948780730366707\n",
      "Epoch: 7100, loss: 0.027818042784929276\n",
      "Epoch: 7200, loss: 0.026349682360887527\n",
      "Epoch: 7300, loss: 0.024871550500392914\n",
      "Epoch: 7400, loss: 0.02329070493578911\n",
      "Epoch: 7500, loss: 0.021622147411108017\n",
      "Epoch: 7600, loss: 0.019978325814008713\n",
      "Epoch: 7700, loss: 0.01843317039310932\n",
      "Epoch: 7800, loss: 0.016949022188782692\n",
      "Epoch: 7900, loss: 0.01546372752636671\n",
      "Epoch: 8000, loss: 0.013930194079875946\n",
      "Epoch: 8100, loss: 0.012320952489972115\n",
      "Epoch: 8200, loss: 0.010657903738319874\n",
      "Epoch: 8300, loss: 0.0090470677241683\n",
      "Epoch: 8400, loss: 0.007672536186873913\n",
      "Epoch: 8500, loss: 0.00668885326012969\n",
      "Epoch: 8600, loss: 0.006090268958359957\n",
      "Epoch: 8700, loss: 0.00574957812204957\n",
      "Epoch: 8800, loss: 0.005556472577154636\n",
      "Epoch: 8900, loss: 0.005446677561849356\n",
      "Epoch: 9000, loss: 0.005383545532822609\n",
      "Epoch: 9100, loss: 0.005345366429537535\n",
      "Epoch: 9200, loss: 0.0053198086097836494\n",
      "Epoch: 9300, loss: 0.005300377495586872\n",
      "Epoch: 9400, loss: 0.005284059327095747\n",
      "Epoch: 9500, loss: 0.00526946596801281\n",
      "Epoch: 9600, loss: 0.005256052128970623\n",
      "Epoch: 9700, loss: 0.005243487656116486\n",
      "Epoch: 9800, loss: 0.005231531336903572\n",
      "Epoch: 9900, loss: 0.005220036953687668\n"
     ]
    }
   ],
   "source": [
    "# Training loop\n",
    "optimizer = optax.adam(LEARNING_RATE)\n",
    "opt_state = optimizer.init(eqx.filter(pinn, eqx.is_array))\n",
    "\n",
    "@eqx.filter_jit\n",
    "def make_step(network, state):\n",
    "    loss, grad = eqx.filter_value_and_grad(loss_fn)(network)\n",
    "    updates, new_state = optimizer.update(grad, state, network)\n",
    "    new_network = eqx.apply_updates(network, updates)\n",
    "    return new_network, new_state, loss\n",
    "\n",
    "loss_history = []\n",
    "for epoch in range(N_OPTIMIZATION_EPOCHS):\n",
    "    pinn, opt_state, loss = make_step(pinn, opt_state)\n",
    "    loss_history.append(loss)\n",
    "    if epoch % 100 == 0:\n",
    "        print(f\"Epoch: {epoch}, loss: {loss}\")"
   ]
  },
  {
   "cell_type": "code",
   "execution_count": 19,
   "metadata": {},
   "outputs": [
    {
     "data": {
      "image/png": "[encoded data removed]",
      "text/plain": [
       "<Figure size 640x480 with 1 Axes>"
      ]
     },
     "metadata": {},
     "output_type": "display_data"
    }
   ],
   "source": [
    "plt.plot(loss_history)\n",
    "plt.yscale(\"log\")"
   ]
  },
  {
   "cell_type": "code",
   "execution_count": 20,
   "metadata": {},
   "outputs": [
    {
     "data": {
      "image/png": "[encoded data removed]",
      "text/plain": [
       "<Figure size 640x480 with 1 Axes>"
      ]
     },
     "metadata": {},
     "output_type": "display_data"
    }
   ],
   "source": [
    "plt.plot(mesh_full, wrap_bc(finite_difference_solution), label=\"Finite Difference solution\")\n",
    "plt.plot(mesh_full, jax.vmap(pinn)(mesh_full), label=\"Final PINN solution\")\n",
    "plt.legend()\n",
    "plt.grid()"
   ]
  },
  {
   "cell_type": "code",
   "execution_count": 21,
   "metadata": {},
   "outputs": [
    {
     "data": {
      "text/plain": [
       "Array(0.04174379, dtype=float32)"
      ]
     },
     "execution_count": 21,
     "metadata": {},
     "output_type": "execute_result"
    }
   ],
   "source": [
    "pinn(0.33)"
   ]
  },
  {
   "cell_type": "code",
   "execution_count": 22,
   "metadata": {},
   "outputs": [
    {
     "data": {
      "text/plain": [
       "Array(0.09534648, dtype=float32)"
      ]
     },
     "execution_count": 22,
     "metadata": {},
     "output_type": "execute_result"
    }
   ],
   "source": [
    "jax.grad(pinn)(0.33)"
   ]
  },
  {
   "cell_type": "code",
   "execution_count": null,
   "metadata": {},
   "outputs": [],
   "source": []
  }
 ],
 "metadata": {
  "kernelspec": {
   "display_name": "Python 3 (ipykernel)",
   "language": "python",
   "name": "python3"
  },
  "language_info": {
   "codemirror_mode": {
    "name": "ipython",
    "version": 3
   },
   "file_extension": ".py",
   "mimetype": "text/x-python",
   "name": "python",
   "nbconvert_exporter": "python",
   "pygments_lexer": "ipython3",
   "version": "3.11.8"
  },
  "vscode": {
   "interpreter": {
    "hash": "265371ff1b98b9f4eaa16d44fb1eb5bb5e02f4557e1c68186d1d500959ccd159"
   }
  }
 },
 "nbformat": 4,
 "nbformat_minor": 4
}
