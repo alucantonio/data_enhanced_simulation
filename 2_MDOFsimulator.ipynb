{
    "cells": [
        {
            "cell_type": "markdown",
            "id": "fc3461f2",
            "metadata": {},
            "source": [
                "[![Open In Colab](https://colab.research.google.com/assets/colab-badge.svg)](https://colab.research.google.com/github/alucantonio/data_enhanced_simulation/blob/master/2_MDOFsimulator.ipynb)"
            ]
        },
        {
            "cell_type": "markdown",
            "id": "3be7773a-e277-45e4-9fc8-6a79b778d62a",
            "metadata": {},
            "source": [
                "# Simulation of multiple degrees-of-freedom (MDOF) systems"
            ]
        },
        {
            "cell_type": "markdown",
            "id": "9376a432-dcf2-4a87-9e6c-4d1b283da09d",
            "metadata": {},
            "source": [
                "References:\n",
                "- Khalid Jawed, \"Notes on Discrete Simulation of Slender Structures\", chapters 3 and 4."
            ]
        },
        {
            "cell_type": "markdown",
            "id": "e7623e86-0396-4781-ab96-5cb3c0aefd8f",
            "metadata": {},
            "source": [
                "Recall the equations of motion (with initial conditions) for a MDOF system subject to\n",
                "conservative, non-conservative, and viscous forces, written as a system of first order ODEs:\n",
                "$$ \\begin{cases}\n",
                "    \\dot{v}_i = \\frac{1}{m_i} \\left(-\\frac{\\partial E_p}{\\partial q_i} - c v_i\n",
                "    + F_i\\right) \\\\\n",
                "    v_i = \\dot{q}_i \\\\\n",
                "    q_i(0) = q_{i0} \\\\\n",
                "    v_i(0) = v_{i0}\n",
                "\\end{cases}\n",
                "$$\n",
                "where $q_i$ are the degrees of freedom ($i = 1,..,N$), $v_i$ are the associated\n",
                "velocities, $m_i$ are the lumped masses, $c$ is the viscous dissipation coefficien,\n",
                "$F_i$ are the non-conservative forces, and $E_p$ is the potential energy corresponding\n",
                "to the conservative forces."
            ]
        },
        {
            "cell_type": "code",
            "execution_count": null,
            "id": "162b826f",
            "metadata": {},
            "outputs": [],
            "source": [
                "# Use JAX on CPU (needed on MacOS laptop because GPU is not supported)\n",
                "import os\n",
                "os.environ[\"JAX_PLATFORM_NAME\"] = \"cpu\""
            ]
        },
        {
            "cell_type": "code",
            "execution_count": null,
            "id": "a8a3a00f-65a6-4fdb-bde3-34868b0d7c9f",
            "metadata": {},
            "outputs": [],
            "source": [
                "import jax.numpy as jnp\n",
                "from jax import jacfwd, jit, grad, config, vmap\n",
                "from functools import partial\n",
                "from scipy.integrate import solve_ivp\n",
                "import matplotlib.pyplot as plt\n",
                "import numpy as np\n",
                "\n",
                "# Set default data type to double precision: important for accurate ODE integration!\n",
                "config.update(\"jax_enable_x64\", True)"
            ]
        },
        {
            "cell_type": "code",
            "execution_count": null,
            "id": "7febf2c1",
            "metadata": {},
            "outputs": [],
            "source": [
                "# Equations of motion (system of first order ODEs to integrate)\n",
                "@partial(jit, static_argnames=(\"P\",))\n",
                "def equations_of_motion(t, z, P, m, c=0., F=0.):\n",
                "    q, v = jnp.array_split(z, 2) # split state into positions and velocity\n",
                "    dq_dt = v\n",
                "    dv_dt = -grad(P)(q)/m-c*v/m+F/m\n",
                "    return jnp.concatenate([dq_dt, dv_dt])"
            ]
        },
        {
            "cell_type": "markdown",
            "id": "910ab172",
            "metadata": {},
            "source": [
                "Let us define a function for the Jacobian of the system wrt to the state ($z$), which is\n",
                "needed for implicit time integration schemes."
            ]
        },
        {
            "cell_type": "code",
            "execution_count": null,
            "id": "87bb868b",
            "metadata": {},
            "outputs": [],
            "source": [
                "# Jacobian of the rhs of the system of equations of motion\n",
                "@partial(jit, static_argnames=(\"P\",))\n",
                "def jacobian(t, z, P, m, c=0., F=0.):\n",
                "    return jacfwd(equations_of_motion, argnums=1)(t, z, P, m, c, F)"
            ]
        },
        {
            "cell_type": "markdown",
            "id": "23e96852-69fa-4a03-849f-6dbef50d6bfd",
            "metadata": {},
            "source": [
                "### Example: 2 masses, 1 spring"
            ]
        },
        {
            "cell_type": "code",
            "execution_count": null,
            "id": "81ba1082-b56e-4697-a03e-7fbc98371ace",
            "metadata": {},
            "outputs": [],
            "source": [
                "# Initial conditions\n",
                "q0 = jnp.array([0., 1.1])  # initial positions\n",
                "v0 = jnp.array([0., 0.])  # initial velocities\n",
                "z0 = jnp.concatenate([q0, v0])\n",
                "\n",
                "# Masses and stiffnesses\n",
                "m = jnp.ones(2)\n",
                "\n",
                "# Potential energy\n",
                "def S(q):\n",
                "    return 0.5*(q[1]-q[0] - 1.)**2\n",
                "\n",
                "# Kinetic energy\n",
                "def K(v):\n",
                "    return 0.5*jnp.sum(m * v**2)\n",
                "\n",
                "# Time span\n",
                "t_span = (0, 10)  # from t=0 to t=10\n",
                "t_eval = jnp.linspace(t_span[0], t_span[1], 1000)  # points at which to store the solution\n",
                "\n",
                "# Solve the system using RK45 (explicit method)\n",
                "# sol = solve_ivp(equations_of_motion, t_span, z0, args=(S, m), t_eval=t_eval)\n",
                "# Solve the system using BDF (implicit method)\n",
                "sol = solve_ivp(equations_of_motion, t_span, z0, args=(S, m), method=\"BDF\", t_eval=t_eval, jac=jacobian)"
            ]
        },
        {
            "cell_type": "code",
            "execution_count": null,
            "id": "4eccf152",
            "metadata": {},
            "outputs": [],
            "source": [
                "# Comparing the performance of explicit/implicit time integrators\n",
                "print(\"Explicit time-stepping:\")\n",
                "%timeit sol = solve_ivp(equations_of_motion, t_span, z0, args=(S, m), t_eval=t_eval)\n",
                "print(\"Implicit time-stepping:\")\n",
                "%timeit sol = solve_ivp(equations_of_motion, t_span, z0, args=(S, m), method=\"BDF\", t_eval=t_eval, jac=jacobian)"
            ]
        },
        {
            "cell_type": "code",
            "execution_count": null,
            "id": "ff6bf781-ca6b-4aa8-96d7-b9fe5d7f6db2",
            "metadata": {},
            "outputs": [],
            "source": [
                "# Plot the results\n",
                "plt.plot(sol.t, sol.y[0], label='q0(t)')\n",
                "plt.plot(sol.t, sol.y[1], label='q1(t)')\n",
                "plt.plot(sol.t, sol.y[2], label='v0(t)')\n",
                "plt.plot(sol.t, sol.y[3], label='v1(t)')\n",
                "plt.xlabel('Time t')\n",
                "plt.legend()\n",
                "plt.grid(True)\n",
                "plt.show()"
            ]
        },
        {
            "cell_type": "code",
            "execution_count": null,
            "id": "686888e4",
            "metadata": {},
            "outputs": [],
            "source": [
                "q, v = np.split(sol.y, 2)\n",
                "potential_energy = vmap(S, in_axes=(1,))(q)\n",
                "kinetic_energy = vmap(K, in_axes=(1,))(v)\n",
                "plt.plot(potential_energy)\n",
                "plt.plot(kinetic_energy)\n",
                "plt.plot(potential_energy + kinetic_energy)\n",
                "plt.show()"
            ]
        },
        {
            "cell_type": "markdown",
            "id": "717ab19e",
            "metadata": {},
            "source": [
                "### Verlet time integration (optional)"
            ]
        },
        {
            "cell_type": "code",
            "execution_count": null,
            "id": "e07315f2",
            "metadata": {},
            "outputs": [],
            "source": [
                "def velocity_verlet(t, dt, z, P, equations_of_motion, m, c=0., F=0.):\n",
                "    q, v = jnp.split(z, 2) \n",
                "    a = equations_of_motion(t, z, P, m, c, F)[len(q):] \n",
                "    q = q + v*dt + 0.5*a*dt**2\n",
                "    z = jnp.concatenate([q, v])\n",
                "    new_a = equations_of_motion(t, z, P, m, c, F)[len(q):]\n",
                "    v = v + 0.5*(new_a + a) * dt\n",
                "    return jnp.concatenate([q, v])"
            ]
        },
        {
            "cell_type": "code",
            "execution_count": null,
            "id": "7fae95d1",
            "metadata": {},
            "outputs": [],
            "source": [
                "z = z0\n",
                "dt = 0.001\n",
                "times = np.arange(0., 10., dt)\n",
                "zs = np.zeros((len(z0), len(times)))\n",
                "for i,t in enumerate(times):\n",
                "    z = velocity_verlet(t, dt, z, S, equations_of_motion, m) \n",
                "    zs[:,i] = z"
            ]
        },
        {
            "cell_type": "code",
            "execution_count": null,
            "id": "5c8400ee",
            "metadata": {},
            "outputs": [],
            "source": [
                "# Plot the results\n",
                "plt.plot(times, zs[0], label='q0(t)')\n",
                "plt.plot(times, zs[1], label='q1(t)')\n",
                "plt.plot(times, zs[2], label='v0(t)')\n",
                "plt.plot(times, zs[3], label='v1(t)')\n",
                "plt.xlabel('Time t')\n",
                "plt.legend()\n",
                "plt.grid(True)\n",
                "plt.show()"
            ]
        },
        {
            "cell_type": "markdown",
            "id": "521e80d8-101e-455a-ac3b-55dc3ac1c269",
            "metadata": {},
            "source": [
                "### Rigid spheres and elastic beam falling in a viscous fluid"
            ]
        },
        {
            "cell_type": "code",
            "execution_count": null,
            "id": "5ab22457-e23b-42e4-a479-44824dad679b",
            "metadata": {},
            "outputs": [],
            "source": [
                "N = 11 # number of spheres (must be odd)\n",
                "l = 0.1 # total length of the rod\n",
                "dl = l/(N-1)\n",
                "xs = jnp.linspace(0., l, N).reshape(-1,1) # array of the x coords as a column\n",
                "ys = jnp.zeros((N,1))\n",
                "q0 = jnp.hstack([xs, ys]).ravel() # [x0, y0, x1, y1, ...]\n",
                "v0 = jnp.zeros(2*N)\n",
                "z0 = jnp.concatenate([q0, v0])"
            ]
        },
        {
            "cell_type": "code",
            "execution_count": null,
            "id": "5d83383d-41bc-4c52-806e-41c81f134997",
            "metadata": {},
            "outputs": [],
            "source": [
                "# Material parameters\n",
                "E = 1e9 # Young's modulus\n",
                "r0 = 1e-3 # beam radius\n",
                "EA = E*np.pi*r0**2 # stretching stiffenss\n",
                "EI = E*np.pi*r0**4/4 # bending stiffness\n",
                "rho_m = 7000. # density of the metal (spheres)\n",
                "rho_f = 1000. # density of the fluid\n",
                "radii = 5e-3*np.ones(2*N) # radii of the spheres (2 per dof)\n",
                "radii[N-1:N+1] = 25e-3\n",
                "V = 4/3*np.pi*np.power(radii, 3) # volumes of the spheres\n",
                "m = rho_m * V # masses of the spheres\n",
                "mu = 1000. # fluid viscosity\n",
                "\n",
                "# Viscous damping coefficients\n",
                "c = 6*np.pi*mu*radii"
            ]
        },
        {
            "cell_type": "code",
            "execution_count": null,
            "id": "0918f637",
            "metadata": {},
            "outputs": [],
            "source": [
                "# Buoyancy forces (TO COMPLETE)\n",
                "y_components = np.ones(2*N)\n",
                "# y_components = ... select the dofs corresponding to y components\n",
                "F = -V*y_components*(rho_m-rho_f)*9.81"
            ]
        },
        {
            "cell_type": "markdown",
            "id": "ba7351ad",
            "metadata": {},
            "source": [
                "Define the functions needed to compute the curvatures and the stretching energy of the system."
            ]
        },
        {
            "cell_type": "code",
            "execution_count": null,
            "id": "e68736cd",
            "metadata": {},
            "outputs": [],
            "source": [
                "# Geometry functions\n",
                "def compute_edge_vectors(q):\n",
                "    # Return the matrix where the rows correspond to the edges and the columns are the x\n",
                "    # and y components of the edge vectors. Takes as input the array of the node\n",
                "    # positions (i.e. [x0,y0,x1,y1,...]).\n",
                "    pass\n",
                "\n",
                "def compute_curvatures(edge_vectors_norm):\n",
                "    # Return the array of the discrete curvatures evaluated at the internal nodes of the\n",
                "    # beam. Takes as an input the matrix of the normalized (unit) edge vectors. \n",
                "    # cos_turning_angles = ...\n",
                "    # sin_turning_angles = ...\n",
                "    # tan_theta_half = ...\n",
                "    return 2*tan_theta_half/dl\n",
                "\n",
                "# Stretching energy\n",
                "def S(q):\n",
                "    pass"
            ]
        },
        {
            "cell_type": "code",
            "execution_count": null,
            "id": "ceff80cb",
            "metadata": {},
            "outputs": [],
            "source": [
                "# Bending energy\n",
                "def B(q):\n",
                "    edge_vectors = compute_edge_vectors(q)\n",
                "    edge_vectors_norm = edge_vectors / jnp.linalg.norm(edge_vectors, axis=1).reshape(-1,1)\n",
                "    curvatures = compute_curvatures(edge_vectors_norm)\n",
                "    return 0.5*EI*jnp.sum(curvatures**2*dl)\n",
                "\n",
                "# Total potential energy\n",
                "def P(q):\n",
                "    pass\n"
            ]
        },
        {
            "cell_type": "markdown",
            "id": "dd0b0cb3",
            "metadata": {},
            "source": [
                "Then, we can integrate the equations of motion:"
            ]
        },
        {
            "cell_type": "code",
            "execution_count": null,
            "id": "b18318f1",
            "metadata": {},
            "outputs": [],
            "source": [
                "# Time span\n",
                "t_span = (0, 10)  # from t=0 to t=10\n",
                "t_eval = np.linspace(t_span[0], t_span[1], 100)  # points at which to store the solution\n",
                "\n",
                "# Solve the system using RK45 (explicit method)\n",
                "# sol = solve_ivp(equations_of_motion, t_span, z0, args=(P, m, c, F), t_eval=t_eval)\n",
                "# Solve the system using BDF (implicit method)\n",
                "sol = solve_ivp(equations_of_motion, t_span, z0, args=(P, m, c, F), method=\"BDF\", t_eval=t_eval, jac=jacobian)"
            ]
        },
        {
            "cell_type": "code",
            "execution_count": null,
            "id": "714ff44f",
            "metadata": {},
            "outputs": [],
            "source": [
                "q, v = np.split(sol.y, 2)\n",
                "plt.plot(sol.t, q[1], label='y1')\n",
                "plt.plot(sol.t, q[3], label='y2')\n",
                "plt.plot(sol.t, q[5], label='y3')\n",
                "plt.xlabel('Time t')\n",
                "plt.legend()\n",
                "plt.grid(True)\n",
                "plt.show()"
            ]
        },
        {
            "cell_type": "code",
            "execution_count": null,
            "id": "4a669339",
            "metadata": {},
            "outputs": [],
            "source": [
                "plt.plot(sol.t, q[0], label='x1')\n",
                "plt.plot(sol.t, q[2], label='x2')\n",
                "plt.plot(sol.t, q[4], label='x3')\n",
                "plt.xlabel('Time t')\n",
                "plt.legend()\n",
                "plt.grid(True)\n",
                "plt.show()"
            ]
        },
        {
            "cell_type": "code",
            "execution_count": null,
            "id": "255b739e",
            "metadata": {},
            "outputs": [],
            "source": [
                "# Plot the final configuration of the beam\n",
                "plt.plot(q[::2,-1],q[1::2,-1])\n",
                "plt.show()"
            ]
        },
        {
            "cell_type": "markdown",
            "id": "97038185",
            "metadata": {},
            "source": [
                "### Bending of a simply-supported rod under uniform load"
            ]
        },
        {
            "cell_type": "code",
            "execution_count": null,
            "id": "393bce8b",
            "metadata": {},
            "outputs": [],
            "source": [
                "N = 51 # number of nodes\n",
                "l = 1. # total length of the rod\n",
                "dl = l/(N-1)\n",
                "xs = jnp.linspace(0., l, N).reshape(-1,1)\n",
                "ys = jnp.zeros((N,1))\n",
                "q0 = jnp.hstack([xs, ys]).ravel()\n",
                "v0 = jnp.zeros(2*N)\n",
                "z0 = jnp.concatenate([q0, v0])"
            ]
        },
        {
            "cell_type": "code",
            "execution_count": null,
            "id": "14c08bc5",
            "metadata": {},
            "outputs": [],
            "source": [
                "E = 70e9 # Young's modulus\n",
                "R = 0.013 # outer radius circular cross-section\n",
                "r = 0.011 # inner radius circular cross-section\n",
                "I = np.pi/4*(R**4 - r**4)\n",
                "EA = E*np.pi*(R**2 - r**2) # stretching stiffness\n",
                "EI = E*I # bending stiffness\n",
                "rho = 2700 # material's density\n",
                "m = np.pi*(R**2-r**2)*l*rho/(N-1) # array of nodal massess\n",
                "c = 5. # damping, just to reach steady-state faster"
            ]
        },
        {
            "cell_type": "markdown",
            "id": "c57f0144",
            "metadata": {},
            "source": [
                "Modify the equations of motion to enforce the boundary conditions (zero displacement and\n",
                "velocity on the left end, zero vertical displacement and vertical velocity on the right end)."
            ]
        },
        {
            "cell_type": "code",
            "execution_count": null,
            "id": "6b7d728d",
            "metadata": {},
            "outputs": [],
            "source": [
                "@partial(jit, static_argnames=(\"P\",))\n",
                "def equations_of_motion(t, z, P, m, c=0., F=0.):\n",
                "    q, v = jnp.array_split(z, 2) # split state into positions and velocity\n",
                "    # TODO: enforce boundary conditions\n",
                "    dq_dt = v\n",
                "    dv_dt = -grad(P)(q)/m-c*v/m+F/m\n",
                "    return jnp.concatenate([dq_dt, dv_dt])"
            ]
        },
        {
            "cell_type": "markdown",
            "id": "a1b53cca",
            "metadata": {},
            "source": [
                "1. Compute the configuration of the rod in the time interval $[0,0.1]$ when a\n",
                "   _distributed_ vertical load is applied to it (hint: distribute the load over the nodes). Perform the simulation for each value of the load in the\n",
                "   interval $[1000,10000]$, with load increment $1000$. (Hint: use the `LSODA` solver in\n",
                "   `solve_ivp`). \n",
                "2. For each load, plot the maximum vertical displacement of the rod as obtained from the\n",
                "  simulation and from the linear beam theory.\n",
                "2. Plot the final deformed configuration of the rod (load = 10000)."
            ]
        },
        {
            "cell_type": "code",
            "execution_count": null,
            "id": "2d5e97c8",
            "metadata": {},
            "outputs": [],
            "source": [
                "@partial(jit, static_argnames=(\"P\",))\n",
                "def jacobian(t, z, P, m, c=0., F=0.):\n",
                "    return jacfwd(equations_of_motion, argnums=1)(t, z, P, m, c, F)"
            ]
        },
        {
            "cell_type": "code",
            "execution_count": null,
            "id": "54606079",
            "metadata": {},
            "outputs": [],
            "source": [
                "t_span = (0, 0.1)\n",
                "t_eval = np.linspace(t_span[0], t_span[1], 100)  # points at which to store the solution\n",
                "\n",
                "y_components = np.ones(2*N)\n",
                "y_components[::2] = 0. # select the dofs corresponding to y components\n",
                "\n",
                "y_theory = [] # store the maximum deflection values for each load as computed using the analytical formula\n",
                "y_num = [] # corresponding numerical values\n",
                "\n",
                "loads = np.linspace(1000, 10000, 10)\n",
                "\n",
                "for load in loads:\n",
                "    print(load)\n",
                "    # F = ...  compute nodal loads from total load\n",
                "    # vertical displacement according to linear beam theory\n",
                "    w = -load/l\n",
                "    y_theory.append(5*w*l**4/(384*EI))\n",
                "\n",
                "    # sol = solve_ivp(...)\n",
                "\n",
                "    q, v = np.split(sol.y, 2)\n",
                "    # y_num.append(...) # record y-displacement of the midpoint at final time"
            ]
        },
        {
            "cell_type": "code",
            "execution_count": null,
            "id": "504f1d4f",
            "metadata": {},
            "outputs": [],
            "source": [
                "# Final configuration (maximum load)\n",
                "plt.plot(q[::2,-1],q[1::2,-1])\n",
                "plt.show()"
            ]
        },
        {
            "cell_type": "code",
            "execution_count": null,
            "id": "26dad37d",
            "metadata": {},
            "outputs": [],
            "source": [
                "plt.plot(loads, y_theory, label=\"linear theory\")\n",
                "plt.plot(loads, y_num, label=\"numerical model\")\n",
                "plt.xlabel(\"Total load [N]\")\n",
                "plt.ylabel(\"Maximum deflection [m]\")\n",
                "plt.legend()\n",
                "plt.show()"
            ]
        },
        {
            "cell_type": "markdown",
            "id": "677c8b2a",
            "metadata": {},
            "source": [
                "#### Example using Diffrax (optional)"
            ]
        },
        {
            "cell_type": "markdown",
            "id": "1e117ba5",
            "metadata": {},
            "source": [
                "`Diffrax` ([docs](https://docs.kidger.site/diffrax/)) is a JAX-based library providing numerical solvers for differential equations."
            ]
        },
        {
            "cell_type": "code",
            "execution_count": null,
            "id": "f543afb6",
            "metadata": {},
            "outputs": [],
            "source": [
                "# Needed on Colab (also restart)\n",
                "!pip install diffrax"
            ]
        },
        {
            "cell_type": "code",
            "execution_count": null,
            "id": "082211b3",
            "metadata": {},
            "outputs": [],
            "source": [
                "from diffrax import diffeqsolve, ODETerm, ImplicitEuler, PIDController, Heun, Midpoint\n",
                "\n",
                "def equations_of_motion(t, z, args):\n",
                "    P, m, c, F = args\n",
                "    q, v = jnp.array_split(z, 2) # split state into positions and velocity\n",
                "    q = q.at[0:2].set(0)\n",
                "    q = q.at[-1].set(0)\n",
                "    v = v.at[0:2].set(0)\n",
                "    v = v.at[-1].set(0)\n",
                "    dq_dt = v\n",
                "    dv_dt = -grad(P)(q)/m-c*v/m+F/m\n",
                "    return jnp.concatenate([dq_dt, dv_dt])\n",
                "\n",
                "term = ODETerm(equations_of_motion)\n",
                "solver = Heun() # ImplicitEuler()\n",
                "stepsize_controller = PIDController(rtol=1e-4, atol=1e-4)\n",
                "P0 = 10000./N # distribute load over nodes\n",
                "y_components = np.ones(2*N)\n",
                "y_components[::2] = 0. # select the dofs corresponding to y components\n",
                "F = -P0*y_components\n",
                "solution = diffeqsolve(term, solver, t0=0, t1=0.1, dt0=1e-4, y0=z0, args=(P, m, c, F), stepsize_controller=stepsize_controller, max_steps=1000000)"
            ]
        },
        {
            "cell_type": "code",
            "execution_count": null,
            "id": "e307ca4b",
            "metadata": {},
            "outputs": [],
            "source": [
                "q, v = np.split(solution.ys[0], 2)\n",
                "plt.plot(q[::2],q[1::2])\n",
                "plt.show()"
            ]
        }
    ],
    "metadata": {
        "kernelspec": {
            "display_name": "Python 3 (ipykernel)",
            "language": "python",
            "name": "python3"
        },
        "language_info": {
            "codemirror_mode": {
                "name": "ipython",
                "version": 3
            },
            "file_extension": ".py",
            "mimetype": "text/x-python",
            "name": "python",
            "nbconvert_exporter": "python",
            "pygments_lexer": "ipython3",
            "version": "3.11.8"
        }
    },
    "nbformat": 4,
    "nbformat_minor": 5
}
