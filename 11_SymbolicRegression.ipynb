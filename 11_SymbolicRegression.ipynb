{
 "cells": [
  {
   "cell_type": "markdown",
   "metadata": {},
   "source": [
    "[![Open In Colab](https://colab.research.google.com/assets/colab-badge.svg)](https://colab.research.google.com/github/alucantonio/data_enhanced_simulation/blob/master/11_SymbolicRegression.ipynb)"
   ]
  },
  {
   "cell_type": "markdown",
   "metadata": {},
   "source": [
    "# Symbolic regression"
   ]
  },
  {
   "cell_type": "markdown",
   "metadata": {},
   "source": [
    "Symbolic regression (SR) is a machine learning technique that aims to discover mathematical\n",
    "expressions that best describe a dataset. Unlike traditional regression methods that fit\n",
    "predefined equation structures (like linear or polynomial regression), symbolic\n",
    "regression searches through a space of possible mathematical expressions to find both\n",
    "the form and parameters of the equation.\n",
    "\n",
    "Here's a simple example:\n",
    "\n",
    "- Traditional regression might try to fit $y = ax + b$\n",
    "- Symbolic regression could discover $y = \\sin(x^2) + x/2$\n",
    "\n",
    "The main advantages of SR over other machine learning techniques are:\n",
    "\n",
    "- No need to assume a specific form for the relationship\n",
    "- Can discover novel mathematical relationships\n",
    "- Results are interpretable mathematical expressions\n",
    "\n",
    "Mathematical expressions can be represented and manipulated as _expression trees_:\n",
    "\n",
    "<figure>\n",
    "    <img src=\"Genetic_Program_Tree.png\" alt=\"Caption\" width=\"300\" />\n",
    "    <figcaption>Representation of a mathematical expression as a tree (from Wikipedia).</figcaption>\n",
    "</figure>"
   ]
  },
  {
   "cell_type": "markdown",
   "metadata": {},
   "source": [
    "## Genetic Programming-based symbolic regression\n",
    "\n",
    "Symbolic regression typically uses **genetic programming (GP)**, an _evolutionary_ technique that evolves a\n",
    "population of trees (individuals) to find the best fit expression. \n",
    "In GP, the variables and constants in the expression are leaves of the tree and they are called _terminals_, while the arithmetic\n",
    "operations are internal nodes called _functions_. The sets of\n",
    "allowed functions and terminals together form the _primitive set_ of a GP\n",
    "system.\n",
    "\n",
    "As preliminary steps of any GP run, we need to define the primitive set and the **fitness** function,\n",
    "which measures how good an individual (candidate expression) is at fitting a given\n",
    "dataset. For example, the fitness could be related to the MSE on the training set, and\n",
    "it could include a penalty term to favor simpler solutions (i.e. shorter expressions).\n",
    "We should also define some stopping criteria for the evolution, such as the maximum\n",
    "number of _generations_ or a threshold on the fitness.\n",
    "\n",
    "Pseudo-code of the GP-based SR algorithm:\n",
    "```pseudo\n",
    "Initialize population (random)\n",
    "Evaluate fitness of each individual\n",
    "\n",
    "For each generation:\n",
    "    Select parents using selection strategy\n",
    "    Apply crossover and mutation to create offspring\n",
    "    Evaluate fitness of new individuals\n",
    "    Update population (replace least fit)\n",
    "    \n",
    "    If stopping criteria met:\n",
    "        Break\n",
    "\n",
    "Return best individual\n"
   ]
  },
  {
   "cell_type": "markdown",
   "metadata": {},
   "source": [
    "Typical parents selection methods are **tournament** and **uniform**, which are analogous to\n",
    "those found in **genetic algorithms**. Cross-over and mutation operators are typical of\n",
    "genetic algorithms, as well; in the context of GP, they are applied to the expression trees:"
   ]
  },
  {
   "cell_type": "markdown",
   "metadata": {},
   "source": [
    "<figure>\n",
    "    <img src=\"gp_schematic.png\" alt=\"Caption\" width=\"600\" />\n",
    "    <figcaption>Cross-over and mutation in Genetic Programming (taken from Quade et al., 2016).</figcaption>\n",
    "</figure>"
   ]
  },
  {
   "cell_type": "markdown",
   "metadata": {},
   "source": [
    "## Discovering the dynamics of the environment"
   ]
  },
  {
   "cell_type": "code",
   "execution_count": 170,
   "metadata": {},
   "outputs": [],
   "source": [
    "import gymnasium as gym\n",
    "import numpy as np\n",
    "import pandas as pd\n",
    "\n",
    "# Initialize the MountainCarContinuous-v0 environment\n",
    "env = gym.make(\"MountainCarContinuous-v0\")\n",
    "\n",
    "# Parameters\n",
    "num_samples = 20000  # Number of samples to generate\n",
    "\n",
    "# Initialize storage for dataset\n",
    "data = []\n",
    "\n",
    "# Reset the environment to a random initial state\n",
    "state, _ = env.reset()\n",
    "\n",
    "for _ in range(num_samples):\n",
    "    # Get current position and velocity from the state\n",
    "    position, velocity = state\n",
    "    \n",
    "    # Use the environment's action space to sample a random action\n",
    "    action = env.action_space.sample()\n",
    "    \n",
    "    # Apply the action and observe the next state\n",
    "    next_state, _, done, truncated, _ = env.step(action)\n",
    "    \n",
    "    # Extract next velocity\n",
    "    next_velocity = next_state[1]\n",
    "    \n",
    "    # Append the current state, action, and next velocity to the dataset\n",
    "    data.append([position, velocity, action[0], next_velocity])\n",
    "    \n",
    "    # Check if the episode has ended\n",
    "    if done or truncated:\n",
    "        # Reset the environment and start a new episode\n",
    "        state, _ = env.reset()\n",
    "    else:\n",
    "        # Update the state for the next step\n",
    "        state = next_state\n",
    "\n",
    "# Convert to a Pandas DataFrame\n",
    "columns = [\"position\", \"velocity\", \"action\", \"next_velocity\"]\n",
    "dataset = pd.DataFrame(data, columns=columns)\n",
    "\n",
    "# Dataset is now stored in the `dataset` variable.\n",
    "env.close()"
   ]
  },
  {
   "cell_type": "code",
   "execution_count": 171,
   "metadata": {},
   "outputs": [
    {
     "data": {
      "text/html": [
       "<div>\n",
       "<style scoped>\n",
       "    .dataframe tbody tr th:only-of-type {\n",
       "        vertical-align: middle;\n",
       "    }\n",
       "\n",
       "    .dataframe tbody tr th {\n",
       "        vertical-align: top;\n",
       "    }\n",
       "\n",
       "    .dataframe thead th {\n",
       "        text-align: right;\n",
       "    }\n",
       "</style>\n",
       "<table border=\"1\" class=\"dataframe\">\n",
       "  <thead>\n",
       "    <tr style=\"text-align: right;\">\n",
       "      <th></th>\n",
       "      <th>position</th>\n",
       "      <th>velocity</th>\n",
       "      <th>action</th>\n",
       "      <th>next_velocity</th>\n",
       "    </tr>\n",
       "  </thead>\n",
       "  <tbody>\n",
       "    <tr>\n",
       "      <th>0</th>\n",
       "      <td>-0.566266</td>\n",
       "      <td>0.000000</td>\n",
       "      <td>0.504779</td>\n",
       "      <td>0.001076</td>\n",
       "    </tr>\n",
       "    <tr>\n",
       "      <th>1</th>\n",
       "      <td>-0.565190</td>\n",
       "      <td>0.001076</td>\n",
       "      <td>-0.154902</td>\n",
       "      <td>0.001155</td>\n",
       "    </tr>\n",
       "    <tr>\n",
       "      <th>2</th>\n",
       "      <td>-0.564034</td>\n",
       "      <td>0.001155</td>\n",
       "      <td>-0.687653</td>\n",
       "      <td>0.000426</td>\n",
       "    </tr>\n",
       "    <tr>\n",
       "      <th>3</th>\n",
       "      <td>-0.563608</td>\n",
       "      <td>0.000426</td>\n",
       "      <td>-0.244649</td>\n",
       "      <td>0.000358</td>\n",
       "    </tr>\n",
       "    <tr>\n",
       "      <th>4</th>\n",
       "      <td>-0.563250</td>\n",
       "      <td>0.000358</td>\n",
       "      <td>-0.159764</td>\n",
       "      <td>0.000416</td>\n",
       "    </tr>\n",
       "    <tr>\n",
       "      <th>...</th>\n",
       "      <td>...</td>\n",
       "      <td>...</td>\n",
       "      <td>...</td>\n",
       "      <td>...</td>\n",
       "    </tr>\n",
       "    <tr>\n",
       "      <th>19995</th>\n",
       "      <td>-0.556397</td>\n",
       "      <td>0.004981</td>\n",
       "      <td>-0.829353</td>\n",
       "      <td>0.003982</td>\n",
       "    </tr>\n",
       "    <tr>\n",
       "      <th>19996</th>\n",
       "      <td>-0.552415</td>\n",
       "      <td>0.003982</td>\n",
       "      <td>-0.301219</td>\n",
       "      <td>0.003746</td>\n",
       "    </tr>\n",
       "    <tr>\n",
       "      <th>19997</th>\n",
       "      <td>-0.548669</td>\n",
       "      <td>0.003746</td>\n",
       "      <td>0.354045</td>\n",
       "      <td>0.004465</td>\n",
       "    </tr>\n",
       "    <tr>\n",
       "      <th>19998</th>\n",
       "      <td>-0.544203</td>\n",
       "      <td>0.004465</td>\n",
       "      <td>0.191231</td>\n",
       "      <td>0.004907</td>\n",
       "    </tr>\n",
       "    <tr>\n",
       "      <th>19999</th>\n",
       "      <td>-0.539297</td>\n",
       "      <td>0.004907</td>\n",
       "      <td>0.996040</td>\n",
       "      <td>0.006518</td>\n",
       "    </tr>\n",
       "  </tbody>\n",
       "</table>\n",
       "<p>20000 rows × 4 columns</p>\n",
       "</div>"
      ],
      "text/plain": [
       "       position  velocity    action  next_velocity\n",
       "0     -0.566266  0.000000  0.504779       0.001076\n",
       "1     -0.565190  0.001076 -0.154902       0.001155\n",
       "2     -0.564034  0.001155 -0.687653       0.000426\n",
       "3     -0.563608  0.000426 -0.244649       0.000358\n",
       "4     -0.563250  0.000358 -0.159764       0.000416\n",
       "...         ...       ...       ...            ...\n",
       "19995 -0.556397  0.004981 -0.829353       0.003982\n",
       "19996 -0.552415  0.003982 -0.301219       0.003746\n",
       "19997 -0.548669  0.003746  0.354045       0.004465\n",
       "19998 -0.544203  0.004465  0.191231       0.004907\n",
       "19999 -0.539297  0.004907  0.996040       0.006518\n",
       "\n",
       "[20000 rows x 4 columns]"
      ]
     },
     "execution_count": 171,
     "metadata": {},
     "output_type": "execute_result"
    }
   ],
   "source": [
    "dataset"
   ]
  },
  {
   "cell_type": "code",
   "execution_count": 172,
   "metadata": {},
   "outputs": [],
   "source": [
    "X = dataset[[\"position\", \"velocity\", \"action\"]].to_numpy()\n",
    "y = dataset[[\"next_velocity\"]].to_numpy().ravel()"
   ]
  },
  {
   "cell_type": "code",
   "execution_count": 173,
   "metadata": {},
   "outputs": [],
   "source": [
    "exact_next_velocity = X[:,1] + 0.0015*X[:,2] - 0.0025*np.cos(3*X[:,0])"
   ]
  },
  {
   "cell_type": "code",
   "execution_count": 174,
   "metadata": {},
   "outputs": [
    {
     "data": {
      "text/plain": [
       "array([0.0010763 , 0.00115507, 0.00042611, ..., 0.00446539, 0.00490667,\n",
       "       0.00651842], dtype=float32)"
      ]
     },
     "execution_count": 174,
     "metadata": {},
     "output_type": "execute_result"
    }
   ],
   "source": [
    "exact_next_velocity"
   ]
  },
  {
   "cell_type": "code",
   "execution_count": 175,
   "metadata": {},
   "outputs": [
    {
     "data": {
      "text/plain": [
       "array([0.0010763 , 0.00115507, 0.00042611, ..., 0.00446539, 0.00490667,\n",
       "       0.00651842], dtype=float32)"
      ]
     },
     "execution_count": 175,
     "metadata": {},
     "output_type": "execute_result"
    }
   ],
   "source": [
    "y"
   ]
  },
  {
   "cell_type": "code",
   "execution_count": 219,
   "metadata": {},
   "outputs": [
    {
     "name": "stdout",
     "output_type": "stream",
     "text": [
      "1.0\n",
      "1.0\n"
     ]
    }
   ],
   "source": [
    "import numpy as np\n",
    "from sklearn.model_selection import train_test_split\n",
    "from sklearn.metrics import r2_score\n",
    "from sklearn.preprocessing import StandardScaler\n",
    "\n",
    "from pyoperon.sklearn import SymbolicRegressor\n",
    "\n",
    "X_train, X_test, y_train, y_test = train_test_split(X, y, train_size=0.8, test_size=0.2, shuffle=True)\n",
    "\n",
    "scaler = StandardScaler().fit(X_train)\n",
    "scaler_y = StandardScaler().fit(y_train.reshape(-1,1))\n",
    "\n",
    "# X_train_scaled = scaler.transform(X_train)\n",
    "# X_test_scaled = scaler.transform(X_test)\n",
    "X_train_scaled = X_train\n",
    "X_test_scaled = X_test\n",
    "# y_train_scaled = scaler_y.transform(y_train.reshape(-1,1))\n",
    "# y_test_scaled = scaler_y.transform(y_test.reshape(-1,1))\n",
    "\n",
    "\n",
    "reg = SymbolicRegressor(\n",
    "    allowed_symbols='add,mul,sub,cos,constant,variable',\n",
    "    # offspring_generator='basic',\n",
    "    optimizer_iterations=10,\n",
    "    max_length=15,\n",
    "    # initialization_method='btc',\n",
    "    n_threads=32,\n",
    "    objectives = ['r2'],\n",
    "    # epsilon = 0,\n",
    "    # random_state=None,\n",
    "    # reinserter='keep-best',\n",
    "    # max_evaluations=int(1e6),\n",
    "    population_size=500,\n",
    "    # symbolic_mode=True,\n",
    "    tournament_size=2,\n",
    "    generations=100,\n",
    ")\n",
    "\n",
    "reg.fit(X_train_scaled, y_train)\n",
    "print(reg.score(X_train_scaled, y_train))\n",
    "print(reg.score(X_test_scaled, y_test))"
   ]
  },
  {
   "cell_type": "code",
   "execution_count": 220,
   "metadata": {},
   "outputs": [
    {
     "data": {
      "text/plain": [
       "'((-0.000) + (1.000 * ((cos(((3.000 * X1) + (-0.000))) * (-0.003)) - (((-0.002) * X3) - ((1.000 * X2) + (0.000 * X1))))))'"
      ]
     },
     "execution_count": 220,
     "metadata": {},
     "output_type": "execute_result"
    }
   ],
   "source": [
    "reg.get_model_string(reg.model_)"
   ]
  },
  {
   "cell_type": "code",
   "execution_count": 221,
   "metadata": {},
   "outputs": [
    {
     "name": "stdout",
     "output_type": "stream",
     "text": [
      "1.0*X2 + 0.002*X3 - 0.003*cos(3.0*X1)\n"
     ]
    }
   ],
   "source": [
    "import sympy as sp\n",
    "\n",
    "print(sp.simplify(reg.get_model_string(reg.model_)))"
   ]
  },
  {
   "cell_type": "code",
   "execution_count": null,
   "metadata": {},
   "outputs": [],
   "source": []
  }
 ],
 "metadata": {
  "kernelspec": {
   "display_name": "datasim",
   "language": "python",
   "name": "python3"
  },
  "language_info": {
   "codemirror_mode": {
    "name": "ipython",
    "version": 3
   },
   "file_extension": ".py",
   "mimetype": "text/x-python",
   "name": "python",
   "nbconvert_exporter": "python",
   "pygments_lexer": "ipython3",
   "version": "3.12.5"
  }
 },
 "nbformat": 4,
 "nbformat_minor": 2
}
