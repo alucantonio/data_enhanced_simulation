{
 "cells": [
  {
   "cell_type": "markdown",
   "metadata": {},
   "source": [
    "[![Open In Colab](https://colab.research.google.com/assets/colab-badge.svg)](https://colab.research.google.com/github/alucantonio/data_enhanced_simulation/blob/master/11_SymbolicRegression.ipynb)"
   ]
  },
  {
   "cell_type": "markdown",
   "metadata": {},
   "source": [
    "# Symbolic regression"
   ]
  },
  {
   "cell_type": "markdown",
   "metadata": {},
   "source": [
    "Symbolic regression (SR) is a machine learning technique that aims to discover mathematical\n",
    "expressions that best describe a dataset. Unlike traditional regression methods that fit\n",
    "predefined equation structures (like linear or polynomial regression), symbolic\n",
    "regression searches through a space of possible mathematical expressions to find both\n",
    "the form and parameters of the equation.\n",
    "\n",
    "Here's a simple example:\n",
    "\n",
    "- Traditional regression might try to fit $y = ax + b$\n",
    "- Symbolic regression could discover $y = \\sin(x^2) + x/2$\n",
    "\n",
    "The main advantages of SR over other machine learning techniques are:\n",
    "\n",
    "- No need to assume a specific form for the relationship\n",
    "- Can discover novel mathematical relationships\n",
    "- Results are interpretable mathematical expressions\n",
    "\n",
    "Mathematical expressions can be represented and manipulated as _expression trees_:\n",
    "\n",
    "<figure>\n",
    "    <img src=\"Genetic_Program_Tree.png\" alt=\"Caption\" width=\"300\" />\n",
    "    <figcaption>Representation of a mathematical expression as a tree (from Wikipedia).</figcaption>\n",
    "</figure>"
   ]
  },
  {
   "cell_type": "markdown",
   "metadata": {},
   "source": [
    "## Genetic Programming-based symbolic regression\n",
    "\n",
    "Symbolic regression typically uses **genetic programming (GP)**, an _evolutionary_ technique that evolves a\n",
    "population of trees (individuals) to find the best fit expression. \n",
    "In GP, the variables and constants in the expression are leaves of the tree and they are called _terminals_, while the arithmetic\n",
    "operations are internal nodes called _functions_. The sets of\n",
    "allowed functions and terminals together form the _primitive set_ of a GP\n",
    "system.\n",
    "\n",
    "As preliminary steps of any GP run, we need to define the primitive set and the **fitness** function,\n",
    "which measures how good an individual (candidate expression) is at fitting a given\n",
    "dataset. For example, the fitness could be related to the MSE on the training set, and\n",
    "it could include a penalty term to favor simpler solutions (i.e. shorter expressions).\n",
    "We should also define some stopping criteria for the evolution, such as the maximum\n",
    "number of _generations_ or a threshold on the fitness.\n",
    "\n",
    "Pseudo-code of the GP-based SR algorithm:\n",
    "```pseudo\n",
    "Initialize population (random)\n",
    "Evaluate fitness of each individual\n",
    "\n",
    "For each generation:\n",
    "    Select parents using selection strategy\n",
    "    Apply crossover and mutation to create offspring\n",
    "    Evaluate fitness of new individuals\n",
    "    Update population (replace least fit)\n",
    "    \n",
    "    If stopping criteria met:\n",
    "        Break\n",
    "\n",
    "Return best individual\n"
   ]
  },
  {
   "cell_type": "markdown",
   "metadata": {},
   "source": [
    "Typical parents selection methods are **tournament** and **uniform**, which are analogous to\n",
    "those found in **genetic algorithms**. Cross-over and mutation operators are typical of\n",
    "genetic algorithms, as well; in the context of GP, they are applied to the expression trees:"
   ]
  },
  {
   "cell_type": "markdown",
   "metadata": {},
   "source": [
    "<figure>\n",
    "    <img src=\"gp_schematic.png\" alt=\"Caption\" width=\"600\" />\n",
    "    <figcaption>Cross-over and mutation in Genetic Programming (taken from Quade et al., 2016).</figcaption>\n",
    "</figure>"
   ]
  },
  {
   "cell_type": "markdown",
   "metadata": {},
   "source": [
    "To perform a GP run, we should set some hyperparameters, which can be adjusted\n",
    "during model **validation**. The most important control parameter is the _population\n",
    "size_, as it controls the number of parallel explorations of the solution space. Other control\n",
    "parameters include the probabilities of performing the genetic operations (cross-over\n",
    "and mutation), the number of individuals involved in tournaments (in the case of\n",
    "tournament selction), and regularization factors (such as the penalty on expression length)."
   ]
  },
  {
   "cell_type": "markdown",
   "metadata": {},
   "source": [
    "## Discovering the dynamics of an environment\n",
    "\n",
    "In this exercise, you will discover the equation of evolution for the velocity of the\n",
    "`MountainCarContinuous` environment (see\n",
    "[docs](https://gymnasium.farama.org/environments/classic_control/mountain_car_continuous/))contained\n",
    "in `gymnasium` using symbolic regression. The equation implemented in the enviroment is:\n",
    "\n",
    "$$ v_{t+1} = v_t + 0.0015 a_t -0.0025\\cos(3 x_t)$$\n",
    "\n",
    "where $a_t$ is the action (float between -1 and 1) and $x_t$ is the position.\n",
    "\n",
    "As a symbolic regression tool, we will use the\n",
    "[`pyoperon`](https://github.com/heal-research/pyoperon) library. **Study** this\n",
    "[example](https://github.com/heal-research/pyoperon/blob/main/example/operon-sklearn.ipynb)\n",
    "and the [docs](https://operongp.readthedocs.io/en/latest/) of `operon` before trying to solve the problem."
   ]
  },
  {
   "cell_type": "code",
   "execution_count": null,
   "metadata": {},
   "outputs": [],
   "source": [
    "!pip install pyoperon"
   ]
  },
  {
   "cell_type": "code",
   "execution_count": null,
   "metadata": {},
   "outputs": [],
   "source": [
    "import gymnasium as gym\n",
    "\n",
    "env = gym.make(\"MountainCarContinuous-v0\")"
   ]
  },
  {
   "cell_type": "markdown",
   "metadata": {},
   "source": [
    "1. Generate a training set for symbolic regression made of 5000 samples, where each\n",
    "   sample is a list ($x_t$, $v_t$, $a_t$, $v_{t+1}$) recorded while interacting with the\n",
    "   environment. Create the arrays $X$ and $y$ (features and labels)."
   ]
  },
  {
   "cell_type": "code",
   "execution_count": null,
   "metadata": {},
   "outputs": [],
   "source": [
    "#@title Solution:\n",
    "\n",
    "import pandas as pd\n",
    "\n",
    "num_samples = 5000  # Number of samples to generate\n",
    "\n",
    "# Initialize storage for dataset\n",
    "data = []\n",
    "\n",
    "# Reset the environment to a random initial state\n",
    "state, _ = env.reset()\n",
    "\n",
    "for _ in range(num_samples):\n",
    "    # Get current position and velocity from the state\n",
    "    position, velocity = state\n",
    "    \n",
    "    # Use the environment's action space to sample a random action\n",
    "    action = env.action_space.sample()\n",
    "    \n",
    "    # Apply the action and observe the next state\n",
    "    next_state, _, terminated, truncated, _ = env.step(action)\n",
    "    \n",
    "    # Extract next velocity\n",
    "    next_velocity = next_state[1]\n",
    "    \n",
    "    # Append the current state, action, and next velocity to the dataset\n",
    "    data.append([position, velocity, action[0], next_velocity])\n",
    "    \n",
    "    # Check if the episode has ended\n",
    "    if terminated or truncated:\n",
    "        # Reset the environment and start a new episode\n",
    "        state, _ = env.reset()\n",
    "    else:\n",
    "        # Update the state for the next step\n",
    "        state = next_state\n",
    "\n",
    "# Convert to a Pandas DataFrame\n",
    "columns = [\"position\", \"velocity\", \"action\", \"next_velocity\"]\n",
    "dataset = pd.DataFrame(data, columns=columns)\n",
    "\n",
    "# Dataset is now stored in the `dataset` variable.\n",
    "env.close()\n",
    "\n",
    "X = dataset[[\"position\", \"velocity\", \"action\"]].to_numpy()\n",
    "y = dataset[[\"next_velocity\"]].to_numpy().ravel()"
   ]
  },
  {
   "cell_type": "markdown",
   "metadata": {},
   "source": [
    "2. Use `pyoperon` to find the analytical expression of the equation for the evolution of\n",
    "   the velocity. Adjust the parameters `population_size`, `generations`,\n",
    "   `tournament_size`, `max_length`, `optimizer_iterations` and `allowed_symbols` (start\n",
    "   with the default values). Evaluate the `R^2` score on the training and the test sets."
   ]
  },
  {
   "cell_type": "code",
   "execution_count": null,
   "metadata": {},
   "outputs": [],
   "source": [
    "#@title Solution:\n",
    "\n",
    "from sklearn.model_selection import train_test_split\n",
    "from pyoperon.sklearn import SymbolicRegressor\n",
    "\n",
    "X_train, X_test, y_train, y_test = train_test_split(X, y, train_size=0.8, test_size=0.2, shuffle=True)\n",
    "\n",
    "reg = SymbolicRegressor(\n",
    "    allowed_symbols='add,mul,sub,cos,constant,variable',\n",
    "    optimizer_iterations=10,\n",
    "    max_length=15,\n",
    "    n_threads=32,\n",
    "    objectives = ['r2'],\n",
    "    generations=100,\n",
    ")\n",
    "\n",
    "reg.fit(X_train, y_train)\n",
    "print(reg.score(X_train, y_train))\n",
    "print(reg.score(X_test, y_test))"
   ]
  },
  {
   "cell_type": "markdown",
   "metadata": {},
   "source": [
    "3. Use the `get_model_string` method of the `SymbolicRegressor` object that you have\n",
    "   just fitted to extract and print the string of the best model. Use the [`simplify`](https://docs.sympy.org/latest/tutorials/intro-tutorial/simplification.html)\n",
    "   function of the `sympy` library to simplify the expression."
   ]
  },
  {
   "cell_type": "code",
   "execution_count": null,
   "metadata": {},
   "outputs": [],
   "source": [
    "!pip install sympy"
   ]
  },
  {
   "cell_type": "code",
   "execution_count": null,
   "metadata": {},
   "outputs": [],
   "source": [
    "#@title Solution:\n",
    "\n",
    "import sympy as sp\n",
    "\n",
    "print(sp.simplify(reg.get_model_string(reg.model_)))"
   ]
  },
  {
   "cell_type": "markdown",
   "metadata": {},
   "source": [
    "**Bonus exercise**: discover the equations of motions of different falling objects using\n",
    "the experimental dataset contained [here](https://github.com/briandesilva/discovery-of-physics-from-data)."
   ]
  }
 ],
 "metadata": {
  "kernelspec": {
   "display_name": "datasim",
   "language": "python",
   "name": "python3"
  },
  "language_info": {
   "codemirror_mode": {
    "name": "ipython",
    "version": 3
   },
   "file_extension": ".py",
   "mimetype": "text/x-python",
   "name": "python",
   "nbconvert_exporter": "python",
   "pygments_lexer": "ipython3",
   "version": "3.12.5"
  }
 },
 "nbformat": 4,
 "nbformat_minor": 2
}
