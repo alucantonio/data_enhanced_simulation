{
  "cells": [
    {
      "cell_type": "code",
      "execution_count": null,
      "metadata": {
        "colab": {
          "base_uri": "https://localhost:8080/"
        },
        "id": "J2gFjYZY30mM",
        "outputId": "40a9f2c4-dc6b-4a9f-a6a8-5efb2aa7fcd4"
      },
      "outputs": [],
      "source": [
        "!pip install torch_geometric"
      ]
    },
    {
      "cell_type": "code",
      "execution_count": null,
      "metadata": {
        "colab": {
          "base_uri": "https://localhost:8080/",
          "height": 693
        },
        "id": "Mhr5-nAE3p-G",
        "outputId": "e5223bbd-ca4a-46e5-8013-be1c34c325ab"
      },
      "outputs": [],
      "source": [
        "import torch\n",
        "import torch.nn.functional as F\n",
        "from torch_geometric.data import Data, DataLoader\n",
        "from torch_geometric.nn import GCNConv\n",
        "import numpy as np"
      ]
    },
    {
      "cell_type": "code",
      "execution_count": null,
      "metadata": {},
      "outputs": [],
      "source": [
        "# Define the domain and discretization\n",
        "nx, ny = 20, 20  # Grid size\n",
        "x = np.linspace(0, 1, nx)\n",
        "y = np.linspace(0, 1, ny)\n",
        "xx, yy = np.meshgrid(x, y)\n",
        "nodes = torch.tensor(np.vstack([xx.ravel(), yy.ravel()]).T)  # Nodes in the graph\n",
        "\n",
        "# Define edges: connect each node to its neighbors\n",
        "edges = []\n",
        "for i in range(nx):\n",
        "    for j in range(ny):\n",
        "        if i < nx - 1:  # Horizontal edges\n",
        "            edges.append([i * ny + j, (i + 1) * ny + j])\n",
        "            edges.append([(i + 1) * ny + j, i * ny + j])\n",
        "        if j < ny - 1:  # Vertical edges\n",
        "            edges.append([i * ny + j, i * ny + (j + 1)])\n",
        "            edges.append([i * ny + (j + 1), i * ny + j])\n",
        "\n",
        "edge_index = torch.tensor(edges, dtype=torch.long).t().contiguous()\n",
        "\n",
        "# Define node features: (x, y, initial guess for u)\n",
        "node_features = torch.tensor(np.c_[nodes, np.zeros((nx * ny, 1))], dtype=torch.float)\n",
        "\n",
        "# Define the source term f(x, y) for the Poisson equation\n",
        "def source_term(x, y):\n",
        "    return torch.sin(torch.pi * x) * torch.sin(torch.pi * y)\n",
        "\n",
        "source_values = torch.tensor(source_term(nodes[:, 0], nodes[:, 1]).unsqueeze(1), dtype=torch.float)"
      ]
    },
    {
      "cell_type": "code",
      "execution_count": 5,
      "metadata": {},
      "outputs": [
        {
          "name": "stdout",
          "output_type": "stream",
          "text": [
            "tensor([20,  0])\n"
          ]
        }
      ],
      "source": [
        "print(edge_index[:,1])"
      ]
    },
    {
      "cell_type": "code",
      "execution_count": 6,
      "metadata": {
        "id": "EgfSu9Ol3sWt"
      },
      "outputs": [],
      "source": [
        "\n",
        "# Create PyTorch Geometric data object\n",
        "data = Data(x=node_features, edge_index=edge_index, y=source_values)\n",
        "\n",
        "# Define a simple GCN model\n",
        "class GCN(torch.nn.Module):\n",
        "    def __init__(self):\n",
        "        super(GCN, self).__init__()\n",
        "        self.conv1 = GCNConv(3, 16)\n",
        "        self.conv2 = GCNConv(16, 32)\n",
        "        self.conv3 = GCNConv(32, 1)\n",
        "\n",
        "    def forward(self, data):\n",
        "        x, edge_index = data.x, data.edge_index\n",
        "        x = F.relu(self.conv1(x, edge_index))\n",
        "        x = F.relu(self.conv2(x, edge_index))\n",
        "        x = self.conv3(x, edge_index)\n",
        "        return x\n",
        "\n",
        "# Initialize and train the GNN\n",
        "model = GCN()\n",
        "optimizer = torch.optim.Adam(model.parameters(), lr=0.01)\n",
        "\n",
        "# Training loop\n",
        "model.train()\n",
        "for epoch in range(1000):\n",
        "    optimizer.zero_grad()\n",
        "    out = model(data)\n",
        "    loss = F.mse_loss(out, data.y)  # Minimize the residual of the Poisson equation\n",
        "    loss.backward()\n",
        "    optimizer.step()\n",
        "\n",
        "    if epoch % 100 == 0:\n",
        "        print(f'Epoch {epoch}, Loss: {loss.item()}')\n",
        "\n",
        "# Predict the solution\n",
        "model.eval()\n",
        "with torch.no_grad():\n",
        "    predicted_u = model(data).detach().numpy()\n",
        "\n",
        "# Reshape the solution for visualization\n",
        "predicted_u = predicted_u.reshape(nx, ny)\n",
        "\n",
        "# Visualize the solution using matplotlib\n",
        "import matplotlib.pyplot as plt\n",
        "\n",
        "plt.imshow(predicted_u, extent=(0, 1, 0, 1), origin='lower', cmap='viridis')\n",
        "plt.colorbar(label='u(x, y)')\n",
        "plt.title('Predicted Solution u(x, y) for the Poisson Equation')\n",
        "plt.show()"
      ]
    }
  ],
  "metadata": {
    "colab": {
      "provenance": []
    },
    "kernelspec": {
      "display_name": "Python 3",
      "name": "python3"
    },
    "language_info": {
      "codemirror_mode": {
        "name": "ipython",
        "version": 3
      },
      "file_extension": ".py",
      "mimetype": "text/x-python",
      "name": "python",
      "nbconvert_exporter": "python",
      "pygments_lexer": "ipython3",
      "version": "3.11.8"
    }
  },
  "nbformat": 4,
  "nbformat_minor": 0
}
