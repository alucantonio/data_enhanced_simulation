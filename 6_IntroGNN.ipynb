{
 "cells": [
  {
   "cell_type": "markdown",
   "metadata": {
    "id": "R8WeEpdX4Vx2"
   },
   "source": [
    "# Introduction to Graph Neural Nets with JAX/jraph\n",
    "\n",
    "References:\n",
    "- A Gentle Introduction to Graph Neural Networks ([link](https://distill.pub/2021/gnn-intro/))\n",
    "- Graph Theory basics (MIT Open Courseware [slides](https://ocw.mit.edu/courses/civil-and-environmental-engineering/1-022-introduction-to-network-models-fall-2018/lecture-notes/MIT1_022F18_lec2.pdf) by Amir Ajorlou)"
   ]
  },
  {
   "cell_type": "code",
   "execution_count": null,
   "metadata": {
    "id": "OyH_VgjW7Bp3"
   },
   "outputs": [],
   "source": [
    "!pip install git+https://github.com/deepmind/jraph.git"
   ]
  },
  {
   "cell_type": "code",
   "execution_count": null,
   "metadata": {
    "id": "RJm7y6GH3WyB"
   },
   "outputs": [],
   "source": [
    "# Imports\n",
    "%matplotlib inline\n",
    "import matplotlib.pyplot as plt\n",
    "import jax\n",
    "import jax.numpy as jnp\n",
    "import jraph\n",
    "from jraph import GraphConvolution\n",
    "from flax import nnx\n",
    "import optax\n",
    "import networkx as nx\n",
    "import logging\n",
    "from tqdm.notebook import tqdm # progress bar\n",
    "\n",
    "logging.basicConfig(level=logging.INFO)"
   ]
  },
  {
   "cell_type": "markdown",
   "metadata": {
    "id": "gsKA-syx_LUi"
   },
   "source": [
    "## Fundamental Graph Theory concepts\n",
    "A graph consists of a set of nodes and a set of edges, where edges form connections\n",
    "between nodes. More formally, a graph is a pair $ \\mathcal{G} = (\\mathcal{V},\n",
    "\\mathcal{E})$ where $\\mathcal{V}$ is the set of vertices / nodes, and $\\mathcal{E}$ is\n",
    "the set of edges.\n",
    "\n",
    "In an **undirected** graph, each edge is an unordered pair of two nodes $ \\in\n",
    "\\mathcal{V}$. E.g. a friend network can be represented as an undirected graph, assuming\n",
    "that the relationship \"*A is friends with B*\" implies \"*B is friends with A*\". In a\n",
    "**directed** graph (or **digraph**), each edge is an ordered pair of nodes $ \\in \\mathcal{V}$. E.g. a\n",
    "citation network would be best represented with a directed graph, since the relationship\n",
    "\"*A cites B*\" does not imply \"*B cites A*\".\n",
    "\n",
    "The **degree** of a node is defined as the number of edges incident on it, i.e. the sum\n",
    "of incoming and outgoing edges for that node.\n",
    "\n",
    "There are several ways to represent $\\mathcal{E}$:\n",
    "1. As a **list of edges**: a list of pairs $(u,v)$, where $(u,v)$ means that there is an edge going from node $u$ to node $v$.\n",
    "2. As an **adjacency matrix**: a binary square matrix $A$ of size $|\\mathcal{V}| \\times |\\mathcal{V}|$, where $A_{u,v}=1$ iff there is a connection between nodes $u$ and $v$.\n",
    "3. As an **adjacency list**: An array of $|\\mathcal{V}|$ unordered lists, where the\n",
    "$i$-th list corresponds to the $i$-th node, and contains all the nodes the $i$-th node\n",
    "is connected _to_ (accounting for direction).\n"
   ]
  },
  {
   "cell_type": "markdown",
   "metadata": {
    "id": "_U6zwCe8b9i2"
   },
   "source": [
    "Example: Below is a directed graph with four nodes and five edges.\n",
    "\n",
    "<image src=\"https://storage.googleapis.com/dm-educational/assets/graph-nets/toy_graph.png\" width=\"400px\">\n",
    "\n",
    "Node 0 has out-degree of 2, since it has two outgoing edges, and an in-degree of 2, since it has two incoming edges.\n",
    "\n",
    "The list of edges is:\n",
    "$$[(0, 1), (0, 3), (1, 2), (2, 0), (3, 0)]$$\n",
    "\n",
    "As adjacency matrix:\n",
    "\n",
    "$$\\begin{array}{l|llll}\n",
    " source \\setminus dest    & n_0 & n_1 & n_2 & n_3 \\\\ \\hline\n",
    "n_0 & 0    & 1    & 0    & 1    \\\\\n",
    "n_1 & 0    & 0    & 1    & 0    \\\\\n",
    "n_2 & 1    & 0    & 0    & 0    \\\\\n",
    "n_3 & 1    & 0    & 0    & 0\n",
    "\\end{array}$$\n",
    "\n",
    "As adjacency list:\n",
    "\n",
    "$$[\\{1, 3\\}, \\{2\\}, \\{0\\}, \\{0\\}]$$\n",
    "\n"
   ]
  },
  {
   "cell_type": "markdown",
   "metadata": {
    "id": "spQGRxhPN8Eo"
   },
   "source": [
    "## Graph Prediction Tasks\n",
    "\n",
    "The _classification_ tasks fall into roughly three categories (analogous tasks for _regression_):\n",
    "\n",
    "1. **Node Classification**: E.g. what is the topic of a paper given a citation network of papers?\n",
    "2. **Link Prediction / Edge Classification**: E.g. are two people in a social network friends?\n",
    "3. **Graph Classification**: E.g. is this protein molecule (represented as a graph) likely going to be effective?\n",
    "\n",
    "<image src=\"https://storage.googleapis.com/dm-educational/assets/graph-nets/graph_tasks.png\" width=\"700px\">\n",
    "\n",
    "*The three main graph learning tasks. Image source: Petar Veličković.*"
   ]
  },
  {
   "cell_type": "markdown",
   "metadata": {
    "id": "3C5YI9M0vwvb"
   },
   "source": [
    "## The `jraph` library\n",
    "\n",
    "[`jraph`](https://github.com/deepmind/jraph) is a lightweight library for working with GNNs in [JAX](https://github.com/google/jax).\n",
    "\n",
    "In `jraph`, a graph is represented with a `GraphsTuple` object. In addition to defining the graph structure of nodes and edges, you can also store node features, edge features and global graph features in a `GraphsTuple`.\n",
    "\n",
    "In the `GraphsTuple`, edges are represented in two aligned arrays of node indices: senders (source nodes) and receivers (destinaton nodes).\n",
    "Each index corresponds to one edge, e.g. edge `i` goes from `senders[i]` to `receivers[i]`.\n",
    "\n",
    "We will start with creating a simple directed graph with 4 nodes and 5 edges. We will also add toy features to the nodes, using `2*node_index` as the feature.\n",
    "\n",
    "We will later use this toy graph in the GCN demo."
   ]
  },
  {
   "cell_type": "code",
   "execution_count": null,
   "metadata": {
    "id": "wK0rGWf56-Uq"
   },
   "outputs": [],
   "source": [
    "def build_toy_graph() -> jraph.GraphsTuple:\n",
    "  \"\"\"Define a four node graph, each node has a scalar as its feature.\"\"\"\n",
    "\n",
    "  # Nodes are defined implicitly by their features.\n",
    "  # We will add four nodes, each with a feature, e.g.\n",
    "  # node 0 has feature [0.],\n",
    "  # node 1 has featre [2.] etc.\n",
    "  # len(node_features) is the number of nodes.\n",
    "  node_features = jnp.array([[0.], [2.], [4.], [6.]])\n",
    "\n",
    "  # We will now specify 5 directed edges connecting the nodes we defined above.\n",
    "  # We define this with `senders` (source node indices) and `receivers`\n",
    "  # (destination node indices).\n",
    "  # For example, to add an edge from node 0 to node 1, we append 0 to senders,\n",
    "  # and 1 to receivers.\n",
    "  # We can do the same for all 5 edges:\n",
    "  # 0 -> 1\n",
    "  # 1 -> 2\n",
    "  # 2 -> 0\n",
    "  # 3 -> 0\n",
    "  # 0 -> 3\n",
    "  senders = jnp.array([0, 1, 2, 3, 0])\n",
    "  receivers = jnp.array([1, 2, 0, 0, 3])\n",
    "\n",
    "  # You can optionally add edge attributes to the 5 edges.\n",
    "  edges = jnp.array([[5.], [6.], [7.], [8.], [8.]])\n",
    "\n",
    "  # We then save the number of nodes and the number of edges.\n",
    "  # This information is used to make running GNNs over multiple graphs\n",
    "  # in a GraphsTuple possible.\n",
    "  n_node = jnp.array([4])\n",
    "  n_edge = jnp.array([5])\n",
    "\n",
    "  # Optionally you can add `global` information, such as a graph label.\n",
    "  global_context = jnp.array([[1]]) # Same feature dims as nodes and edges.\n",
    "  graph = jraph.GraphsTuple(\n",
    "      nodes=node_features,\n",
    "      edges=edges,\n",
    "      senders=senders,\n",
    "      receivers=receivers,\n",
    "      n_node=n_node,\n",
    "      n_edge=n_edge,\n",
    "      globals=global_context\n",
    "      )\n",
    "  return graph"
   ]
  },
  {
   "cell_type": "code",
   "execution_count": null,
   "metadata": {
    "id": "82Jtg_y-TqCW"
   },
   "outputs": [],
   "source": [
    "graph = build_toy_graph()"
   ]
  },
  {
   "cell_type": "markdown",
   "metadata": {},
   "source": [
    "We can get different information by inspecting the `GraphTuple` object."
   ]
  },
  {
   "cell_type": "code",
   "execution_count": null,
   "metadata": {
    "id": "jjfUYT_UzoQ9"
   },
   "outputs": [],
   "source": [
    "# Number of nodes\n",
    "# Note that `n_node` returns an array. The length of `n_node` corresponds to\n",
    "# the number of graphs stored in one `GraphsTuple`.\n",
    "# In this case, we only have one graph, so n_node has length 1.\n",
    "graph.n_node"
   ]
  },
  {
   "cell_type": "code",
   "execution_count": null,
   "metadata": {
    "id": "BQLF-mfOzXGK"
   },
   "outputs": [],
   "source": [
    "# Number of edges\n",
    "graph.n_edge"
   ]
  },
  {
   "cell_type": "code",
   "execution_count": null,
   "metadata": {
    "id": "gdzVSy04zp3-"
   },
   "outputs": [],
   "source": [
    "# Node features\n",
    "graph.nodes"
   ]
  },
  {
   "cell_type": "code",
   "execution_count": null,
   "metadata": {
    "id": "P9_VpQSZzua3"
   },
   "outputs": [],
   "source": [
    "# Edge features\n",
    "graph.edges"
   ]
  },
  {
   "cell_type": "code",
   "execution_count": null,
   "metadata": {
    "id": "pvN0pbg0z8Ir"
   },
   "outputs": [],
   "source": [
    "# Edges\n",
    "graph.senders"
   ]
  },
  {
   "cell_type": "code",
   "execution_count": null,
   "metadata": {
    "id": "aNI4PVR-z-HL"
   },
   "outputs": [],
   "source": [
    "graph.receivers"
   ]
  },
  {
   "cell_type": "code",
   "execution_count": null,
   "metadata": {
    "id": "ayThRCYpz4wj"
   },
   "outputs": [],
   "source": [
    "# Graph-level features\n",
    "graph.globals"
   ]
  },
  {
   "cell_type": "markdown",
   "metadata": {
    "id": "l3Pwh9e7d8gN"
   },
   "source": [
    "To visualize the graph structure of the graph we created above, we will use the [`networkx`](networkx.org) library because it already has functions for drawing graphs.\n",
    "\n",
    "We first convert the `jraph.GraphsTuple` to a `networkx.DiGraph`."
   ]
  },
  {
   "cell_type": "code",
   "execution_count": null,
   "metadata": {
    "id": "e7q5ySSmVL3x"
   },
   "outputs": [],
   "source": [
    "def convert_jraph_to_networkx_graph(jraph_graph: jraph.GraphsTuple) -> nx.Graph:\n",
    "  nodes, edges, receivers, senders, _, _, _ = jraph_graph\n",
    "  nx_graph = nx.DiGraph()\n",
    "  if nodes is None:\n",
    "    for n in range(jraph_graph.n_node[0]):\n",
    "      nx_graph.add_node(n)\n",
    "  else:\n",
    "    for n in range(jraph_graph.n_node[0]):\n",
    "      nx_graph.add_node(n, node_feature=nodes[n])\n",
    "  if edges is None:\n",
    "    for e in range(jraph_graph.n_edge[0]):\n",
    "      nx_graph.add_edge(int(senders[e]), int(receivers[e]))\n",
    "  else:\n",
    "    for e in range(jraph_graph.n_edge[0]):\n",
    "      nx_graph.add_edge(\n",
    "          int(senders[e]), int(receivers[e]), edge_feature=edges[e])\n",
    "  return nx_graph\n",
    "\n",
    "\n",
    "def draw_jraph_graph_structure(jraph_graph: jraph.GraphsTuple) -> None:\n",
    "  nx_graph = convert_jraph_to_networkx_graph(jraph_graph)\n",
    "  pos = nx.spring_layout(nx_graph)\n",
    "  nx.draw(\n",
    "      nx_graph, pos=pos, with_labels=True, node_size=500, font_color='yellow')"
   ]
  },
  {
   "cell_type": "code",
   "execution_count": null,
   "metadata": {
    "id": "PNK5SeajWQWO"
   },
   "outputs": [],
   "source": [
    "draw_jraph_graph_structure(graph)"
   ]
  },
  {
   "cell_type": "markdown",
   "metadata": {
    "id": "NZRMF2d-h2pd"
   },
   "source": [
    "## Graph Convolutional Networks (GCNs)\n",
    "\n",
    "The graph convolutional network, introduced by by Kipf et al. (2017)\n",
    "[paper](https://arxiv.org/abs/1609.02907), is one of the basic and most important graph network\n",
    "architectures. \n",
    "\n",
    "GCNs have some analogies with convolutional neural networks (CNNs). In a CNN, a convolutional filter (e.g. 3x3) is applied\n",
    "repeatedly to different parts of a larger input (e.g. 64x64) by striding across the\n",
    "input. In a GCN, a convolution filter is applied to the neighbourhoods around a node in\n",
    "a graph.\n",
    "\n",
    "However, there are also some differences to point out:\n",
    "In contrast to the CNN filter, the neighbourhoods in a GCN can be of different sizes, and there is no ordering of inputs. To see that, note that the CNN filter performs a weighted sum aggregation over the inputs with learnable weights, where each filter input has its own weight. In the GCN, the same weight is applied to all neighbours and the aggregation function is not learned. In other words, in a GCN, each neighbor contributes equally. This is why the CNN filter is not order-invariant, but the GCN filter is.\n",
    "\n",
    "More specifically, the GCN layer performs two steps:\n",
    "\n",
    "1. _Compute messages_ : Apply a linear transformation with weights\n",
    "   $W$ to the node\n",
    "   features and call the resulting vector $\\vec{h}_n$ for the $n$-th node. This is going to be the message\n",
    "   that this node will pass to neighboring nodes.\n",
    "2. _Message-passing / node features update_: For each node, calculate an aggregated feature\n",
    "   vector $\\vec{h}'_n$ based on the messages (features) from the nodes in its\n",
    "   neighborhood. In a directed graph, only nodes from incoming edges are counted as\n",
    "   neighbors. The image below shows this aggregation step. There are multiple options\n",
    "   for aggregation in a GCN, e.g. taking the mean, the sum, the min or max. The\n",
    "   aggregated feature vector is then updated using a non-linear function\n",
    "   (i.e. MLP).\n",
    "\n",
    "<image src=\"https://storage.googleapis.com/dm-educational/assets/graph-nets/graph_conv.png\" width=\"500px\">\n",
    "\n",
    "*\\\"A generic overview of a graph convolution operation, highlighting the relevant information for deriving the next-level features for every node in the graph.\\\"* Image source: Petar Veličković (https://github.com/PetarV-/TikZ)\n"
   ]
  },
  {
   "cell_type": "markdown",
   "metadata": {},
   "source": [
    "The node feature update equation in a GCN for node $i$ at layer $l+1$ can be written as:\n",
    "\n",
    "$$\n",
    "h_i^{(l+1)} = \\sigma\\left( \\sum_{j \\in \\mathcal{N}(i) \\cup \\{i\\}} \\frac{1}{\\sqrt{d_i d_j}} W^{(l)} h_j^{(l)} \\right)\n",
    "$$\n",
    "\n",
    "where:\n",
    "- $ h_i^{(l+1)} $ is the updated feature vector of node $ i $ at layer $ l+1 $.\n",
    "- $ \\mathcal{N}(i) $ represents the set of neighboring nodes of node $ i $.\n",
    "- $ W^{(l)} $ is the learnable weight matrix at layer $ l $.\n",
    "- $ h_j^{(l)} $ is the feature vector of node $ j $ at layer $ l $ (for the first layer,\n",
    "  it is the input feature $ x_j $).\n",
    "- $ d_i $ and $ d_j $ are the degrees of nodes $i$ and $j$, respectively.\n",
    "  These normalization factors assign more weights to nodes with few neighbours to avoid\n",
    "  features of nodes with lots of neighbours spread too easily.\n",
    "- $ \\sigma $ is a non-linear function."
   ]
  },
  {
   "cell_type": "code",
   "execution_count": null,
   "metadata": {},
   "outputs": [],
   "source": [
    "# Definition of a GCN layer in jraph\n",
    "gcn_layer = GraphConvolution(\n",
    "    update_node_fn=lambda x: x,\n",
    "    aggregate_nodes_fn=jax.ops.segment_sum,\n",
    ")\n",
    "print(graph)\n",
    "gcn_layer(graph)"
   ]
  },
  {
   "cell_type": "markdown",
   "metadata": {
    "id": "4Rt3AB2tvv1o"
   },
   "source": [
    "So far our graph convolution operation doesn't have any learnable parameters.\n",
    "Let's add an MLP block to the update function to make it trainable."
   ]
  },
  {
   "cell_type": "code",
   "execution_count": null,
   "metadata": {
    "id": "cK9W9J4GsDbC"
   },
   "outputs": [],
   "source": [
    "class MLP(nnx.Module):\n",
    "  def __init__(self, out_features, rngs: nnx.Rngs):\n",
    "    self.layers = []\n",
    "    self.layers.append(nnx.Linear(1, 8, rngs=rngs))\n",
    "    self.layers.append(nnx.relu)\n",
    "    self.layers.append(nnx.Linear(8, out_features, rngs=rngs))\n",
    "\n",
    "  def __call__(self, x):\n",
    "    y = x\n",
    "    for layer in self.layers:\n",
    "      y = layer(y)\n",
    "    return y\n",
    "\n",
    "# Use MLP block to define the update node function\n",
    "update_node_fn = lambda x: MLP(out_features=4, rngs=nnx.Rngs(0))(x)"
   ]
  },
  {
   "cell_type": "code",
   "execution_count": null,
   "metadata": {
    "id": "7TgyCkE9KlUG"
   },
   "outputs": [],
   "source": [
    "# Test a GCN layer with non-linear embedding of node features\n",
    "gcn_layer = GraphConvolution(\n",
    "    update_node_fn=lambda n: MLP(out_features=4, rngs=nnx.Rngs(1))(n),\n",
    "    aggregate_nodes_fn=jax.ops.segment_sum,\n",
    ")\n",
    "\n",
    "gcn_layer(graph)"
   ]
  },
  {
   "cell_type": "markdown",
   "metadata": {
    "id": "Z5t7kw7SE_h4"
   },
   "source": [
    "## Exercise: Node Classification with GCN on Karate Club Dataset"
   ]
  },
  {
   "cell_type": "markdown",
   "metadata": {
    "id": "IQ_w2kkWoAq4"
   },
   "source": [
    "### Zachary's Karate Club Dataset\n",
    "\n",
    "[Zachary's karate club](https://en.wikipedia.org/wiki/Zachary%27s_karate_club) is a small dataset commonly used as an example for a social graph. \n",
    "\n",
    "A node represents a student or instructor in the club. An edge means that those two people have interacted outside of the class. There are two instructors in the club.\n",
    "\n",
    "Each student is assigned to one of two instructors.\n",
    "\n",
    "The task is to predict the assignment of students to instructors, given the social graph\n",
    "and only knowing a few connections. In other words, out of the 34 nodes, only some nodes are labeled, and we are trying to optimize the assignment of the other nodes, by **maximizing the log-likelihood of the two known node assignments**.\n",
    "\n",
    "We will compute the accuracy of our node assignments by comparing to the ground-truth assignments. **Note that the ground-truth for the other student nodes is not used in the loss function itself.**"
   ]
  },
  {
   "cell_type": "markdown",
   "metadata": {
    "id": "5SE5DQoXWQJR"
   },
   "source": [
    "Let's load the dataset:"
   ]
  },
  {
   "cell_type": "code",
   "execution_count": null,
   "metadata": {
    "id": "0YGQXeGN_E3J"
   },
   "outputs": [],
   "source": [
    "def get_zacharys_karate_club() -> jraph.GraphsTuple:\n",
    "  social_graph = [\n",
    "      (1, 0), (2, 0), (2, 1), (3, 0), (3, 1), (3, 2),\n",
    "      (4, 0), (5, 0), (6, 0), (6, 4), (6, 5), (7, 0), (7, 1),\n",
    "      (7, 2), (7, 3), (8, 0), (8, 2), (9, 2), (10, 0), (10, 4),\n",
    "      (10, 5), (11, 0), (12, 0), (12, 3), (13, 0), (13, 1), (13, 2),\n",
    "      (13, 3), (16, 5), (16, 6), (17, 0), (17, 1), (19, 0), (19, 1),\n",
    "      (21, 0), (21, 1), (25, 23), (25, 24), (27, 2), (27, 23),\n",
    "      (27, 24), (28, 2), (29, 23), (29, 26), (30, 1), (30, 8),\n",
    "      (31, 0), (31, 24), (31, 25), (31, 28), (32, 2), (32, 8),\n",
    "      (32, 14), (32, 15), (32, 18), (32, 20), (32, 22), (32, 23),\n",
    "      (32, 29), (32, 30), (32, 31), (33, 8), (33, 9), (33, 13),\n",
    "      (33, 14), (33, 15), (33, 18), (33, 19), (33, 20), (33, 22),\n",
    "      (33, 23), (33, 26), (33, 27), (33, 28), (33, 29), (33, 30),\n",
    "      (33, 31), (33, 32)]\n",
    "  # Add reverse edges.\n",
    "  social_graph += [(edge[1], edge[0]) for edge in social_graph]\n",
    "  n_club_members = 34\n",
    "\n",
    "  return jraph.GraphsTuple(\n",
    "      n_node=jnp.asarray([n_club_members]),\n",
    "      n_edge=jnp.asarray([len(social_graph)]),\n",
    "      # One-hot encoding for nodes, i.e. argmax(nodes) = node index.\n",
    "      nodes=jnp.eye(n_club_members),\n",
    "      # No edge features.\n",
    "      edges=None,\n",
    "      globals=None,\n",
    "      senders=jnp.asarray([edge[0] for edge in social_graph]),\n",
    "      receivers=jnp.asarray([edge[1] for edge in social_graph]))\n",
    "\n",
    "def get_ground_truth_assignments_for_zacharys_karate_club() -> jnp.ndarray:\n",
    "  return jnp.array([0, 0, 0, 0, 0, 0, 0, 0, 0, 1, 0, 0, 0, 0, 1, 1, 0, 0, 1,\n",
    "                    0, 1, 0, 1, 1, 1, 1, 1, 1, 1, 1, 1, 1, 1, 1])\n"
   ]
  },
  {
   "cell_type": "code",
   "execution_count": null,
   "metadata": {
    "id": "RyJk-Mq7EKoU"
   },
   "outputs": [],
   "source": [
    "graph = get_zacharys_karate_club()"
   ]
  },
  {
   "cell_type": "code",
   "execution_count": null,
   "metadata": {
    "id": "K4v5LnKgEN8l"
   },
   "outputs": [],
   "source": [
    "print(f'Number of nodes: {graph.n_node[0]}')\n",
    "print(f'Number of edges: {graph.n_edge[0]}')"
   ]
  },
  {
   "cell_type": "markdown",
   "metadata": {
    "id": "Pi2DQYzjngR8"
   },
   "source": [
    "Visualize the karate club graph with circular node layout:"
   ]
  },
  {
   "cell_type": "code",
   "execution_count": null,
   "metadata": {
    "id": "-MVtGGJwg_B8"
   },
   "outputs": [],
   "source": [
    "nx_graph = convert_jraph_to_networkx_graph(graph)\n",
    "pos = nx.circular_layout(nx_graph)\n",
    "plt.figure(figsize=(6, 6))\n",
    "nx.draw(nx_graph, pos=pos, with_labels = True, node_size=500, font_color='yellow')"
   ]
  },
  {
   "cell_type": "code",
   "execution_count": null,
   "metadata": {},
   "outputs": [],
   "source": [
    "import numpy as np\n",
    "mask = np.ones(len(graph.nodes))\n",
    "mask[1:31]=0.\n",
    "\n",
    "labels = get_ground_truth_assignments_for_zacharys_karate_club()\n",
    "\n",
    "# Loss function\n",
    "@nnx.jit\n",
    "def loss_fn(model, graph, labels):\n",
    "    output_graph_nodes = model(graph)\n",
    "    loss = optax.losses.softmax_cross_entropy_with_integer_labels(output_graph_nodes, labels)\n",
    "    return jnp.mean(loss*mask)"
   ]
  },
  {
   "cell_type": "markdown",
   "metadata": {},
   "source": [
    "1. Define the GCN architecture\n",
    "2. Implement the training functions\n",
    "3. Train the GCN  \n",
    "4. Evaluate the accuracy of the model"
   ]
  },
  {
   "cell_type": "markdown",
   "metadata": {
    "id": "afMhKYScQvMp"
   },
   "source": [
    "Define the GCN architecture:"
   ]
  },
  {
   "cell_type": "code",
   "execution_count": null,
   "metadata": {
    "id": "jAMlrQnIc7iO"
   },
   "outputs": [],
   "source": [
    "class GCN(nnx.Module):\n",
    "  def __init__(self, in_features, rngs: nnx.Rngs):\n",
    "    pass\n",
    "\n",
    "  def __call__(self, graph):\n",
    "    # y = ...\n",
    "    return y.nodes"
   ]
  },
  {
   "cell_type": "code",
   "execution_count": null,
   "metadata": {},
   "outputs": [],
   "source": [
    "# Train for a single epoch\n",
    "@nnx.jit\n",
    "def train_step(model, optimizer, graph, labels):\n",
    "    loss, grads = nnx.value_and_grad(loss_fn)(model, graph, labels)\n",
    "    optimizer.update(grads)\n",
    "    return loss\n",
    "\n",
    "def train(model, optimizer, graph, labels, epochs, log_period_epoch=1, show_progress=True):\n",
    "\n",
    "    train_loss_history = []\n",
    "\n",
    "    for epoch in tqdm(range(1, epochs + 1), disable=not show_progress):\n",
    "        train_loss = train_step(model, optimizer, graph, labels)\n",
    "\n",
    "        # Evaluate GNN and compute accuracy\n",
    "        # ...\n",
    "        # accuracy = ...\n",
    "        train_loss_history.append(train_loss)\n",
    "\n",
    "        if epoch == 1 or epoch % log_period_epoch == 0:\n",
    "            logging.info(\n",
    "                \"epoch:% 3d, train_loss: %.4f, accuracy: %.2f\"\n",
    "                % (epoch, train_loss, accuracy)\n",
    "            )\n",
    "    return train_loss_history"
   ]
  },
  {
   "cell_type": "code",
   "execution_count": null,
   "metadata": {},
   "outputs": [],
   "source": [
    "# Create the model instance\n",
    "# model = ...\n",
    "\n",
    "# Define the optimizer\n",
    "# optimizer = ...\n",
    "\n",
    "# Train the model"
   ]
  },
  {
   "cell_type": "code",
   "execution_count": null,
   "metadata": {},
   "outputs": [],
   "source": [
    "output_nodes = model(graph)\n",
    "predictions = jnp.argmax(output_nodes, axis=1)\n",
    "print(predictions)\n",
    "print(labels)"
   ]
  },
  {
   "cell_type": "markdown",
   "metadata": {
    "id": "W0gNu67xP-_K"
   },
   "source": [
    "Visualize ground truth and predicted node assignments:"
   ]
  },
  {
   "cell_type": "code",
   "execution_count": null,
   "metadata": {
    "id": "ndklBMr6PHLY"
   },
   "outputs": [],
   "source": [
    "zacharys_karate_club = get_zacharys_karate_club()\n",
    "nx_graph = convert_jraph_to_networkx_graph(zacharys_karate_club)\n",
    "pos = nx.circular_layout(nx_graph)\n",
    "\n",
    "fig = plt.figure(figsize=(15, 7))\n",
    "ax1 = fig.add_subplot(121)\n",
    "nx.draw(\n",
    "    nx_graph,\n",
    "    pos=pos,\n",
    "    with_labels=True,\n",
    "    node_size=500,\n",
    "    node_color=predictions.tolist(),\n",
    "    font_color='white')\n",
    "ax1.title.set_text('Predicted Node Assignments with GCN')\n",
    "\n",
    "ax2 = fig.add_subplot(122)\n",
    "nx.draw(\n",
    "    nx_graph,\n",
    "    pos=pos,\n",
    "    with_labels=True,\n",
    "    node_size=500,\n",
    "    node_color=labels.tolist(),\n",
    "    font_color='white')\n",
    "ax2.title.set_text('Ground-Truth Node Assignments')\n",
    "\n",
    "plt.show()"
   ]
  },
  {
   "cell_type": "markdown",
   "metadata": {},
   "source": [
    "**Bonus exercise**: solve a node classification task on the\n",
    "[`Cora`](https://medium.com/@koki_noda/ultimate-guide-to-graph-neural-networks-1-cora-dataset-37338c04fe6f)\n",
    "dataset. Hint: use `PyTorch Geometric` to download the dataset and build a graph data\n",
    "structure, then convert it into a `GraphTuple`. Use a GCN with two graph convolutional\n",
    "layers and hidden dimension equal to 16. "
   ]
  }
 ],
 "metadata": {
  "accelerator": "GPU",
  "colab": {
   "collapsed_sections": [],
   "name": "Introduction to Graph Neural Nets with JAX/jraph",
   "private_outputs": true,
   "toc_visible": true
  },
  "kernelspec": {
   "display_name": "alpine",
   "language": "python",
   "name": "python3"
  },
  "language_info": {
   "codemirror_mode": {
    "name": "ipython",
    "version": 3
   },
   "file_extension": ".py",
   "mimetype": "text/x-python",
   "name": "python",
   "nbconvert_exporter": "python",
   "pygments_lexer": "ipython3",
   "version": "3.12.0"
  }
 },
 "nbformat": 4,
 "nbformat_minor": 4
}
