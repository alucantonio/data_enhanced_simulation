{
 "cells": [
  {
   "cell_type": "markdown",
   "id": "9b29f736-18ef-4db8-aa5a-79a5dc88e3f5",
   "metadata": {},
   "source": [
    "# Exercises"
   ]
  },
  {
   "cell_type": "code",
   "execution_count": 1,
   "id": "d7ef4700",
   "metadata": {},
   "outputs": [],
   "source": [
    "import jax\n",
    "import jax.numpy as jnp\n",
    "from jax import grad, jit"
   ]
  },
  {
   "cell_type": "markdown",
   "id": "91b1b043-4d9e-4a21-8f88-303d9933fe22",
   "metadata": {},
   "source": [
    "### Exercise 1: gradient descent optimization"
   ]
  },
  {
   "cell_type": "markdown",
   "id": "2647d324",
   "metadata": {},
   "source": [
    "Consider a dataset consisting of 2 features and a given number of samples, with the\n",
    "corresponding labels:"
   ]
  },
  {
   "cell_type": "code",
   "execution_count": 2,
   "id": "f4f19bb8",
   "metadata": {},
   "outputs": [],
   "source": [
    "# Generate synthetic data\n",
    "key = jax.random.PRNGKey(0)\n",
    "true_w = jnp.array([2.0, -3.0])  # True weights for the synthetic data\n",
    "true_b = 5.0  # True bias for the synthetic data\n",
    "num_samples = 100\n",
    "x = jax.random.normal(key, (num_samples, 2))  # Input features\n",
    "y = jnp.dot(x, true_w) + true_b  # Targets"
   ]
  },
  {
   "cell_type": "markdown",
   "id": "d256d64f",
   "metadata": {},
   "source": [
    "Find the weights (2) and bias of a linear model that best fits the dataset (_linear\n",
    "regression_). "
   ]
  },
  {
   "cell_type": "code",
   "execution_count": 3,
   "id": "ebec9456-07c5-404d-affe-015a1e34b312",
   "metadata": {},
   "outputs": [
    {
     "name": "stdout",
     "output_type": "stream",
     "text": [
      "Epoch 0, Loss: 48.84288787841797\n",
      "Epoch 100, Loss: 0.871484637260437\n",
      "Epoch 200, Loss: 0.019410856068134308\n",
      "Epoch 300, Loss: 0.0005184339242987335\n",
      "Epoch 400, Loss: 1.5399524272652343e-05\n",
      "Epoch 500, Loss: 4.810555083167856e-07\n",
      "Epoch 600, Loss: 1.5348598836339988e-08\n",
      "Epoch 700, Loss: 6.657859263903276e-10\n",
      "Epoch 800, Loss: 2.2406083932668963e-10\n",
      "Epoch 900, Loss: 2.2406083932668963e-10\n",
      "Learned weights: [ 2.0000076 -2.9999933]\n",
      "Learned bias: 4.999988\n"
     ]
    }
   ],
   "source": [
    "# Define the model\n",
    "def model(weights, bias, x):\n",
    "    return jnp.dot(x, weights) + bias\n",
    "\n",
    "# Mean squared error loss function\n",
    "def mse_loss(weights, bias, x, y):\n",
    "    predictions = model(weights, bias, x)\n",
    "    return jnp.mean((predictions - y) ** 2)\n",
    "\n",
    "# Gradient of the loss function\n",
    "grad_mse_loss = grad(mse_loss, argnums=(0, 1))\n",
    "\n",
    "# Training step\n",
    "@jit\n",
    "def train_step(weights, bias, x, y, learning_rate):\n",
    "    gradients = grad_mse_loss(weights, bias, x, y)\n",
    "    new_weights = weights - learning_rate * gradients[0]\n",
    "    new_bias = bias - learning_rate * gradients[1]\n",
    "    return new_weights, new_bias\n",
    "\n",
    "# Initialize parameters\n",
    "weights = jax.random.normal(key, (2,))\n",
    "bias = 0.0\n",
    "learning_rate = 0.01\n",
    "num_epochs = 1000\n",
    "\n",
    "# Training loop\n",
    "for epoch in range(num_epochs):\n",
    "    weights, bias = train_step(weights, bias, x, y, learning_rate)\n",
    "    if epoch % 100 == 0:\n",
    "        current_loss = mse_loss(weights, bias, x, y)\n",
    "        print(f\"Epoch {epoch}, Loss: {current_loss}\")\n",
    "\n",
    "# Print the final parameters\n",
    "print(\"Learned weights:\", weights)\n",
    "print(\"Learned bias:\", bias)"
   ]
  },
  {
   "cell_type": "markdown",
   "id": "bc2d1eeb-baa0-4c6e-84da-abeb24c5b93a",
   "metadata": {},
   "source": [
    "### Exercise 2: solving a non-linear system of equations."
   ]
  },
  {
   "cell_type": "markdown",
   "id": "c26925f9",
   "metadata": {},
   "source": [
    "Consider the following system of non-linear algebraic equations:"
   ]
  },
  {
   "cell_type": "code",
   "execution_count": 4,
   "id": "6c951e08",
   "metadata": {},
   "outputs": [],
   "source": [
    "# Define the system of nonlinear equations\n",
    "@jit\n",
    "def system_of_equations(x):\n",
    "    # Example equations:\n",
    "    # Equation 1: x0^2 + x1 - 37 = 0\n",
    "    # Equation 2: x0 - x1^2 - 5 = 0\n",
    "    return jnp.array([\n",
    "        x[0]**2 + x[1] - 37,\n",
    "        x[0] - x[1]**2 - 5\n",
    "    ])"
   ]
  },
  {
   "cell_type": "markdown",
   "id": "ef1c8635",
   "metadata": {},
   "source": [
    "Solve the system numerically using the [`root`](https://docs.scipy.org/doc/scipy/reference/generated/scipy.optimize.root.html)\n",
    "function of `scipy`, with the Jacobian computed via JAX's autodiff. "
   ]
  },
  {
   "cell_type": "code",
   "execution_count": 5,
   "id": "1f4d4312-7654-45d5-b34f-bcd9aff68d2c",
   "metadata": {},
   "outputs": [
    {
     "name": "stdout",
     "output_type": "stream",
     "text": [
      "Solution: [5.99999999 0.99999991]\n",
      "Function value at solution: [0. 0.]\n",
      "Jacobian at solution: [[12.         1.       ]\n",
      " [ 1.        -1.9999999]]\n"
     ]
    }
   ],
   "source": [
    "from scipy.optimize import root\n",
    "\n",
    "# Function to compute the Jacobian using JAX\n",
    "@jit\n",
    "def jacobian(x):\n",
    "    return jax.jacfwd(system_of_equations)(x)\n",
    "\n",
    "# Initial guess for the solution\n",
    "initial_guess = jnp.array([1.0, 1.0])\n",
    "\n",
    "# Use scipy's root function to find the solution\n",
    "solution = root(system_of_equations, initial_guess, jac=jacobian)\n",
    "\n",
    "# Print the solution\n",
    "print(\"Solution:\", solution.x)\n",
    "print(\"Function value at solution:\", system_of_equations(solution.x))\n",
    "print(\"Jacobian at solution:\", jacobian(solution.x))"
   ]
  }
 ],
 "metadata": {
  "kernelspec": {
   "display_name": "datasim",
   "language": "python",
   "name": "python3"
  },
  "language_info": {
   "codemirror_mode": {
    "name": "ipython",
    "version": 3
   },
   "file_extension": ".py",
   "mimetype": "text/x-python",
   "name": "python",
   "nbconvert_exporter": "python",
   "pygments_lexer": "ipython3",
   "version": "3.12.0"
  }
 },
 "nbformat": 4,
 "nbformat_minor": 5
}
