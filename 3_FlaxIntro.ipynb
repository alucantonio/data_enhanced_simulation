{
  "cells": [
    {
      "cell_type": "markdown",
      "metadata": {},
      "source": [
        "[![Open In Colab](https://colab.research.google.com/assets/colab-badge.svg)](https://colab.research.google.com/github/alucantonio/data_enhanced_simulation/blob/master/3_FlaxIntro.ipynb)"
      ]
    },
    {
      "cell_type": "markdown",
      "metadata": {
        "id": "M_CkEOMI-Uqx"
      },
      "source": [
        "# Neural Networks with JAX: the Flax library"
      ]
    },
    {
      "cell_type": "markdown",
      "metadata": {
        "id": "7c3K2U7w-fNN"
      },
      "source": [
        "Flax is an open source Python neural network library built on top of JAX. Here, we will use NNX (Neural Networks for JAX), a new high-level interface that is part of Flax and provides an intuitive framework to build and train neural networks.\n",
        "\n",
        "Link to the docs: https://flax.readthedocs.io/en/latest/quick_start.html"
      ]
    },
    {
      "cell_type": "code",
      "execution_count": 1,
      "metadata": {
        "id": "r6SCqShbV0lG"
      },
      "outputs": [],
      "source": [
        "import jax.numpy as jnp\n",
        "import numpy as np\n",
        "from jax import random\n",
        "import matplotlib.pyplot as plt\n",
        "\n",
        "from flax import nnx\n",
        "import optax # optimization methods for JAX\n",
        "\n",
        "from sklearn.model_selection import train_test_split"
      ]
    },
    {
      "cell_type": "code",
      "execution_count": 2,
      "metadata": {
        "colab": {
          "base_uri": "https://localhost:8080/"
        },
        "id": "l5qa9kNX9Hje",
        "outputId": "e00fd956-befb-40e6-b5f8-fd977f8ab329"
      },
      "outputs": [],
      "source": [
        "# !pip install tqdm\n",
        "from tqdm.notebook import tqdm # progress bar"
      ]
    },
    {
      "cell_type": "code",
      "execution_count": 3,
      "metadata": {
        "colab": {
          "base_uri": "https://localhost:8080/"
        },
        "id": "tkrdi-bg9dOr",
        "outputId": "50b7293e-06c0-4299-a6bd-bca0bb0e4759"
      },
      "outputs": [],
      "source": [
        "# Support for interactive plots\n",
        "!pip install ipywidgets\n",
        "!pip install ipympl"
      ]
    },
    {
      "cell_type": "markdown",
      "metadata": {
        "id": "jou9ez-Zad9f"
      },
      "source": [
        "## A linear regression problem"
      ]
    },
    {
      "cell_type": "markdown",
      "metadata": {
        "id": "wAeLG4YgAGNw"
      },
      "source": [
        "To learn using NNX, let's solve a simple linear regression problem."
      ]
    },
    {
      "cell_type": "code",
      "execution_count": null,
      "metadata": {
        "colab": {
          "base_uri": "https://localhost:8080/"
        },
        "id": "OOaGUM4LVysv",
        "outputId": "30110a0b-2013-4798-970e-cd4498ee926f"
      },
      "outputs": [],
      "source": [
        "# Defining a toy dataset\n",
        "n_samples = 150\n",
        "x_dim = 2  # putting small numbers here so that we can visualize the data easily\n",
        "y_dim = 1\n",
        "noise_amplitude = 0.1\n",
        "\n",
        "# Generate (random) parameters for a linear model\n",
        "key, w_key, b_key = random.split(random.key(seed=42), num=3)\n",
        "W = random.normal(w_key, (x_dim, y_dim))  # weight\n",
        "b = random.normal(b_key, (y_dim,))  # bias\n",
        "\n",
        "# Generate samples with noise added to the linear model\n",
        "key, x_key, noise_key = random.split(key, num=3)\n",
        "xs = random.normal(x_key, (n_samples, x_dim))\n",
        "ys = jnp.dot(xs, W) + b\n",
        "ys += noise_amplitude * random.normal(noise_key, (n_samples, y_dim))\n",
        "print(f'xs shape = {xs.shape} ; ys shape = {ys.shape}')"
      ]
    },
    {
      "cell_type": "code",
      "execution_count": null,
      "metadata": {
        "colab": {
          "base_uri": "https://localhost:8080/"
        },
        "id": "bemTDC6ppF8S",
        "outputId": "774c90aa-84b9-4a65-cda5-3626b2d3bc19"
      },
      "outputs": [],
      "source": [
        "# Split dataset into train and test (80-20), with shuffling (default)\n",
        "xs_train, xs_val, ys_train, ys_val = train_test_split(xs, ys, test_size=0.2)\n",
        "xs_train.shape, xs_val.shape\n",
        "ys_val.shape, ys_train.shape\n",
        "# Notice that we assume that the labels are COLUMN vectors!"
      ]
    },
    {
      "cell_type": "markdown",
      "metadata": {
        "id": "KfKxKUm4Aj1e"
      },
      "source": [
        "To solve the linear regression problem using a neural network, let us create a subclass of the `nnx.Module` class. In particular, we have to implement the `__init__()` and `__call__()` methods."
      ]
    },
    {
      "cell_type": "code",
      "execution_count": 9,
      "metadata": {
        "id": "eBFuYb0CUrVf"
      },
      "outputs": [],
      "source": [
        "# Define a custom NN\n",
        "class Model(nnx.Module):\n",
        "  # The constructor takes dims of inputs and outputs as parameters\n",
        "  # to define hidden/output layers with the appropriate shapes\n",
        "  def __init__(self, din, dout, rngs: nnx.Rngs):\n",
        "    # Definition of hidden/output layers goes here\n",
        "    self.linear = nnx.Linear(din, dout, rngs=rngs)\n",
        "\n",
        "  def __call__(self, x):\n",
        "    # Forward model evaluation\n",
        "    return self.linear(x)\n",
        "\n",
        "# Create a neural network by instantiating the custom class Model\n",
        "model = Model(x_dim, y_dim, rngs=nnx.Rngs(0))"
      ]
    },
    {
      "cell_type": "markdown",
      "metadata": {
        "id": "qLZ1r-1CC64I"
      },
      "source": [
        "Basic recipe for implementing the core training functions:\n",
        "- define the _loss_ function\n",
        "- choose the _optimizer_ (SGD, Adam, ...)\n",
        "- define a training step performing the update of model parameters for a _batch_ of training data\n",
        "- define a training epoch that perform multiple batch training steps to cover all the training set"
      ]
    },
    {
      "cell_type": "code",
      "execution_count": 10,
      "metadata": {
        "id": "jSP0ji1dBeV3"
      },
      "outputs": [],
      "source": [
        "# Define the optimizer\n",
        "lr = 0.1 # learning rate\n",
        "optimizer = nnx.Optimizer(model, optax.adam(lr)) # Adam optimizer\n",
        "\n",
        "# MSE loss\n",
        "@nnx.jit\n",
        "def loss_fn(model, x, y_target):\n",
        "   y_pred = model(x)\n",
        "   return ((y_pred - y_target) ** 2).mean()\n",
        "   # You can also use losses already implemented in optax\n",
        "   # return optax.losses.squared_error(predictions=y_pred, targets=y).mean()\n",
        "\n",
        "# Training step (= one batch evaluation/params update)\n",
        "@nnx.jit # jit with automatic handling of nnx objects as parameters\n",
        "def train_step(model, optimizer, x, y):\n",
        "  loss, grads = nnx.value_and_grad(loss_fn)(model, x, y) # get loss and gradients using JAX autodiff\n",
        "  optimizer.update(grads) # update parameters of the model according to the optimizer\n",
        "  return loss\n",
        "\n",
        "# Train for a single epoch\n",
        "def train_epoch(model, optimizer, xs_train, ys_train, xs_test, ys_test, batch_size, rng):\n",
        "  train_ds_size = len(xs_train)\n",
        "  steps_per_epoch = train_ds_size // batch_size\n",
        "\n",
        "  perms = random.permutation(rng, len(xs_train)) # shuffle dataset (permutation of samples order)\n",
        "  perms = perms[: steps_per_epoch * batch_size]  # skip incomplete batch\n",
        "  perms = perms.reshape((steps_per_epoch, batch_size))\n",
        "\n",
        "  epoch_loss = []\n",
        "\n",
        "  for perm in perms:\n",
        "    batch_xs = xs_train[perm, :]\n",
        "    batch_ys = ys_train[perm, :]\n",
        "    loss = train_step(model, optimizer, batch_xs, batch_ys)\n",
        "    epoch_loss.append(loss) # store training loss for the current batch\n",
        "\n",
        "  train_loss = np.mean(epoch_loss)\n",
        "  test_loss = loss_fn(model, xs_test, ys_test)\n",
        "  return model, train_loss, test_loss"
      ]
    },
    {
      "cell_type": "markdown",
      "metadata": {
        "id": "M3ypzji-DEAo"
      },
      "source": [
        "Let's train the model!"
      ]
    },
    {
      "cell_type": "code",
      "execution_count": null,
      "metadata": {
        "colab": {
          "base_uri": "https://localhost:8080/",
          "height": 151,
          "referenced_widgets": [
            "508dc567d2aa496c99c571e53906c53f",
            "270a72741a6645b8b17eef57daa1bae2",
            "349df21d4d984f508ffc5f9b7cb8c394",
            "f772c3d4e9864dc482f997cd56ae4fbc",
            "772f986c182d4d7d934c1f771d48fecc",
            "de0548eb605f4ea4b478a4530105b325",
            "9224b618068748f2b4d0446aa0004724",
            "fc3b76ec8cea472baa3e250cf1c3775f",
            "8f3793e53d3e4af29bc3e6988412205e",
            "df358938e02348fa9f1de29927d62c5f",
            "8d81eb2beb5d4d03afda63e3f0b06608"
          ]
        },
        "id": "FZ8OC0E9Ur8v",
        "outputId": "e1e36e3c-4885-4720-ed2a-9aca83b0c4f3"
      },
      "outputs": [],
      "source": [
        "epochs = 50\n",
        "log_period_epoch = 10\n",
        "batch_size = 32\n",
        "\n",
        "train_loss_history = []\n",
        "val_loss_history = []\n",
        "\n",
        "# Training loop\n",
        "for epoch in tqdm(range(1, epochs + 1)):\n",
        "    model, train_loss, validation_loss = train_epoch(model, optimizer, xs_train,\n",
        "                                                      ys_train, xs_val, ys_val,\n",
        "                                                    batch_size, random.key(1))\n",
        "\n",
        "    train_loss_history.append(train_loss)\n",
        "    val_loss_history.append(validation_loss)\n",
        "\n",
        "    if epoch == 1 or epoch % log_period_epoch == 0:\n",
        "        print(f'epoch {epoch}, training loss = {train_loss}, test loss = {validation_loss}')"
      ]
    },
    {
      "cell_type": "code",
      "execution_count": null,
      "metadata": {
        "colab": {
          "base_uri": "https://localhost:8080/"
        },
        "id": "Ul4rDwIWUtOb",
        "outputId": "03b939ac-ee12-4718-d03f-1717c7c84bf2"
      },
      "outputs": [],
      "source": [
        "# Examine model parameters\n",
        "print(model)"
      ]
    },
    {
      "cell_type": "code",
      "execution_count": null,
      "metadata": {
        "colab": {
          "base_uri": "https://localhost:8080/"
        },
        "id": "CIYUL0-pYNr0",
        "outputId": "28940a7a-e35a-4865-e496-daa81f2697ce"
      },
      "outputs": [],
      "source": [
        "# Compare model parameters with the data-generating ones\n",
        "print(model.linear.bias.value, b)\n",
        "print(model.linear.kernel.value.flatten(), W.flatten())"
      ]
    },
    {
      "cell_type": "markdown",
      "metadata": {
        "id": "cAEUagmdaMA1"
      },
      "source": [
        "## Hyperparameter tuning via `GridSearchCV`"
      ]
    },
    {
      "cell_type": "code",
      "execution_count": 16,
      "metadata": {
        "id": "BHISXDVyPkTM"
      },
      "outputs": [],
      "source": [
        "from sklearn.utils.estimator_checks import check_is_fitted\n",
        "from sklearn.base import BaseEstimator, _fit_context\n",
        "from sklearn.model_selection import GridSearchCV\n",
        "from sklearn.metrics import r2_score\n",
        "from sklearn.pipeline import Pipeline\n",
        "from sklearn.preprocessing import StandardScaler\n",
        "import logging\n",
        "from matplotlib.pyplot import plot"
      ]
    },
    {
      "cell_type": "code",
      "execution_count": 17,
      "metadata": {},
      "outputs": [],
      "source": [
        "# Split the dataset into development (train + validation) and test\n",
        "X_dev, X_test, y_dev, y_test = train_test_split(xs, ys, test_size=0.1)\n",
        "\n",
        "# Flatten y arrays to be compatible with our MLPRegressor fit method (see below)\n",
        "y_dev = y_dev.ravel()\n",
        "y_test = y_test.ravel()"
      ]
    },
    {
      "cell_type": "markdown",
      "metadata": {},
      "source": [
        "### Auxiliary functions"
      ]
    },
    {
      "cell_type": "code",
      "execution_count": 18,
      "metadata": {},
      "outputs": [],
      "source": [
        "# Train for a single epoch\n",
        "@nnx.jit\n",
        "def train_step(model, optimizer, x, y):\n",
        "    loss, grads = nnx.value_and_grad(loss_fn)(model, x, y)\n",
        "    optimizer.update(grads)\n",
        "    return loss\n",
        "\n",
        "def _train_epoch(\n",
        "    model, optimizer, xs_train, ys_train, batch_size, rng\n",
        "):\n",
        "    train_ds_size = len(xs_train)\n",
        "    steps_per_epoch = train_ds_size // batch_size\n",
        "\n",
        "    perms = random.permutation(rng, len(xs_train))\n",
        "    perms = perms[: steps_per_epoch * batch_size]\n",
        "    perms = perms.reshape((steps_per_epoch, batch_size))\n",
        "\n",
        "    epoch_loss = []\n",
        "\n",
        "    for perm in perms:\n",
        "        batch_xs = xs_train[perm, :]\n",
        "        batch_ys = ys_train[perm, :]\n",
        "        loss = train_step(model, optimizer, batch_xs, batch_ys)\n",
        "        epoch_loss.append(loss)  # store training loss for the current batch\n",
        "\n",
        "    train_loss = np.mean(epoch_loss)\n",
        "    return model, train_loss\n",
        "\n",
        "\n",
        "def train(model, optimizer, xs_train, ys_train,\n",
        "          batch_size,epochs, log_period_epoch=1, show_progress=True):\n",
        "\n",
        "    train_loss_history = []\n",
        "\n",
        "    for epoch in tqdm(range(1, epochs + 1), disable=not show_progress):\n",
        "        model, train_loss = _train_epoch(\n",
        "            model, optimizer, xs_train, ys_train,\n",
        "            batch_size, random.key(1),\n",
        "        )\n",
        "\n",
        "        train_loss_history.append(train_loss)\n",
        "\n",
        "        if epoch == 1 or epoch % log_period_epoch == 0:\n",
        "            logging.info(\n",
        "                \"epoch:% 3d, train_loss: %.4f\"\n",
        "                % (epoch, train_loss)\n",
        "            )\n",
        "    return train_loss_history"
      ]
    },
    {
      "cell_type": "code",
      "execution_count": 32,
      "metadata": {
        "id": "Ugi1YiiyPk7F"
      },
      "outputs": [],
      "source": [
        "# adapted from template https://github.com/scikit-learn-contrib/project-template/blob/main/skltemplate/_template.py\n",
        "\n",
        "class MLPRegressor(BaseEstimator):\n",
        "\n",
        "    def __init__(self, model, lr, epochs, batch_size, log_period_epoch=10,\n",
        "                 show_progress=True):\n",
        "        self.model = model\n",
        "        self.lr = lr\n",
        "        self.epochs = epochs\n",
        "        self.batch_size = batch_size\n",
        "        self.log_period_epoch = log_period_epoch\n",
        "        self.show_progress = show_progress\n",
        "\n",
        "    def fit(self, X, y):\n",
        "        # `_validate_data` is defined in the `BaseEstimator` class.\n",
        "        # It allows to:\n",
        "        # - run different checks on the input data;\n",
        "        # - define some attributes associated to the input data: `n_features_in_` and\n",
        "        #   `feature_names_in_`.\n",
        "        X, y = self._validate_data(X, y, accept_sparse=True)\n",
        "\n",
        "        # transform row vectors into columns to be compatible with the output of the NN\n",
        "        y = y.reshape(-1, 1)\n",
        "\n",
        "        self._optimizer = nnx.Optimizer(self.model, optax.adam(self.lr))\n",
        "\n",
        "        self.train_loss_history = train(self.model, self._optimizer, X, y,\n",
        "                                        self.batch_size, self.epochs,\n",
        "                                        self.log_period_epoch, self.show_progress)\n",
        "\n",
        "        self.is_fitted_ = True\n",
        "        # `fit` should always return `self`\n",
        "        return self\n",
        "\n",
        "    def predict(self, X):\n",
        "        # Check if fit had been called\n",
        "        check_is_fitted(self)\n",
        "        X = self._validate_data(X, accept_sparse=True, reset=False)\n",
        "        return self.model(X)\n",
        "    \n",
        "    def score(self, X, y):\n",
        "        y_pred = self.predict(X)\n",
        "        return r2_score(y, y_pred)    \n"
      ]
    },
    {
      "cell_type": "code",
      "execution_count": 37,
      "metadata": {
        "id": "BjnWzredS2ht"
      },
      "outputs": [],
      "source": [
        "model = Model(x_dim, y_dim, rngs=nnx.Rngs(0))\n",
        "m = MLPRegressor(model, 0.01, 500, 32)"
      ]
    },
    {
      "cell_type": "code",
      "execution_count": null,
      "metadata": {
        "colab": {
          "base_uri": "https://localhost:8080/",
          "height": 208,
          "referenced_widgets": [
            "b25cb041806644da88e0dbaf1254bc2c",
            "1204dd370d174911af41597f33d75a94",
            "78f5d5d681f04dcaa81c2a690bfb90ef",
            "bfca4175d66d4ca394e5fabb693c8c22",
            "a472b9459c9641e99019790ec6e700b9",
            "11f235bf3ac84e14aa5c4fdffa293e09",
            "70c4d09ac0e94aa0bbd71602006f693d",
            "ae3a4fa37ba94dc3afb98b08c4b72f7d",
            "b512221be4b54bb8ba7c6f5042e7990b",
            "ce17923b1876475892bcfd1472ea68f7",
            "196f1eb34f234cda9af2b7e8bf231ebc"
          ]
        },
        "id": "W3SL1MtoS9Wd",
        "outputId": "72e3c7a7-8be1-481c-f7cb-1b19ff42fd24"
      },
      "outputs": [],
      "source": [
        "print(X_dev.shape, y_dev.shape)\n",
        "m.fit(X_dev, y_dev)\n",
        "print(\"Training score: \", m.score(X_dev, y_dev))\n",
        "print(\"Test score: \", m.score(X_test, y_test))"
      ]
    },
    {
      "cell_type": "code",
      "execution_count": null,
      "metadata": {},
      "outputs": [],
      "source": [
        "plot(m.train_loss_history)\n",
        "plt.yscale(\"log\")"
      ]
    },
    {
      "cell_type": "code",
      "execution_count": null,
      "metadata": {},
      "outputs": [],
      "source": [
        "m.get_params()"
      ]
    },
    {
      "cell_type": "code",
      "execution_count": null,
      "metadata": {},
      "outputs": [],
      "source": [
        "# Define hyperparameters combinations\n",
        "param_grid = {\"model__lr\": [0.001, 0.1], \"model__batch_size\": [32, 64]}\n",
        "\n",
        "m = MLPRegressor(model, 1., 500, 32, show_progress=False)\n",
        "\n",
        "# Apply scaling to inputs\n",
        "pipeline = Pipeline([('scaler', StandardScaler()), ('model', m)])\n",
        "\n",
        "gs = GridSearchCV(pipeline, param_grid, scoring=\"r2\", cv=3, verbose=3)\n",
        "gs.fit(X_dev, y_dev)"
      ]
    },
    {
      "cell_type": "code",
      "execution_count": null,
      "metadata": {},
      "outputs": [],
      "source": [
        "# Best set of hyperparameters found during the grid search\n",
        "gs.best_params_"
      ]
    },
    {
      "cell_type": "code",
      "execution_count": null,
      "metadata": {},
      "outputs": [],
      "source": [
        "print(\"R2 for train set:\", gs.score(X_dev, y_dev))\n",
        "print(\"R2 for test set:\", gs.score(X_test, y_test))"
      ]
    },
    {
      "cell_type": "markdown",
      "metadata": {
        "id": "5J6O5IMBkZXA"
      },
      "source": [
        "## Exercise: a model for concrete compressive strength"
      ]
    },
    {
      "cell_type": "code",
      "execution_count": null,
      "metadata": {},
      "outputs": [],
      "source": [
        "!pip install pandas"
      ]
    },
    {
      "cell_type": "code",
      "execution_count": 49,
      "metadata": {
        "id": "cb8cO4fcklI5"
      },
      "outputs": [],
      "source": [
        "import pandas as pd"
      ]
    },
    {
      "cell_type": "code",
      "execution_count": null,
      "metadata": {},
      "outputs": [],
      "source": [
        "!curl -L -o ccs.csv https://raw.githubusercontent.com/alucantonio/data_enhanced_simulation/master/ccs.csv"
      ]
    },
    {
      "cell_type": "code",
      "execution_count": null,
      "metadata": {
        "colab": {
          "base_uri": "https://localhost:8080/",
          "height": 399
        },
        "id": "ayuiBKHDkdwN",
        "outputId": "440f9c6a-73e7-427a-9383-9abc3f4cec94"
      },
      "outputs": [],
      "source": [
        "cement_df=pd.read_csv(r'ccs.csv')\n",
        "cement_df.describe()"
      ]
    },
    {
      "cell_type": "code",
      "execution_count": 71,
      "metadata": {
        "id": "4Wj3meNOkoKT"
      },
      "outputs": [],
      "source": [
        "# Convert pandas data to numpy arrays\n",
        "cement_X=cement_df.iloc[:,:-1].to_numpy()\n",
        "cement_Y=cement_df.iloc[:,-1].to_numpy()\n",
        "\n",
        "# Split data into development (training/validation) and test sets\n",
        "X_dev, X_test, y_dev, y_test = train_test_split(cement_X, cement_Y, test_size=0.1)"
      ]
    },
    {
      "cell_type": "markdown",
      "metadata": {},
      "source": [
        "1. Define a model with 4 layers (3 with activation + 1 output) by creating a derived\n",
        "   class of `nnx.Module`."
      ]
    },
    {
      "cell_type": "code",
      "execution_count": 72,
      "metadata": {
        "id": "fkZQcMVml-Uy"
      },
      "outputs": [],
      "source": [
        "class Model(nnx.Module):\n",
        "    pass\n",
        "\n",
        "# Create a model instance\n",
        "# model = Model(...)"
      ]
    },
    {
      "cell_type": "code",
      "execution_count": 73,
      "metadata": {},
      "outputs": [],
      "source": [
        "#@title Solution:\n",
        "\n",
        "class Model(nnx.Module):\n",
        "  def __init__(self, din, dout, rngs: nnx.Rngs):\n",
        "    self.linear1 = nnx.Linear(din, 40, rngs=rngs)\n",
        "    self.linear2 = nnx.Linear(40, 20, rngs=rngs)\n",
        "    self.linear3 = nnx.Linear(20, 10, rngs=rngs)\n",
        "    self.linear4 = nnx.Linear(10, dout, rngs=rngs)\n",
        "\n",
        "  def __call__(self, x):\n",
        "    y = self.linear1(x)\n",
        "    y = nnx.relu(y)\n",
        "    y = self.linear2(y)\n",
        "    y = nnx.relu(y)\n",
        "    y = self.linear3(y)\n",
        "    y = nnx.relu(y)\n",
        "    y = self.linear4(y)\n",
        "    return y\n",
        "\n",
        "x_dim = cement_X.shape[1]\n",
        "y_dim = 1\n",
        "model = Model(x_dim, y_dim, rngs=nnx.Rngs(0))"
      ]
    },
    {
      "cell_type": "markdown",
      "metadata": {},
      "source": [
        "2. Train the model using the whole development set for 200 epochs, with learning rate 0.01 and batch size 64."
      ]
    },
    {
      "cell_type": "code",
      "execution_count": null,
      "metadata": {},
      "outputs": [],
      "source": [
        "#@title Solution:\n",
        "\n",
        "epochs = 200\n",
        "batch_size = 64\n",
        "lr = 0.01\n",
        "\n",
        "m = MLPRegressor(model, lr, epochs, batch_size)\n",
        "\n",
        "m.fit(X_dev, y_dev)"
      ]
    },
    {
      "cell_type": "markdown",
      "metadata": {},
      "source": [
        "3. Plot the history of the training loss."
      ]
    },
    {
      "cell_type": "code",
      "execution_count": null,
      "metadata": {
        "colab": {
          "base_uri": "https://localhost:8080/",
          "height": 447
        },
        "id": "S4lXDs6qtiF6",
        "outputId": "622f4806-58ee-4299-8258-4a4c66d08133"
      },
      "outputs": [],
      "source": [
        "#@title Solution:\n",
        "\n",
        "plt.plot(m.train_loss_history)"
      ]
    },
    {
      "cell_type": "markdown",
      "metadata": {},
      "source": [
        "4. Compute the R^2 scores on the training and the test sets."
      ]
    },
    {
      "cell_type": "code",
      "execution_count": null,
      "metadata": {
        "colab": {
          "base_uri": "https://localhost:8080/"
        },
        "id": "qq1ZfB6Rpur_",
        "outputId": "6ae18c8b-02ca-46e9-9f8a-f78be679a646"
      },
      "outputs": [],
      "source": [
        "#@title Solution:\n",
        "\n",
        "print(\"R2 for train set:\", m.score(X_dev, y_dev))\n",
        "print(\"R2 for test set:\", m.score(X_test, y_test))"
      ]
    },
    {
      "cell_type": "markdown",
      "metadata": {},
      "source": [
        "5. Perform a grid search on the learning rate and the batch size to identify the model\n",
        "   with the best validation score (R^2). Print the best values of the hyperparameters."
      ]
    },
    {
      "cell_type": "code",
      "execution_count": null,
      "metadata": {},
      "outputs": [],
      "source": [
        "param_grid = {\"model__lr\": [0.001, 0.1], \"model__batch_size\": [32, 64]}\n",
        "m = MLPRegressor(model, 1., 500, 32, show_progress=False)\n",
        "\n",
        "pipeline = Pipeline([('scaler', StandardScaler()),('model', m)])\n",
        "\n",
        "gs = GridSearchCV(pipeline, param_grid, scoring=\"r2\", cv=3, verbose=3)\n",
        "gs.fit(X_dev, y_dev)"
      ]
    },
    {
      "cell_type": "code",
      "execution_count": null,
      "metadata": {},
      "outputs": [],
      "source": [
        "gs.best_params_"
      ]
    },
    {
      "cell_type": "markdown",
      "metadata": {},
      "source": [
        "6. Compute the R^2 scores on the training and the test sets."
      ]
    },
    {
      "cell_type": "code",
      "execution_count": null,
      "metadata": {},
      "outputs": [],
      "source": [
        "print(\"R2 for train set:\", gs.score(X_dev, y_dev))\n",
        "print(\"R2 for test set:\", gs.score(X_test, y_test))"
      ]
    },
    {
      "cell_type": "markdown",
      "metadata": {},
      "source": [
        "7. Compute the predictions of the best model found from the grid search over the\n",
        "   development set and over the test set and store them in the list `pred_y_cement`.\n",
        "   Then, use the `predictVSactual` function provided below to plot them together with\n",
        "   the actual data."
      ]
    },
    {
      "cell_type": "code",
      "execution_count": 80,
      "metadata": {
        "id": "_nuns_9UuxAE"
      },
      "outputs": [],
      "source": [
        "actual_y_cement=[y_dev, y_test]\n",
        "\n",
        "# pred_y_cement=[predictions on development set, predictions on test set]"
      ]
    },
    {
      "cell_type": "code",
      "execution_count": 81,
      "metadata": {},
      "outputs": [],
      "source": [
        "#@title Solution:\n",
        "pred_y_cement=[gs.predict(X_dev), gs.predict(X_test)]"
      ]
    },
    {
      "cell_type": "code",
      "execution_count": 82,
      "metadata": {
        "id": "oRw4oahdtKr2"
      },
      "outputs": [],
      "source": [
        "def predictVSactual(actual_y,y_predict,title_label):\n",
        "    fig,ax=plt.subplots(1,len(actual_y),figsize=(15,15))\n",
        "    for i,col in enumerate(actual_y,0):\n",
        "        ax[i].plot(np.ravel(actual_y[i]),\n",
        "                   np.ravel(y_predict[i]),'o',markeredgecolor=\"black\")\n",
        "        ax[i].set_title(title_label[i])\n",
        "        ax[i].set_xlabel('Actual Values')\n",
        "        ax[i].set_ylabel('Predicted Values')\n",
        "        ax[i].set(aspect='equal')\n",
        "        x=ax[i].get_xlim()\n",
        "        y=ax[i].get_xlim()\n",
        "        ax[i].plot(x,y, ls=\"--\", c=\".3\")\n",
        "    return fig,ax"
      ]
    },
    {
      "cell_type": "code",
      "execution_count": null,
      "metadata": {
        "colab": {
          "base_uri": "https://localhost:8080/",
          "height": 560
        },
        "id": "e-7LoDWUuyJw",
        "outputId": "5f7ed0f6-3c38-4282-96db-b05f8e1aefef"
      },
      "outputs": [],
      "source": [
        "predictVSactual(actual_y_cement,pred_y_cement,\n",
        "                [\"Scatter Plot: Prediction Comparison (Train)\",\"Scatter Plot: Prediction Comparison (Test)\"])\n",
        "plt.show()"
      ]
    }
  ],
  "metadata": {
    "colab": {
      "provenance": []
    },
    "kernelspec": {
      "display_name": "Python 3",
      "name": "python3"
    },
    "language_info": {
      "codemirror_mode": {
        "name": "ipython",
        "version": 3
      },
      "file_extension": ".py",
      "mimetype": "text/x-python",
      "name": "python",
      "nbconvert_exporter": "python",
      "pygments_lexer": "ipython3",
      "version": "3.12.5"
    },
    "widgets": {
      "application/vnd.jupyter.widget-state+json": {
        "11f235bf3ac84e14aa5c4fdffa293e09": {
          "model_module": "@jupyter-widgets/base",
          "model_module_version": "1.2.0",
          "model_name": "LayoutModel",
          "state": {
            "_model_module": "@jupyter-widgets/base",
            "_model_module_version": "1.2.0",
            "_model_name": "LayoutModel",
            "_view_count": null,
            "_view_module": "@jupyter-widgets/base",
            "_view_module_version": "1.2.0",
            "_view_name": "LayoutView",
            "align_content": null,
            "align_items": null,
            "align_self": null,
            "border": null,
            "bottom": null,
            "display": null,
            "flex": null,
            "flex_flow": null,
            "grid_area": null,
            "grid_auto_columns": null,
            "grid_auto_flow": null,
            "grid_auto_rows": null,
            "grid_column": null,
            "grid_gap": null,
            "grid_row": null,
            "grid_template_areas": null,
            "grid_template_columns": null,
            "grid_template_rows": null,
            "height": null,
            "justify_content": null,
            "justify_items": null,
            "left": null,
            "margin": null,
            "max_height": null,
            "max_width": null,
            "min_height": null,
            "min_width": null,
            "object_fit": null,
            "object_position": null,
            "order": null,
            "overflow": null,
            "overflow_x": null,
            "overflow_y": null,
            "padding": null,
            "right": null,
            "top": null,
            "visibility": null,
            "width": null
          }
        },
        "1204dd370d174911af41597f33d75a94": {
          "model_module": "@jupyter-widgets/controls",
          "model_module_version": "1.5.0",
          "model_name": "HTMLModel",
          "state": {
            "_dom_classes": [],
            "_model_module": "@jupyter-widgets/controls",
            "_model_module_version": "1.5.0",
            "_model_name": "HTMLModel",
            "_view_count": null,
            "_view_module": "@jupyter-widgets/controls",
            "_view_module_version": "1.5.0",
            "_view_name": "HTMLView",
            "description": "",
            "description_tooltip": null,
            "layout": "IPY_MODEL_11f235bf3ac84e14aa5c4fdffa293e09",
            "placeholder": "​",
            "style": "IPY_MODEL_70c4d09ac0e94aa0bbd71602006f693d",
            "value": "100%"
          }
        },
        "196f1eb34f234cda9af2b7e8bf231ebc": {
          "model_module": "@jupyter-widgets/controls",
          "model_module_version": "1.5.0",
          "model_name": "DescriptionStyleModel",
          "state": {
            "_model_module": "@jupyter-widgets/controls",
            "_model_module_version": "1.5.0",
            "_model_name": "DescriptionStyleModel",
            "_view_count": null,
            "_view_module": "@jupyter-widgets/base",
            "_view_module_version": "1.2.0",
            "_view_name": "StyleView",
            "description_width": ""
          }
        },
        "270a72741a6645b8b17eef57daa1bae2": {
          "model_module": "@jupyter-widgets/controls",
          "model_module_version": "1.5.0",
          "model_name": "HTMLModel",
          "state": {
            "_dom_classes": [],
            "_model_module": "@jupyter-widgets/controls",
            "_model_module_version": "1.5.0",
            "_model_name": "HTMLModel",
            "_view_count": null,
            "_view_module": "@jupyter-widgets/controls",
            "_view_module_version": "1.5.0",
            "_view_name": "HTMLView",
            "description": "",
            "description_tooltip": null,
            "layout": "IPY_MODEL_de0548eb605f4ea4b478a4530105b325",
            "placeholder": "​",
            "style": "IPY_MODEL_9224b618068748f2b4d0446aa0004724",
            "value": "100%"
          }
        },
        "32731e0a54f94fc5825e060c7156f3b9": {
          "model_module": "@jupyter-widgets/controls",
          "model_module_version": "1.5.0",
          "model_name": "HTMLModel",
          "state": {
            "_dom_classes": [],
            "_model_module": "@jupyter-widgets/controls",
            "_model_module_version": "1.5.0",
            "_model_name": "HTMLModel",
            "_view_count": null,
            "_view_module": "@jupyter-widgets/controls",
            "_view_module_version": "1.5.0",
            "_view_name": "HTMLView",
            "description": "",
            "description_tooltip": null,
            "layout": "IPY_MODEL_f1d27aa306264dac96f19b02f496b06f",
            "placeholder": "​",
            "style": "IPY_MODEL_728d3e572d3d490abd54e0dd5765cfdd",
            "value": "100%"
          }
        },
        "349df21d4d984f508ffc5f9b7cb8c394": {
          "model_module": "@jupyter-widgets/controls",
          "model_module_version": "1.5.0",
          "model_name": "FloatProgressModel",
          "state": {
            "_dom_classes": [],
            "_model_module": "@jupyter-widgets/controls",
            "_model_module_version": "1.5.0",
            "_model_name": "FloatProgressModel",
            "_view_count": null,
            "_view_module": "@jupyter-widgets/controls",
            "_view_module_version": "1.5.0",
            "_view_name": "ProgressView",
            "bar_style": "success",
            "description": "",
            "description_tooltip": null,
            "layout": "IPY_MODEL_fc3b76ec8cea472baa3e250cf1c3775f",
            "max": 50,
            "min": 0,
            "orientation": "horizontal",
            "style": "IPY_MODEL_8f3793e53d3e4af29bc3e6988412205e",
            "value": 50
          }
        },
        "4266352e64ee46d6a98cc0d8ea946f5f": {
          "model_module": "jupyter-matplotlib",
          "model_module_version": "^0.11",
          "model_name": "ToolbarModel",
          "state": {
            "_current_action": "",
            "_dom_classes": [],
            "_model_module": "jupyter-matplotlib",
            "_model_module_version": "^0.11",
            "_model_name": "ToolbarModel",
            "_view_count": null,
            "_view_module": "jupyter-matplotlib",
            "_view_module_version": "^0.11",
            "_view_name": "ToolbarView",
            "button_style": "",
            "collapsed": true,
            "layout": "IPY_MODEL_8bf12178321d450eb74e57341a543eda",
            "orientation": "vertical",
            "toolitems": [
              [
                "Home",
                "Reset original view",
                "home",
                "home"
              ],
              [
                "Back",
                "Back to previous view",
                "arrow-left",
                "back"
              ],
              [
                "Forward",
                "Forward to next view",
                "arrow-right",
                "forward"
              ],
              [
                "Pan",
                "Left button pans, Right button zooms\nx/y fixes axis, CTRL fixes aspect",
                "arrows",
                "pan"
              ],
              [
                "Zoom",
                "Zoom to rectangle\nx/y fixes axis",
                "square-o",
                "zoom"
              ],
              [
                "Download",
                "Download plot",
                "floppy-o",
                "save_figure"
              ]
            ]
          }
        },
        "42ddf033bb0c4f589b018087e9121531": {
          "model_module": "@jupyter-widgets/controls",
          "model_module_version": "1.5.0",
          "model_name": "ProgressStyleModel",
          "state": {
            "_model_module": "@jupyter-widgets/controls",
            "_model_module_version": "1.5.0",
            "_model_name": "ProgressStyleModel",
            "_view_count": null,
            "_view_module": "@jupyter-widgets/base",
            "_view_module_version": "1.2.0",
            "_view_name": "StyleView",
            "bar_color": null,
            "description_width": ""
          }
        },
        "475440ea3abe4f51a9b28d859b5df9ae": {
          "model_module": "@jupyter-widgets/base",
          "model_module_version": "1.2.0",
          "model_name": "LayoutModel",
          "state": {
            "_model_module": "@jupyter-widgets/base",
            "_model_module_version": "1.2.0",
            "_model_name": "LayoutModel",
            "_view_count": null,
            "_view_module": "@jupyter-widgets/base",
            "_view_module_version": "1.2.0",
            "_view_name": "LayoutView",
            "align_content": null,
            "align_items": null,
            "align_self": null,
            "border": null,
            "bottom": null,
            "display": null,
            "flex": null,
            "flex_flow": null,
            "grid_area": null,
            "grid_auto_columns": null,
            "grid_auto_flow": null,
            "grid_auto_rows": null,
            "grid_column": null,
            "grid_gap": null,
            "grid_row": null,
            "grid_template_areas": null,
            "grid_template_columns": null,
            "grid_template_rows": null,
            "height": null,
            "justify_content": null,
            "justify_items": null,
            "left": null,
            "margin": null,
            "max_height": null,
            "max_width": null,
            "min_height": null,
            "min_width": null,
            "object_fit": null,
            "object_position": null,
            "order": null,
            "overflow": null,
            "overflow_x": null,
            "overflow_y": null,
            "padding": null,
            "right": null,
            "top": null,
            "visibility": null,
            "width": null
          }
        },
        "4ed7c1bc9e2948f68752e4ee503e0866": {
          "model_module": "jupyter-matplotlib",
          "model_module_version": "^0.11",
          "model_name": "MPLCanvasModel",
          "state": {
            "_cursor": "default",
            "_data_url": "data:image/png;base64,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",
            "_dom_classes": [],
            "_figure_label": "Figure 2",
            "_image_mode": "full",
            "_message": "",
            "_model_module": "jupyter-matplotlib",
            "_model_module_version": "^0.11",
            "_model_name": "MPLCanvasModel",
            "_rubberband_height": 0,
            "_rubberband_width": 0,
            "_rubberband_x": 0,
            "_rubberband_y": 0,
            "_size": [
              640,
              480
            ],
            "_view_count": null,
            "_view_module": "jupyter-matplotlib",
            "_view_module_version": "^0.11",
            "_view_name": "MPLCanvasView",
            "capture_scroll": false,
            "footer_visible": true,
            "header_visible": true,
            "layout": "IPY_MODEL_5d1fa7a19a6d4c7787c47fdbd9e95658",
            "pan_zoom_throttle": 33,
            "resizable": true,
            "toolbar": "IPY_MODEL_4266352e64ee46d6a98cc0d8ea946f5f",
            "toolbar_position": "left",
            "toolbar_visible": "fade-in-fade-out"
          }
        },
        "508dc567d2aa496c99c571e53906c53f": {
          "model_module": "@jupyter-widgets/controls",
          "model_module_version": "1.5.0",
          "model_name": "HBoxModel",
          "state": {
            "_dom_classes": [],
            "_model_module": "@jupyter-widgets/controls",
            "_model_module_version": "1.5.0",
            "_model_name": "HBoxModel",
            "_view_count": null,
            "_view_module": "@jupyter-widgets/controls",
            "_view_module_version": "1.5.0",
            "_view_name": "HBoxView",
            "box_style": "",
            "children": [
              "IPY_MODEL_270a72741a6645b8b17eef57daa1bae2",
              "IPY_MODEL_349df21d4d984f508ffc5f9b7cb8c394",
              "IPY_MODEL_f772c3d4e9864dc482f997cd56ae4fbc"
            ],
            "layout": "IPY_MODEL_772f986c182d4d7d934c1f771d48fecc"
          }
        },
        "5d1fa7a19a6d4c7787c47fdbd9e95658": {
          "model_module": "@jupyter-widgets/base",
          "model_module_version": "1.2.0",
          "model_name": "LayoutModel",
          "state": {
            "_model_module": "@jupyter-widgets/base",
            "_model_module_version": "1.2.0",
            "_model_name": "LayoutModel",
            "_view_count": null,
            "_view_module": "@jupyter-widgets/base",
            "_view_module_version": "1.2.0",
            "_view_name": "LayoutView",
            "align_content": null,
            "align_items": null,
            "align_self": null,
            "border": null,
            "bottom": null,
            "display": null,
            "flex": null,
            "flex_flow": null,
            "grid_area": null,
            "grid_auto_columns": null,
            "grid_auto_flow": null,
            "grid_auto_rows": null,
            "grid_column": null,
            "grid_gap": null,
            "grid_row": null,
            "grid_template_areas": null,
            "grid_template_columns": null,
            "grid_template_rows": null,
            "height": null,
            "justify_content": null,
            "justify_items": null,
            "left": null,
            "margin": null,
            "max_height": null,
            "max_width": null,
            "min_height": null,
            "min_width": null,
            "object_fit": null,
            "object_position": null,
            "order": null,
            "overflow": null,
            "overflow_x": null,
            "overflow_y": null,
            "padding": null,
            "right": null,
            "top": null,
            "visibility": null,
            "width": null
          }
        },
        "636c516515004f17ac5e0fb26b8c5708": {
          "model_module": "@jupyter-widgets/controls",
          "model_module_version": "1.5.0",
          "model_name": "DescriptionStyleModel",
          "state": {
            "_model_module": "@jupyter-widgets/controls",
            "_model_module_version": "1.5.0",
            "_model_name": "DescriptionStyleModel",
            "_view_count": null,
            "_view_module": "@jupyter-widgets/base",
            "_view_module_version": "1.2.0",
            "_view_name": "StyleView",
            "description_width": ""
          }
        },
        "70c4d09ac0e94aa0bbd71602006f693d": {
          "model_module": "@jupyter-widgets/controls",
          "model_module_version": "1.5.0",
          "model_name": "DescriptionStyleModel",
          "state": {
            "_model_module": "@jupyter-widgets/controls",
            "_model_module_version": "1.5.0",
            "_model_name": "DescriptionStyleModel",
            "_view_count": null,
            "_view_module": "@jupyter-widgets/base",
            "_view_module_version": "1.2.0",
            "_view_name": "StyleView",
            "description_width": ""
          }
        },
        "728d3e572d3d490abd54e0dd5765cfdd": {
          "model_module": "@jupyter-widgets/controls",
          "model_module_version": "1.5.0",
          "model_name": "DescriptionStyleModel",
          "state": {
            "_model_module": "@jupyter-widgets/controls",
            "_model_module_version": "1.5.0",
            "_model_name": "DescriptionStyleModel",
            "_view_count": null,
            "_view_module": "@jupyter-widgets/base",
            "_view_module_version": "1.2.0",
            "_view_name": "StyleView",
            "description_width": ""
          }
        },
        "772f986c182d4d7d934c1f771d48fecc": {
          "model_module": "@jupyter-widgets/base",
          "model_module_version": "1.2.0",
          "model_name": "LayoutModel",
          "state": {
            "_model_module": "@jupyter-widgets/base",
            "_model_module_version": "1.2.0",
            "_model_name": "LayoutModel",
            "_view_count": null,
            "_view_module": "@jupyter-widgets/base",
            "_view_module_version": "1.2.0",
            "_view_name": "LayoutView",
            "align_content": null,
            "align_items": null,
            "align_self": null,
            "border": null,
            "bottom": null,
            "display": null,
            "flex": null,
            "flex_flow": null,
            "grid_area": null,
            "grid_auto_columns": null,
            "grid_auto_flow": null,
            "grid_auto_rows": null,
            "grid_column": null,
            "grid_gap": null,
            "grid_row": null,
            "grid_template_areas": null,
            "grid_template_columns": null,
            "grid_template_rows": null,
            "height": null,
            "justify_content": null,
            "justify_items": null,
            "left": null,
            "margin": null,
            "max_height": null,
            "max_width": null,
            "min_height": null,
            "min_width": null,
            "object_fit": null,
            "object_position": null,
            "order": null,
            "overflow": null,
            "overflow_x": null,
            "overflow_y": null,
            "padding": null,
            "right": null,
            "top": null,
            "visibility": null,
            "width": null
          }
        },
        "78f5d5d681f04dcaa81c2a690bfb90ef": {
          "model_module": "@jupyter-widgets/controls",
          "model_module_version": "1.5.0",
          "model_name": "FloatProgressModel",
          "state": {
            "_dom_classes": [],
            "_model_module": "@jupyter-widgets/controls",
            "_model_module_version": "1.5.0",
            "_model_name": "FloatProgressModel",
            "_view_count": null,
            "_view_module": "@jupyter-widgets/controls",
            "_view_module_version": "1.5.0",
            "_view_name": "ProgressView",
            "bar_style": "success",
            "description": "",
            "description_tooltip": null,
            "layout": "IPY_MODEL_ae3a4fa37ba94dc3afb98b08c4b72f7d",
            "max": 50,
            "min": 0,
            "orientation": "horizontal",
            "style": "IPY_MODEL_b512221be4b54bb8ba7c6f5042e7990b",
            "value": 50
          }
        },
        "8bf12178321d450eb74e57341a543eda": {
          "model_module": "@jupyter-widgets/base",
          "model_module_version": "1.2.0",
          "model_name": "LayoutModel",
          "state": {
            "_model_module": "@jupyter-widgets/base",
            "_model_module_version": "1.2.0",
            "_model_name": "LayoutModel",
            "_view_count": null,
            "_view_module": "@jupyter-widgets/base",
            "_view_module_version": "1.2.0",
            "_view_name": "LayoutView",
            "align_content": null,
            "align_items": null,
            "align_self": null,
            "border": null,
            "bottom": null,
            "display": null,
            "flex": null,
            "flex_flow": null,
            "grid_area": null,
            "grid_auto_columns": null,
            "grid_auto_flow": null,
            "grid_auto_rows": null,
            "grid_column": null,
            "grid_gap": null,
            "grid_row": null,
            "grid_template_areas": null,
            "grid_template_columns": null,
            "grid_template_rows": null,
            "height": null,
            "justify_content": null,
            "justify_items": null,
            "left": null,
            "margin": null,
            "max_height": null,
            "max_width": null,
            "min_height": null,
            "min_width": null,
            "object_fit": null,
            "object_position": null,
            "order": null,
            "overflow": null,
            "overflow_x": null,
            "overflow_y": null,
            "padding": null,
            "right": null,
            "top": null,
            "visibility": null,
            "width": null
          }
        },
        "8d81eb2beb5d4d03afda63e3f0b06608": {
          "model_module": "@jupyter-widgets/controls",
          "model_module_version": "1.5.0",
          "model_name": "DescriptionStyleModel",
          "state": {
            "_model_module": "@jupyter-widgets/controls",
            "_model_module_version": "1.5.0",
            "_model_name": "DescriptionStyleModel",
            "_view_count": null,
            "_view_module": "@jupyter-widgets/base",
            "_view_module_version": "1.2.0",
            "_view_name": "StyleView",
            "description_width": ""
          }
        },
        "8f3793e53d3e4af29bc3e6988412205e": {
          "model_module": "@jupyter-widgets/controls",
          "model_module_version": "1.5.0",
          "model_name": "ProgressStyleModel",
          "state": {
            "_model_module": "@jupyter-widgets/controls",
            "_model_module_version": "1.5.0",
            "_model_name": "ProgressStyleModel",
            "_view_count": null,
            "_view_module": "@jupyter-widgets/base",
            "_view_module_version": "1.2.0",
            "_view_name": "StyleView",
            "bar_color": null,
            "description_width": ""
          }
        },
        "9224b618068748f2b4d0446aa0004724": {
          "model_module": "@jupyter-widgets/controls",
          "model_module_version": "1.5.0",
          "model_name": "DescriptionStyleModel",
          "state": {
            "_model_module": "@jupyter-widgets/controls",
            "_model_module_version": "1.5.0",
            "_model_name": "DescriptionStyleModel",
            "_view_count": null,
            "_view_module": "@jupyter-widgets/base",
            "_view_module_version": "1.2.0",
            "_view_name": "StyleView",
            "description_width": ""
          }
        },
        "92a900b4143a4c68b4df2cc53b9aebf8": {
          "model_module": "@jupyter-widgets/controls",
          "model_module_version": "1.5.0",
          "model_name": "HTMLModel",
          "state": {
            "_dom_classes": [],
            "_model_module": "@jupyter-widgets/controls",
            "_model_module_version": "1.5.0",
            "_model_name": "HTMLModel",
            "_view_count": null,
            "_view_module": "@jupyter-widgets/controls",
            "_view_module_version": "1.5.0",
            "_view_name": "HTMLView",
            "description": "",
            "description_tooltip": null,
            "layout": "IPY_MODEL_d348cb596caf407dad206425d093c51a",
            "placeholder": "​",
            "style": "IPY_MODEL_636c516515004f17ac5e0fb26b8c5708",
            "value": " 200/200 [00:21&lt;00:00,  8.90it/s]"
          }
        },
        "961994907c7c4696a1cbb236e6399bab": {
          "model_module": "@jupyter-widgets/base",
          "model_module_version": "1.2.0",
          "model_name": "LayoutModel",
          "state": {
            "_model_module": "@jupyter-widgets/base",
            "_model_module_version": "1.2.0",
            "_model_name": "LayoutModel",
            "_view_count": null,
            "_view_module": "@jupyter-widgets/base",
            "_view_module_version": "1.2.0",
            "_view_name": "LayoutView",
            "align_content": null,
            "align_items": null,
            "align_self": null,
            "border": null,
            "bottom": null,
            "display": null,
            "flex": null,
            "flex_flow": null,
            "grid_area": null,
            "grid_auto_columns": null,
            "grid_auto_flow": null,
            "grid_auto_rows": null,
            "grid_column": null,
            "grid_gap": null,
            "grid_row": null,
            "grid_template_areas": null,
            "grid_template_columns": null,
            "grid_template_rows": null,
            "height": null,
            "justify_content": null,
            "justify_items": null,
            "left": null,
            "margin": null,
            "max_height": null,
            "max_width": null,
            "min_height": null,
            "min_width": null,
            "object_fit": null,
            "object_position": null,
            "order": null,
            "overflow": null,
            "overflow_x": null,
            "overflow_y": null,
            "padding": null,
            "right": null,
            "top": null,
            "visibility": null,
            "width": null
          }
        },
        "a472b9459c9641e99019790ec6e700b9": {
          "model_module": "@jupyter-widgets/base",
          "model_module_version": "1.2.0",
          "model_name": "LayoutModel",
          "state": {
            "_model_module": "@jupyter-widgets/base",
            "_model_module_version": "1.2.0",
            "_model_name": "LayoutModel",
            "_view_count": null,
            "_view_module": "@jupyter-widgets/base",
            "_view_module_version": "1.2.0",
            "_view_name": "LayoutView",
            "align_content": null,
            "align_items": null,
            "align_self": null,
            "border": null,
            "bottom": null,
            "display": null,
            "flex": null,
            "flex_flow": null,
            "grid_area": null,
            "grid_auto_columns": null,
            "grid_auto_flow": null,
            "grid_auto_rows": null,
            "grid_column": null,
            "grid_gap": null,
            "grid_row": null,
            "grid_template_areas": null,
            "grid_template_columns": null,
            "grid_template_rows": null,
            "height": null,
            "justify_content": null,
            "justify_items": null,
            "left": null,
            "margin": null,
            "max_height": null,
            "max_width": null,
            "min_height": null,
            "min_width": null,
            "object_fit": null,
            "object_position": null,
            "order": null,
            "overflow": null,
            "overflow_x": null,
            "overflow_y": null,
            "padding": null,
            "right": null,
            "top": null,
            "visibility": null,
            "width": null
          }
        },
        "a97f708302b0473c97149fedc8578d4b": {
          "model_module": "@jupyter-widgets/controls",
          "model_module_version": "1.5.0",
          "model_name": "FloatProgressModel",
          "state": {
            "_dom_classes": [],
            "_model_module": "@jupyter-widgets/controls",
            "_model_module_version": "1.5.0",
            "_model_name": "FloatProgressModel",
            "_view_count": null,
            "_view_module": "@jupyter-widgets/controls",
            "_view_module_version": "1.5.0",
            "_view_name": "ProgressView",
            "bar_style": "success",
            "description": "",
            "description_tooltip": null,
            "layout": "IPY_MODEL_475440ea3abe4f51a9b28d859b5df9ae",
            "max": 200,
            "min": 0,
            "orientation": "horizontal",
            "style": "IPY_MODEL_42ddf033bb0c4f589b018087e9121531",
            "value": 200
          }
        },
        "ae3a4fa37ba94dc3afb98b08c4b72f7d": {
          "model_module": "@jupyter-widgets/base",
          "model_module_version": "1.2.0",
          "model_name": "LayoutModel",
          "state": {
            "_model_module": "@jupyter-widgets/base",
            "_model_module_version": "1.2.0",
            "_model_name": "LayoutModel",
            "_view_count": null,
            "_view_module": "@jupyter-widgets/base",
            "_view_module_version": "1.2.0",
            "_view_name": "LayoutView",
            "align_content": null,
            "align_items": null,
            "align_self": null,
            "border": null,
            "bottom": null,
            "display": null,
            "flex": null,
            "flex_flow": null,
            "grid_area": null,
            "grid_auto_columns": null,
            "grid_auto_flow": null,
            "grid_auto_rows": null,
            "grid_column": null,
            "grid_gap": null,
            "grid_row": null,
            "grid_template_areas": null,
            "grid_template_columns": null,
            "grid_template_rows": null,
            "height": null,
            "justify_content": null,
            "justify_items": null,
            "left": null,
            "margin": null,
            "max_height": null,
            "max_width": null,
            "min_height": null,
            "min_width": null,
            "object_fit": null,
            "object_position": null,
            "order": null,
            "overflow": null,
            "overflow_x": null,
            "overflow_y": null,
            "padding": null,
            "right": null,
            "top": null,
            "visibility": null,
            "width": null
          }
        },
        "b25cb041806644da88e0dbaf1254bc2c": {
          "model_module": "@jupyter-widgets/controls",
          "model_module_version": "1.5.0",
          "model_name": "HBoxModel",
          "state": {
            "_dom_classes": [],
            "_model_module": "@jupyter-widgets/controls",
            "_model_module_version": "1.5.0",
            "_model_name": "HBoxModel",
            "_view_count": null,
            "_view_module": "@jupyter-widgets/controls",
            "_view_module_version": "1.5.0",
            "_view_name": "HBoxView",
            "box_style": "",
            "children": [
              "IPY_MODEL_1204dd370d174911af41597f33d75a94",
              "IPY_MODEL_78f5d5d681f04dcaa81c2a690bfb90ef",
              "IPY_MODEL_bfca4175d66d4ca394e5fabb693c8c22"
            ],
            "layout": "IPY_MODEL_a472b9459c9641e99019790ec6e700b9"
          }
        },
        "b512221be4b54bb8ba7c6f5042e7990b": {
          "model_module": "@jupyter-widgets/controls",
          "model_module_version": "1.5.0",
          "model_name": "ProgressStyleModel",
          "state": {
            "_model_module": "@jupyter-widgets/controls",
            "_model_module_version": "1.5.0",
            "_model_name": "ProgressStyleModel",
            "_view_count": null,
            "_view_module": "@jupyter-widgets/base",
            "_view_module_version": "1.2.0",
            "_view_name": "StyleView",
            "bar_color": null,
            "description_width": ""
          }
        },
        "bfca4175d66d4ca394e5fabb693c8c22": {
          "model_module": "@jupyter-widgets/controls",
          "model_module_version": "1.5.0",
          "model_name": "HTMLModel",
          "state": {
            "_dom_classes": [],
            "_model_module": "@jupyter-widgets/controls",
            "_model_module_version": "1.5.0",
            "_model_name": "HTMLModel",
            "_view_count": null,
            "_view_module": "@jupyter-widgets/controls",
            "_view_module_version": "1.5.0",
            "_view_name": "HTMLView",
            "description": "",
            "description_tooltip": null,
            "layout": "IPY_MODEL_ce17923b1876475892bcfd1472ea68f7",
            "placeholder": "​",
            "style": "IPY_MODEL_196f1eb34f234cda9af2b7e8bf231ebc",
            "value": " 50/50 [00:01&lt;00:00, 30.67it/s]"
          }
        },
        "ce17923b1876475892bcfd1472ea68f7": {
          "model_module": "@jupyter-widgets/base",
          "model_module_version": "1.2.0",
          "model_name": "LayoutModel",
          "state": {
            "_model_module": "@jupyter-widgets/base",
            "_model_module_version": "1.2.0",
            "_model_name": "LayoutModel",
            "_view_count": null,
            "_view_module": "@jupyter-widgets/base",
            "_view_module_version": "1.2.0",
            "_view_name": "LayoutView",
            "align_content": null,
            "align_items": null,
            "align_self": null,
            "border": null,
            "bottom": null,
            "display": null,
            "flex": null,
            "flex_flow": null,
            "grid_area": null,
            "grid_auto_columns": null,
            "grid_auto_flow": null,
            "grid_auto_rows": null,
            "grid_column": null,
            "grid_gap": null,
            "grid_row": null,
            "grid_template_areas": null,
            "grid_template_columns": null,
            "grid_template_rows": null,
            "height": null,
            "justify_content": null,
            "justify_items": null,
            "left": null,
            "margin": null,
            "max_height": null,
            "max_width": null,
            "min_height": null,
            "min_width": null,
            "object_fit": null,
            "object_position": null,
            "order": null,
            "overflow": null,
            "overflow_x": null,
            "overflow_y": null,
            "padding": null,
            "right": null,
            "top": null,
            "visibility": null,
            "width": null
          }
        },
        "d348cb596caf407dad206425d093c51a": {
          "model_module": "@jupyter-widgets/base",
          "model_module_version": "1.2.0",
          "model_name": "LayoutModel",
          "state": {
            "_model_module": "@jupyter-widgets/base",
            "_model_module_version": "1.2.0",
            "_model_name": "LayoutModel",
            "_view_count": null,
            "_view_module": "@jupyter-widgets/base",
            "_view_module_version": "1.2.0",
            "_view_name": "LayoutView",
            "align_content": null,
            "align_items": null,
            "align_self": null,
            "border": null,
            "bottom": null,
            "display": null,
            "flex": null,
            "flex_flow": null,
            "grid_area": null,
            "grid_auto_columns": null,
            "grid_auto_flow": null,
            "grid_auto_rows": null,
            "grid_column": null,
            "grid_gap": null,
            "grid_row": null,
            "grid_template_areas": null,
            "grid_template_columns": null,
            "grid_template_rows": null,
            "height": null,
            "justify_content": null,
            "justify_items": null,
            "left": null,
            "margin": null,
            "max_height": null,
            "max_width": null,
            "min_height": null,
            "min_width": null,
            "object_fit": null,
            "object_position": null,
            "order": null,
            "overflow": null,
            "overflow_x": null,
            "overflow_y": null,
            "padding": null,
            "right": null,
            "top": null,
            "visibility": null,
            "width": null
          }
        },
        "de0548eb605f4ea4b478a4530105b325": {
          "model_module": "@jupyter-widgets/base",
          "model_module_version": "1.2.0",
          "model_name": "LayoutModel",
          "state": {
            "_model_module": "@jupyter-widgets/base",
            "_model_module_version": "1.2.0",
            "_model_name": "LayoutModel",
            "_view_count": null,
            "_view_module": "@jupyter-widgets/base",
            "_view_module_version": "1.2.0",
            "_view_name": "LayoutView",
            "align_content": null,
            "align_items": null,
            "align_self": null,
            "border": null,
            "bottom": null,
            "display": null,
            "flex": null,
            "flex_flow": null,
            "grid_area": null,
            "grid_auto_columns": null,
            "grid_auto_flow": null,
            "grid_auto_rows": null,
            "grid_column": null,
            "grid_gap": null,
            "grid_row": null,
            "grid_template_areas": null,
            "grid_template_columns": null,
            "grid_template_rows": null,
            "height": null,
            "justify_content": null,
            "justify_items": null,
            "left": null,
            "margin": null,
            "max_height": null,
            "max_width": null,
            "min_height": null,
            "min_width": null,
            "object_fit": null,
            "object_position": null,
            "order": null,
            "overflow": null,
            "overflow_x": null,
            "overflow_y": null,
            "padding": null,
            "right": null,
            "top": null,
            "visibility": null,
            "width": null
          }
        },
        "df358938e02348fa9f1de29927d62c5f": {
          "model_module": "@jupyter-widgets/base",
          "model_module_version": "1.2.0",
          "model_name": "LayoutModel",
          "state": {
            "_model_module": "@jupyter-widgets/base",
            "_model_module_version": "1.2.0",
            "_model_name": "LayoutModel",
            "_view_count": null,
            "_view_module": "@jupyter-widgets/base",
            "_view_module_version": "1.2.0",
            "_view_name": "LayoutView",
            "align_content": null,
            "align_items": null,
            "align_self": null,
            "border": null,
            "bottom": null,
            "display": null,
            "flex": null,
            "flex_flow": null,
            "grid_area": null,
            "grid_auto_columns": null,
            "grid_auto_flow": null,
            "grid_auto_rows": null,
            "grid_column": null,
            "grid_gap": null,
            "grid_row": null,
            "grid_template_areas": null,
            "grid_template_columns": null,
            "grid_template_rows": null,
            "height": null,
            "justify_content": null,
            "justify_items": null,
            "left": null,
            "margin": null,
            "max_height": null,
            "max_width": null,
            "min_height": null,
            "min_width": null,
            "object_fit": null,
            "object_position": null,
            "order": null,
            "overflow": null,
            "overflow_x": null,
            "overflow_y": null,
            "padding": null,
            "right": null,
            "top": null,
            "visibility": null,
            "width": null
          }
        },
        "e3c4413d7e1846e19ddf43668ffeb7ab": {
          "model_module": "@jupyter-widgets/controls",
          "model_module_version": "1.5.0",
          "model_name": "HBoxModel",
          "state": {
            "_dom_classes": [],
            "_model_module": "@jupyter-widgets/controls",
            "_model_module_version": "1.5.0",
            "_model_name": "HBoxModel",
            "_view_count": null,
            "_view_module": "@jupyter-widgets/controls",
            "_view_module_version": "1.5.0",
            "_view_name": "HBoxView",
            "box_style": "",
            "children": [
              "IPY_MODEL_32731e0a54f94fc5825e060c7156f3b9",
              "IPY_MODEL_a97f708302b0473c97149fedc8578d4b",
              "IPY_MODEL_92a900b4143a4c68b4df2cc53b9aebf8"
            ],
            "layout": "IPY_MODEL_961994907c7c4696a1cbb236e6399bab"
          }
        },
        "f1d27aa306264dac96f19b02f496b06f": {
          "model_module": "@jupyter-widgets/base",
          "model_module_version": "1.2.0",
          "model_name": "LayoutModel",
          "state": {
            "_model_module": "@jupyter-widgets/base",
            "_model_module_version": "1.2.0",
            "_model_name": "LayoutModel",
            "_view_count": null,
            "_view_module": "@jupyter-widgets/base",
            "_view_module_version": "1.2.0",
            "_view_name": "LayoutView",
            "align_content": null,
            "align_items": null,
            "align_self": null,
            "border": null,
            "bottom": null,
            "display": null,
            "flex": null,
            "flex_flow": null,
            "grid_area": null,
            "grid_auto_columns": null,
            "grid_auto_flow": null,
            "grid_auto_rows": null,
            "grid_column": null,
            "grid_gap": null,
            "grid_row": null,
            "grid_template_areas": null,
            "grid_template_columns": null,
            "grid_template_rows": null,
            "height": null,
            "justify_content": null,
            "justify_items": null,
            "left": null,
            "margin": null,
            "max_height": null,
            "max_width": null,
            "min_height": null,
            "min_width": null,
            "object_fit": null,
            "object_position": null,
            "order": null,
            "overflow": null,
            "overflow_x": null,
            "overflow_y": null,
            "padding": null,
            "right": null,
            "top": null,
            "visibility": null,
            "width": null
          }
        },
        "f772c3d4e9864dc482f997cd56ae4fbc": {
          "model_module": "@jupyter-widgets/controls",
          "model_module_version": "1.5.0",
          "model_name": "HTMLModel",
          "state": {
            "_dom_classes": [],
            "_model_module": "@jupyter-widgets/controls",
            "_model_module_version": "1.5.0",
            "_model_name": "HTMLModel",
            "_view_count": null,
            "_view_module": "@jupyter-widgets/controls",
            "_view_module_version": "1.5.0",
            "_view_name": "HTMLView",
            "description": "",
            "description_tooltip": null,
            "layout": "IPY_MODEL_df358938e02348fa9f1de29927d62c5f",
            "placeholder": "​",
            "style": "IPY_MODEL_8d81eb2beb5d4d03afda63e3f0b06608",
            "value": " 50/50 [00:01&lt;00:00, 35.22it/s]"
          }
        },
        "fc3b76ec8cea472baa3e250cf1c3775f": {
          "model_module": "@jupyter-widgets/base",
          "model_module_version": "1.2.0",
          "model_name": "LayoutModel",
          "state": {
            "_model_module": "@jupyter-widgets/base",
            "_model_module_version": "1.2.0",
            "_model_name": "LayoutModel",
            "_view_count": null,
            "_view_module": "@jupyter-widgets/base",
            "_view_module_version": "1.2.0",
            "_view_name": "LayoutView",
            "align_content": null,
            "align_items": null,
            "align_self": null,
            "border": null,
            "bottom": null,
            "display": null,
            "flex": null,
            "flex_flow": null,
            "grid_area": null,
            "grid_auto_columns": null,
            "grid_auto_flow": null,
            "grid_auto_rows": null,
            "grid_column": null,
            "grid_gap": null,
            "grid_row": null,
            "grid_template_areas": null,
            "grid_template_columns": null,
            "grid_template_rows": null,
            "height": null,
            "justify_content": null,
            "justify_items": null,
            "left": null,
            "margin": null,
            "max_height": null,
            "max_width": null,
            "min_height": null,
            "min_width": null,
            "object_fit": null,
            "object_position": null,
            "order": null,
            "overflow": null,
            "overflow_x": null,
            "overflow_y": null,
            "padding": null,
            "right": null,
            "top": null,
            "visibility": null,
            "width": null
          }
        }
      }
    }
  },
  "nbformat": 4,
  "nbformat_minor": 0
}
